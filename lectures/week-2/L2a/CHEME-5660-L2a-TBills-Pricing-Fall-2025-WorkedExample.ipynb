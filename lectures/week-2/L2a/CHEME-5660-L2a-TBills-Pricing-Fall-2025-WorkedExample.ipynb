{
 "cells": [
  {
   "cell_type": "markdown",
   "id": "bfb6f9c6-2f60-41e1-80b8-fa022162f100",
   "metadata": {},
   "source": [
    "# Pricing Zero-Coupon Treasury Bills Using NPV\n",
    "In this example, we will compute the price of zero-coupon United States Treasury Bills, or __T-bills__ using the Net Present Value (NPV) approach.\n",
    "\n",
    "__Learning Objectives:__ After completing this example, you should be able to:\n",
    "1. **Price zero-coupon T-bills** using the Net Present Value (NPV) approach with discount rates\n",
    "2. **Understand the inverse relationship** between T-bill prices and yields (Malkiel's Theorem 1)\n",
    "3. **Interpret cash flow structures** for zero-coupon securities\n",
    "4. **Compare computed prices** with market auction prices and analyze discrepancies\n",
    "\n",
    "__What we'll do:__ We've downloaded a dataset of T-bill auction data (approximately 100 T-bills with different maturities) from 2025. We will use the discount rate (in this context called the investment rate) from the dataset to compute the auction price of the T-bill, and then we'll compare our computed price with the actual auction price.\n",
    "\n",
    "Let's get started!\n",
    "___"
   ]
  },
  {
   "cell_type": "markdown",
   "id": "068183be-9396-4c77-b919-befabcdf46d2",
   "metadata": {
    "tags": []
   },
   "source": [
    "## Setup, Data, and Prerequisites\n",
    "We set up the computational environment by including the `Include.jl` file, loading any needed resources, such as sample datasets, and setting up any required constants. \n",
    "\n",
    "> The [include(...) function](https://docs.julialang.org/en/v1/base/base/#include) is a convenient way to load Julia code from another file. The `Include.jl` file is a Julia file that loads external packages, and various functions that we will use in the exercise. It checks for a `Manifest.toml` file; if it finds one, packages are loaded. Otherwise, packages are downloaded and then loaded."
   ]
  },
  {
   "cell_type": "code",
   "execution_count": 4,
   "id": "a19f9212-58b6-4703-8278-21d64dc7d8e6",
   "metadata": {
    "tags": []
   },
   "outputs": [],
   "source": [
    "include(joinpath(@__DIR__, \"Include.jl\")); # this sets up the environment, we'll do this all the time, on everything we do"
   ]
  },
  {
   "cell_type": "markdown",
   "id": "aee5e457",
   "metadata": {},
   "source": [
    "For additional information on functions and types used in this material, see the [Julia programming language documentation](https://docs.julialang.org/en/v1/) and the [VLQuantitativeFinancePackage.jl documentation](https://github.com/varnerlab/VLQuantitativeFinancePackage.jl). "
   ]
  },
  {
   "cell_type": "markdown",
   "id": "c042b597-6837-4b33-8fac-bb6fab45e72f",
   "metadata": {},
   "source": [
    "### Data\n",
    "We'll explore `T-bill` prices from United States Treasury auctions between May and August of 2025 downloaded as a `CSV` file using the [Auction query functionality of TreasuryDirect.gov](https://www.treasurydirect.gov/auctions/auction-query/). \n",
    "\n",
    "We load the `CSV` dataset using a [local `MyTreasuryBillDataSet()` function](src/Files.jl), which returns the auction data as [a `DataFrame` instance](https://dataframes.juliadata.org/stable/). We store the data in the `data::DataFrame` variable."
   ]
  },
  {
   "cell_type": "code",
   "execution_count": 64,
   "id": "25da4a48-62fc-45ba-ae7c-64b97313c8aa",
   "metadata": {
    "tags": []
   },
   "outputs": [
    {
     "data": {
      "text/html": [
       "<div><div style = \"float: left;\"><span>96×8 DataFrame</span></div><div style = \"float: right;\"><span style = \"font-style: italic;\">71 rows omitted</span></div><div style = \"clear: both;\"></div></div><div class = \"data-frame\" style = \"overflow-x: scroll;\"><table class = \"data-frame\" style = \"margin-bottom: 6px;\"><thead><tr class = \"header\"><th class = \"rowNumber\" style = \"font-weight: bold; text-align: right;\">Row</th><th style = \"text-align: left;\">CUSIP</th><th style = \"text-align: left;\">Security Type</th><th style = \"text-align: left;\">Security Term</th><th style = \"text-align: left;\">Auction Date</th><th style = \"text-align: left;\">Issue Date</th><th style = \"text-align: left;\">Maturity Date</th><th style = \"text-align: left;\">Price</th><th style = \"text-align: left;\">Investment Rate</th></tr><tr class = \"subheader headerLastRow\"><th class = \"rowNumber\" style = \"font-weight: bold; text-align: right;\"></th><th title = \"String15\" style = \"text-align: left;\">String15</th><th title = \"String7\" style = \"text-align: left;\">String7</th><th title = \"String7\" style = \"text-align: left;\">String7</th><th title = \"String15\" style = \"text-align: left;\">String15</th><th title = \"String15\" style = \"text-align: left;\">String15</th><th title = \"String15\" style = \"text-align: left;\">String15</th><th title = \"Float64\" style = \"text-align: left;\">Float64</th><th title = \"Float64\" style = \"text-align: left;\">Float64</th></tr></thead><tbody><tr><td class = \"rowNumber\" style = \"font-weight: bold; text-align: right;\">1</td><td style = \"text-align: left;\">912797QW0</td><td style = \"text-align: left;\">Bill</td><td style = \"text-align: left;\">4-Week</td><td style = \"text-align: left;\">08/28/2025</td><td style = \"text-align: left;\">09/02/2025</td><td style = \"text-align: left;\">09/30/2025</td><td style = \"text-align: right;\">99.6698</td><td style = \"text-align: right;\">0.04318</td></tr><tr><td class = \"rowNumber\" style = \"font-weight: bold; text-align: right;\">2</td><td style = \"text-align: left;\">912797RE9</td><td style = \"text-align: left;\">Bill</td><td style = \"text-align: left;\">8-Week</td><td style = \"text-align: left;\">08/28/2025</td><td style = \"text-align: left;\">09/02/2025</td><td style = \"text-align: left;\">10/28/2025</td><td style = \"text-align: right;\">99.3552</td><td style = \"text-align: right;\">0.0423</td></tr><tr><td class = \"rowNumber\" style = \"font-weight: bold; text-align: right;\">3</td><td style = \"text-align: left;\">912797RZ2</td><td style = \"text-align: left;\">Bill</td><td style = \"text-align: left;\">17-Week</td><td style = \"text-align: left;\">08/27/2025</td><td style = \"text-align: left;\">09/02/2025</td><td style = \"text-align: left;\">12/30/2025</td><td style = \"text-align: right;\">98.6712</td><td style = \"text-align: right;\">0.04131</td></tr><tr><td class = \"rowNumber\" style = \"font-weight: bold; text-align: right;\">4</td><td style = \"text-align: left;\">912797QE0</td><td style = \"text-align: left;\">Bill</td><td style = \"text-align: left;\">6-Week</td><td style = \"text-align: left;\">08/26/2025</td><td style = \"text-align: left;\">08/28/2025</td><td style = \"text-align: left;\">10/09/2025</td><td style = \"text-align: right;\">99.5088</td><td style = \"text-align: right;\">0.0429</td></tr><tr><td class = \"rowNumber\" style = \"font-weight: bold; text-align: right;\">5</td><td style = \"text-align: left;\">912797NL7</td><td style = \"text-align: left;\">Bill</td><td style = \"text-align: left;\">13-Week</td><td style = \"text-align: left;\">08/25/2025</td><td style = \"text-align: left;\">08/28/2025</td><td style = \"text-align: left;\">11/28/2025</td><td style = \"text-align: right;\">98.9522</td><td style = \"text-align: right;\">0.04201</td></tr><tr><td class = \"rowNumber\" style = \"font-weight: bold; text-align: right;\">6</td><td style = \"text-align: left;\">912797RU3</td><td style = \"text-align: left;\">Bill</td><td style = \"text-align: left;\">26-Week</td><td style = \"text-align: left;\">08/25/2025</td><td style = \"text-align: left;\">08/28/2025</td><td style = \"text-align: left;\">02/26/2026</td><td style = \"text-align: right;\">98.0208</td><td style = \"text-align: right;\">0.0405</td></tr><tr><td class = \"rowNumber\" style = \"font-weight: bold; text-align: right;\">7</td><td style = \"text-align: left;\">912797QV2</td><td style = \"text-align: left;\">Bill</td><td style = \"text-align: left;\">4-Week</td><td style = \"text-align: left;\">08/21/2025</td><td style = \"text-align: left;\">08/26/2025</td><td style = \"text-align: left;\">09/23/2025</td><td style = \"text-align: right;\">99.6656</td><td style = \"text-align: right;\">0.04374</td></tr><tr><td class = \"rowNumber\" style = \"font-weight: bold; text-align: right;\">8</td><td style = \"text-align: left;\">912797RD1</td><td style = \"text-align: left;\">Bill</td><td style = \"text-align: left;\">8-Week</td><td style = \"text-align: left;\">08/21/2025</td><td style = \"text-align: left;\">08/26/2025</td><td style = \"text-align: left;\">10/21/2025</td><td style = \"text-align: right;\">99.3436</td><td style = \"text-align: right;\">0.04307</td></tr><tr><td class = \"rowNumber\" style = \"font-weight: bold; text-align: right;\">9</td><td style = \"text-align: left;\">912797RY5</td><td style = \"text-align: left;\">Bill</td><td style = \"text-align: left;\">17-Week</td><td style = \"text-align: left;\">08/20/2025</td><td style = \"text-align: left;\">08/26/2025</td><td style = \"text-align: left;\">12/23/2025</td><td style = \"text-align: right;\">98.6612</td><td style = \"text-align: right;\">0.04162</td></tr><tr><td class = \"rowNumber\" style = \"font-weight: bold; text-align: right;\">10</td><td style = \"text-align: left;\">912797MS3</td><td style = \"text-align: left;\">Bill</td><td style = \"text-align: left;\">6-Week</td><td style = \"text-align: left;\">08/19/2025</td><td style = \"text-align: left;\">08/21/2025</td><td style = \"text-align: left;\">10/02/2025</td><td style = \"text-align: right;\">99.5048</td><td style = \"text-align: right;\">0.04325</td></tr><tr><td class = \"rowNumber\" style = \"font-weight: bold; text-align: right;\">11</td><td style = \"text-align: left;\">912797QR1</td><td style = \"text-align: left;\">Bill</td><td style = \"text-align: left;\">13-Week</td><td style = \"text-align: left;\">08/18/2025</td><td style = \"text-align: left;\">08/21/2025</td><td style = \"text-align: left;\">11/20/2025</td><td style = \"text-align: right;\">98.956</td><td style = \"text-align: right;\">0.04232</td></tr><tr><td class = \"rowNumber\" style = \"font-weight: bold; text-align: right;\">12</td><td style = \"text-align: left;\">912797PM3</td><td style = \"text-align: left;\">Bill</td><td style = \"text-align: left;\">26-Week</td><td style = \"text-align: left;\">08/18/2025</td><td style = \"text-align: left;\">08/21/2025</td><td style = \"text-align: left;\">02/19/2026</td><td style = \"text-align: right;\">98.0056</td><td style = \"text-align: right;\">0.04081</td></tr><tr><td class = \"rowNumber\" style = \"font-weight: bold; text-align: right;\">13</td><td style = \"text-align: left;\">912797QU4</td><td style = \"text-align: left;\">Bill</td><td style = \"text-align: left;\">4-Week</td><td style = \"text-align: left;\">08/14/2025</td><td style = \"text-align: left;\">08/19/2025</td><td style = \"text-align: left;\">09/16/2025</td><td style = \"text-align: right;\">99.6671</td><td style = \"text-align: right;\">0.04354</td></tr><tr><td style = \"text-align: right;\">&vellip;</td><td style = \"text-align: right;\">&vellip;</td><td style = \"text-align: right;\">&vellip;</td><td style = \"text-align: right;\">&vellip;</td><td style = \"text-align: right;\">&vellip;</td><td style = \"text-align: right;\">&vellip;</td><td style = \"text-align: right;\">&vellip;</td><td style = \"text-align: right;\">&vellip;</td><td style = \"text-align: right;\">&vellip;</td></tr><tr><td class = \"rowNumber\" style = \"font-weight: bold; text-align: right;\">85</td><td style = \"text-align: left;\">912797QC4</td><td style = \"text-align: left;\">Bill</td><td style = \"text-align: left;\">8-Week</td><td style = \"text-align: left;\">05/29/2025</td><td style = \"text-align: left;\">06/03/2025</td><td style = \"text-align: left;\">07/29/2025</td><td style = \"text-align: right;\">99.3428</td><td style = \"text-align: right;\">0.04312</td></tr><tr><td class = \"rowNumber\" style = \"font-weight: bold; text-align: right;\">86</td><td style = \"text-align: left;\">912797QW0</td><td style = \"text-align: left;\">Bill</td><td style = \"text-align: left;\">17-Week</td><td style = \"text-align: left;\">05/28/2025</td><td style = \"text-align: left;\">06/03/2025</td><td style = \"text-align: left;\">09/30/2025</td><td style = \"text-align: right;\">98.6051</td><td style = \"text-align: right;\">0.04339</td></tr><tr><td class = \"rowNumber\" style = \"font-weight: bold; text-align: right;\">87</td><td style = \"text-align: left;\">912797LW5</td><td style = \"text-align: left;\">Bill</td><td style = \"text-align: left;\">6-Week</td><td style = \"text-align: left;\">05/27/2025</td><td style = \"text-align: left;\">05/29/2025</td><td style = \"text-align: left;\">07/10/2025</td><td style = \"text-align: right;\">99.5059</td><td style = \"text-align: right;\">0.04315</td></tr><tr><td class = \"rowNumber\" style = \"font-weight: bold; text-align: right;\">88</td><td style = \"text-align: left;\">912797PQ4</td><td style = \"text-align: left;\">Bill</td><td style = \"text-align: left;\">13-Week</td><td style = \"text-align: left;\">05/27/2025</td><td style = \"text-align: left;\">05/29/2025</td><td style = \"text-align: left;\">08/28/2025</td><td style = \"text-align: right;\">98.9244</td><td style = \"text-align: right;\">0.04361</td></tr><tr><td class = \"rowNumber\" style = \"font-weight: bold; text-align: right;\">89</td><td style = \"text-align: left;\">912797NL7</td><td style = \"text-align: left;\">Bill</td><td style = \"text-align: left;\">26-Week</td><td style = \"text-align: left;\">05/27/2025</td><td style = \"text-align: left;\">05/29/2025</td><td style = \"text-align: left;\">11/28/2025</td><td style = \"text-align: right;\">97.8853</td><td style = \"text-align: right;\">0.04309</td></tr><tr><td class = \"rowNumber\" style = \"font-weight: bold; text-align: right;\">90</td><td style = \"text-align: left;\">912797PT8</td><td style = \"text-align: left;\">Bill</td><td style = \"text-align: left;\">4-Week</td><td style = \"text-align: left;\">05/22/2025</td><td style = \"text-align: left;\">05/27/2025</td><td style = \"text-align: left;\">06/24/2025</td><td style = \"text-align: right;\">99.6718</td><td style = \"text-align: right;\">0.04293</td></tr><tr><td class = \"rowNumber\" style = \"font-weight: bold; text-align: right;\">91</td><td style = \"text-align: left;\">912797QB6</td><td style = \"text-align: left;\">Bill</td><td style = \"text-align: left;\">8-Week</td><td style = \"text-align: left;\">05/22/2025</td><td style = \"text-align: left;\">05/27/2025</td><td style = \"text-align: left;\">07/22/2025</td><td style = \"text-align: right;\">99.3412</td><td style = \"text-align: right;\">0.04322</td></tr><tr><td class = \"rowNumber\" style = \"font-weight: bold; text-align: right;\">92</td><td style = \"text-align: left;\">912797QV2</td><td style = \"text-align: left;\">Bill</td><td style = \"text-align: left;\">17-Week</td><td style = \"text-align: left;\">05/21/2025</td><td style = \"text-align: left;\">05/27/2025</td><td style = \"text-align: left;\">09/23/2025</td><td style = \"text-align: right;\">98.6017</td><td style = \"text-align: right;\">0.0435</td></tr><tr><td class = \"rowNumber\" style = \"font-weight: bold; text-align: right;\">93</td><td style = \"text-align: left;\">912797NX1</td><td style = \"text-align: left;\">Bill</td><td style = \"text-align: left;\">6-Week</td><td style = \"text-align: left;\">05/20/2025</td><td style = \"text-align: left;\">05/22/2025</td><td style = \"text-align: left;\">07/03/2025</td><td style = \"text-align: right;\">99.5059</td><td style = \"text-align: right;\">0.04315</td></tr><tr><td class = \"rowNumber\" style = \"font-weight: bold; text-align: right;\">94</td><td style = \"text-align: left;\">912797PP6</td><td style = \"text-align: left;\">Bill</td><td style = \"text-align: left;\">13-Week</td><td style = \"text-align: left;\">05/19/2025</td><td style = \"text-align: left;\">05/22/2025</td><td style = \"text-align: left;\">08/21/2025</td><td style = \"text-align: right;\">98.9168</td><td style = \"text-align: right;\">0.04392</td></tr><tr><td class = \"rowNumber\" style = \"font-weight: bold; text-align: right;\">95</td><td style = \"text-align: left;\">912797QR1</td><td style = \"text-align: left;\">Bill</td><td style = \"text-align: left;\">26-Week</td><td style = \"text-align: left;\">05/19/2025</td><td style = \"text-align: left;\">05/22/2025</td><td style = \"text-align: left;\">11/20/2025</td><td style = \"text-align: right;\">97.907</td><td style = \"text-align: right;\">0.04287</td></tr><tr><td class = \"rowNumber\" style = \"font-weight: bold; text-align: right;\">96</td><td style = \"text-align: left;\">912797PS0</td><td style = \"text-align: left;\">Bill</td><td style = \"text-align: left;\">4-Week</td><td style = \"text-align: left;\">05/15/2025</td><td style = \"text-align: left;\">05/20/2025</td><td style = \"text-align: left;\">06/17/2025</td><td style = \"text-align: right;\">99.6718</td><td style = \"text-align: right;\">0.04293</td></tr></tbody></table></div>"
      ],
      "text/latex": [
       "\\begin{tabular}{r|ccccccc}\n",
       "\t& CUSIP & Security Type & Security Term & Auction Date & Issue Date & Maturity Date & \\\\\n",
       "\t\\hline\n",
       "\t& String15 & String7 & String7 & String15 & String15 & String15 & \\\\\n",
       "\t\\hline\n",
       "\t1 & 912797QW0 & Bill & 4-Week & 08/28/2025 & 09/02/2025 & 09/30/2025 & $\\dots$ \\\\\n",
       "\t2 & 912797RE9 & Bill & 8-Week & 08/28/2025 & 09/02/2025 & 10/28/2025 & $\\dots$ \\\\\n",
       "\t3 & 912797RZ2 & Bill & 17-Week & 08/27/2025 & 09/02/2025 & 12/30/2025 & $\\dots$ \\\\\n",
       "\t4 & 912797QE0 & Bill & 6-Week & 08/26/2025 & 08/28/2025 & 10/09/2025 & $\\dots$ \\\\\n",
       "\t5 & 912797NL7 & Bill & 13-Week & 08/25/2025 & 08/28/2025 & 11/28/2025 & $\\dots$ \\\\\n",
       "\t6 & 912797RU3 & Bill & 26-Week & 08/25/2025 & 08/28/2025 & 02/26/2026 & $\\dots$ \\\\\n",
       "\t7 & 912797QV2 & Bill & 4-Week & 08/21/2025 & 08/26/2025 & 09/23/2025 & $\\dots$ \\\\\n",
       "\t8 & 912797RD1 & Bill & 8-Week & 08/21/2025 & 08/26/2025 & 10/21/2025 & $\\dots$ \\\\\n",
       "\t9 & 912797RY5 & Bill & 17-Week & 08/20/2025 & 08/26/2025 & 12/23/2025 & $\\dots$ \\\\\n",
       "\t10 & 912797MS3 & Bill & 6-Week & 08/19/2025 & 08/21/2025 & 10/02/2025 & $\\dots$ \\\\\n",
       "\t11 & 912797QR1 & Bill & 13-Week & 08/18/2025 & 08/21/2025 & 11/20/2025 & $\\dots$ \\\\\n",
       "\t12 & 912797PM3 & Bill & 26-Week & 08/18/2025 & 08/21/2025 & 02/19/2026 & $\\dots$ \\\\\n",
       "\t13 & 912797QU4 & Bill & 4-Week & 08/14/2025 & 08/19/2025 & 09/16/2025 & $\\dots$ \\\\\n",
       "\t14 & 912797RC3 & Bill & 8-Week & 08/14/2025 & 08/19/2025 & 10/14/2025 & $\\dots$ \\\\\n",
       "\t15 & 912797RX7 & Bill & 17-Week & 08/13/2025 & 08/19/2025 & 12/16/2025 & $\\dots$ \\\\\n",
       "\t16 & 912797PY7 & Bill & 6-Week & 08/12/2025 & 08/14/2025 & 09/25/2025 & $\\dots$ \\\\\n",
       "\t17 & 912797QQ3 & Bill & 13-Week & 08/11/2025 & 08/14/2025 & 11/13/2025 & $\\dots$ \\\\\n",
       "\t18 & 912797RT6 & Bill & 26-Week & 08/11/2025 & 08/14/2025 & 02/12/2026 & $\\dots$ \\\\\n",
       "\t19 & 912797QT7 & Bill & 4-Week & 08/07/2025 & 08/12/2025 & 09/09/2025 & $\\dots$ \\\\\n",
       "\t20 & 912797RB5 & Bill & 8-Week & 08/07/2025 & 08/12/2025 & 10/07/2025 & $\\dots$ \\\\\n",
       "\t21 & 912797RW9 & Bill & 17-Week & 08/06/2025 & 08/12/2025 & 12/09/2025 & $\\dots$ \\\\\n",
       "\t22 & 912797PX9 & Bill & 6-Week & 08/05/2025 & 08/07/2025 & 09/18/2025 & $\\dots$ \\\\\n",
       "\t23 & 912797RG4 & Bill & 52-Week & 08/05/2025 & 08/07/2025 & 08/06/2026 & $\\dots$ \\\\\n",
       "\t24 & 912797QP5 & Bill & 13-Week & 08/04/2025 & 08/07/2025 & 11/06/2025 & $\\dots$ \\\\\n",
       "\t25 & 912797RL3 & Bill & 26-Week & 08/04/2025 & 08/07/2025 & 02/05/2026 & $\\dots$ \\\\\n",
       "\t26 & 912797QM2 & Bill & 4-Week & 07/31/2025 & 08/05/2025 & 09/02/2025 & $\\dots$ \\\\\n",
       "\t27 & 912797QW0 & Bill & 8-Week & 07/31/2025 & 08/05/2025 & 09/30/2025 & $\\dots$ \\\\\n",
       "\t28 & 912797RR0 & Bill & 17-Week & 07/30/2025 & 08/05/2025 & 12/02/2025 & $\\dots$ \\\\\n",
       "\t29 & 912797PW1 & Bill & 6-Week & 07/29/2025 & 07/31/2025 & 09/11/2025 & $\\dots$ \\\\\n",
       "\t30 & 912797NA1 & Bill & 13-Week & 07/28/2025 & 07/31/2025 & 10/30/2025 & $\\dots$ \\\\\n",
       "\t$\\dots$ & $\\dots$ & $\\dots$ & $\\dots$ & $\\dots$ & $\\dots$ & $\\dots$ &  \\\\\n",
       "\\end{tabular}\n"
      ],
      "text/plain": [
       "\u001b[1m96×8 DataFrame\u001b[0m\n",
       "\u001b[1m Row \u001b[0m│\u001b[1m CUSIP     \u001b[0m\u001b[1m Security Type \u001b[0m\u001b[1m Security Term \u001b[0m\u001b[1m Auction Date \u001b[0m\u001b[1m Issue Date \u001b[0m\u001b[1m Matu\u001b[0m ⋯\n",
       "     │\u001b[90m String15  \u001b[0m\u001b[90m String7       \u001b[0m\u001b[90m String7       \u001b[0m\u001b[90m String15     \u001b[0m\u001b[90m String15   \u001b[0m\u001b[90m Stri\u001b[0m ⋯\n",
       "─────┼──────────────────────────────────────────────────────────────────────────\n",
       "   1 │ 912797QW0  Bill           4-Week         08/28/2025    09/02/2025  09/3 ⋯\n",
       "   2 │ 912797RE9  Bill           8-Week         08/28/2025    09/02/2025  10/2\n",
       "   3 │ 912797RZ2  Bill           17-Week        08/27/2025    09/02/2025  12/3\n",
       "   4 │ 912797QE0  Bill           6-Week         08/26/2025    08/28/2025  10/0\n",
       "   5 │ 912797NL7  Bill           13-Week        08/25/2025    08/28/2025  11/2 ⋯\n",
       "   6 │ 912797RU3  Bill           26-Week        08/25/2025    08/28/2025  02/2\n",
       "   7 │ 912797QV2  Bill           4-Week         08/21/2025    08/26/2025  09/2\n",
       "   8 │ 912797RD1  Bill           8-Week         08/21/2025    08/26/2025  10/2\n",
       "   9 │ 912797RY5  Bill           17-Week        08/20/2025    08/26/2025  12/2 ⋯\n",
       "  10 │ 912797MS3  Bill           6-Week         08/19/2025    08/21/2025  10/0\n",
       "  11 │ 912797QR1  Bill           13-Week        08/18/2025    08/21/2025  11/2\n",
       "  ⋮  │     ⋮            ⋮              ⋮             ⋮            ⋮            ⋱\n",
       "  87 │ 912797LW5  Bill           6-Week         05/27/2025    05/29/2025  07/1\n",
       "  88 │ 912797PQ4  Bill           13-Week        05/27/2025    05/29/2025  08/2 ⋯\n",
       "  89 │ 912797NL7  Bill           26-Week        05/27/2025    05/29/2025  11/2\n",
       "  90 │ 912797PT8  Bill           4-Week         05/22/2025    05/27/2025  06/2\n",
       "  91 │ 912797QB6  Bill           8-Week         05/22/2025    05/27/2025  07/2\n",
       "  92 │ 912797QV2  Bill           17-Week        05/21/2025    05/27/2025  09/2 ⋯\n",
       "  93 │ 912797NX1  Bill           6-Week         05/20/2025    05/22/2025  07/0\n",
       "  94 │ 912797PP6  Bill           13-Week        05/19/2025    05/22/2025  08/2\n",
       "  95 │ 912797QR1  Bill           26-Week        05/19/2025    05/22/2025  11/2\n",
       "  96 │ 912797PS0  Bill           4-Week         05/15/2025    05/20/2025  06/1 ⋯\n",
       "\u001b[36m                                                   3 columns and 75 rows omitted\u001b[0m"
      ]
     },
     "execution_count": 64,
     "metadata": {},
     "output_type": "execute_result"
    }
   ],
   "source": [
    "dataset = MyTreasuryBillDataSet()\n",
    "\n",
    "# example, Auction date: Aug 28, 2025, issued Sep 2\n",
    "# you have to pay the gov $99.6698 to get $100"
   ]
  },
  {
   "cell_type": "markdown",
   "id": "d54d06f9-6f99-4080-9494-ae4a9a69a6b3",
   "metadata": {},
   "source": [
    "Next, let's store the dimension (number of records) of our treasury auction dataset in the `number_of_bills::Int64` variable using [the `nrow(...)` function exported by the DataFrames.jl package](https://dataframes.juliadata.org/stable/lib/functions/#DataAPI.nrow):"
   ]
  },
  {
   "cell_type": "code",
   "execution_count": 70,
   "id": "7cb3298f-a9a6-43be-89ff-87221b5b75ee",
   "metadata": {
    "tags": []
   },
   "outputs": [
    {
     "data": {
      "text/plain": [
       "96"
      ]
     },
     "execution_count": 70,
     "metadata": {},
     "output_type": "execute_result"
    }
   ],
   "source": [
    "number_of_bills = nrow(dataset)"
   ]
  },
  {
   "cell_type": "markdown",
   "id": "48f87c97",
   "metadata": {},
   "source": [
    "___"
   ]
  },
  {
   "cell_type": "markdown",
   "id": "0d16edf4-811d-4fd1-bc78-1ef8bc6de136",
   "metadata": {},
   "source": [
    "## Task 1: Compute the Price of Zero-Coupon Treasury Bills at Auction\n",
    "We compute the T-bill price by building a discounting model in this task. In this case, let's construct an instance of the [`DiscreteCompoundingModel` type](https://varnerlab.github.io/VLQuantitativeFinancePackage.jl/dev/fixed/#VLQuantitativeFinancePackage.DiscreteCompoundingModel) and store this discount model in the `discount_model` variable.\n",
    "\n",
    "> The [`DiscreteCompoundingModel` type](https://varnerlab.github.io/VLQuantitativeFinancePackage.jl/dev/fixed/#VLQuantitativeFinancePackage.DiscreteCompoundingModel) has no data associated with it. Instead, it is used [by the Julia multiple dispatch system](https://docs.julialang.org/en/v1/manual/methods/#Methods) so that we call the correct pricing methods later.\n",
    "\n",
    "Let's build our discount model:"
   ]
  },
  {
   "cell_type": "code",
   "execution_count": 72,
   "id": "29d8ba89-91b5-40a2-b388-8a4e5f4b4e02",
   "metadata": {
    "tags": []
   },
   "outputs": [],
   "source": [
    "discount_model = DiscreteCompoundingModel();"
   ]
  },
  {
   "cell_type": "markdown",
   "id": "414b44bc-8716-427b-8c10-a0e1e9051a8d",
   "metadata": {},
   "source": [
    "Next, let's build a zero-coupon Treasury bill model, an instance of [the `MyUSTreasuryZeroCouponBondModel` type](https://varnerlab.github.io/VLQuantitativeFinancePackage.jl/dev/fixed/#VLQuantitativeFinancePackage.MyUSTreasuryZeroCouponBondModel) using [a custom `build(...)` method](https://varnerlab.github.io/VLQuantitativeFinancePackage.jl/dev/fixed/#VLQuantitativeFinancePackage.build-Tuple{Type{MyUSTreasuryZeroCouponBondModel},%20NamedTuple}). \n",
    "\n",
    "> The [`build(...)` method](https://varnerlab.github.io/VLQuantitativeFinancePackage.jl/dev/fixed/#VLQuantitativeFinancePackage.build-Tuple{Type{MyUSTreasuryZeroCouponBondModel},%20NamedTuple}) requires two arguments: the type of thing we want to build, and [a NamedTuple](https://docs.julialang.org/en/v1/base/base/#Core.NamedTuple) holding data needed to construct the thing we want to build. In this case, we pass the `par` value of the T-bill and the `n` argument, i.e., the number of compounding periods per year. \n",
    "\n",
    "Let's build out the zero-coupon model. Store the zero-coupon model in the `model::MyUSTreasuryZeroCouponBondModel` variable."
   ]
  },
  {
   "cell_type": "code",
   "execution_count": 74,
   "id": "d0a68616-d274-42c5-ba91-75a14452c0d4",
   "metadata": {
    "tags": []
   },
   "outputs": [],
   "source": [
    "model = build(MyUSTreasuryZeroCouponBondModel, (\n",
    "    par = 100.0, n = 2\n",
    "));"
   ]
  },
  {
   "cell_type": "markdown",
   "id": "dc5f293c",
   "metadata": {},
   "source": [
    "We can use [the `typeof(...)` function](https://docs.julialang.org/en/v1/base/base/#Core.typeof) in combination with [the `fieldnames(...)` function](https://docs.julialang.org/en/v1/base/base/#Base.fieldnames) to inspect the structure of our model, i.e., what data the model holds:"
   ]
  },
  {
   "cell_type": "code",
   "execution_count": 76,
   "id": "603814ca-a941-484e-886c-916ed1b7c4e4",
   "metadata": {},
   "outputs": [
    {
     "data": {
      "text/plain": [
       "(:par, :rate, :T, :price, :n, :cashflow, :discount)"
      ]
     },
     "execution_count": 76,
     "metadata": {},
     "output_type": "execute_result"
    }
   ],
   "source": [
    "typeof(model) |> T -> fieldnames(T)"
   ]
  },
  {
   "cell_type": "markdown",
   "id": "d201bb4f-5fb7-4b9a-bd87-d840cab80fc7",
   "metadata": {},
   "source": [
    "The zero-coupon instance is missing some critical data, so let's manually add this to the `model` instance and then compute the price. We'll select an example T-bill from the `dataset::DataFrame`\n",
    "\n",
    "> __What is going on?__ We compute the price of the T-bill using the [Julia pipe `|>` operator](https://docs.julialang.org/en/v1/manual/functions/#Function-composition-and-piping) in combination with the discounting model [using a short-cut syntax](https://varnerlab.github.io/VLQuantitativeFinancePackage.jl/dev/fixed/#Short-cut-syntax).\n",
    "\n",
    "Compute the price at auction $V_{B}$:"
   ]
  },
  {
   "cell_type": "code",
   "execution_count": 78,
   "id": "400b7432-fffb-4802-904c-e6078dc2baa9",
   "metadata": {},
   "outputs": [
    {
     "data": {
      "text/plain": [
       "MyUSTreasuryZeroCouponBondModel(100.0, 0.0405, 0.4986301369863014, 98.02057600598177, 2, Dict(0 => -98.02057600598177, 1 => 100.0), Dict(0 => 1.0, 1 => 1.0201939641111417))"
      ]
     },
     "execution_count": 78,
     "metadata": {},
     "output_type": "execute_result"
    }
   ],
   "source": [
    "model.T = \"26-Week\"  |> securityterm; # parameters for T-bill #6\n",
    "model.rate = 0.0405; # parameters for T-bill # 6\n",
    "model |> discount_model"
   ]
  },
  {
   "cell_type": "code",
   "execution_count": 80,
   "id": "9f4af8ab-2002-4d01-bb91-36fc2bff74cd",
   "metadata": {},
   "outputs": [
    {
     "data": {
      "text/plain": [
       "98.02057600598177"
      ]
     },
     "execution_count": 80,
     "metadata": {},
     "output_type": "execute_result"
    }
   ],
   "source": [
    "model.price"
   ]
  },
  {
   "cell_type": "markdown",
   "id": "46a1f550",
   "metadata": {},
   "source": [
    "Did we get the same price as that recorded at auction?\n",
    "\n",
    "> __Idea:__ If two values are within some relative tolerance `rtol` of each other, the [isapprox function](https://docs.julialang.org/en/v1/base/math/#Base.isapprox) returns `true`; otherwise, it returns `false`. When the [isapprox function](https://docs.julialang.org/en/v1/base/math/#Base.isapprox) is combined with the [@assert macro](https://docs.julialang.org/en/v1/base/base/#Base.@assert), a `false` result generates an [AssertionError](https://docs.julialang.org/en/v1/base/base/#Core.AssertionError). Thus, we have a simple test for equality that works well for floating-point numbers.\n",
    "\n",
    "So, how did we do?"
   ]
  },
  {
   "cell_type": "code",
   "execution_count": 82,
   "id": "8fce04a3",
   "metadata": {},
   "outputs": [],
   "source": [
    "let\n",
    "    auction_price = dataset[6, :Price];\n",
    "    computed_price = model.price\n",
    "    @assert isapprox(auction_price, computed_price; rtol=1e-4)\n",
    "end"
   ]
  },
  {
   "cell_type": "markdown",
   "id": "12428e76-4886-4f17-ba24-0e8a08bd05eb",
   "metadata": {},
   "source": [
    "### Batch Pricing: Compute Prices for All T-bills\n",
    "Finally, we compute the zero-coupon T-bill price for all the T-bills in `dataset` and compare the computed price to the price observed at auction. We process each record in the `dataset::DataFrame` using [a `for-loop`](https://docs.julialang.org/en/v1/base/base/#for). During each iteration of the loop:\n",
    "\n",
    "> __Each iteration:__ We get data from the `dataset::DataFrame` and update the T-bill model instance. In particular, we set the observed price to the variable `auction_price,` we set the duration `T` field (which we convert to the number of years using the local `securityterm` function) and the rate field on the `model::MyUSTreasuryZeroCouponBondModel` instance, and then we compute the price.\n",
    "\n",
    "We calculate the percentage error between the estimated and observed T-bill price and store the simulation data for each iteration in the `computed_price_table::DataFrame` using [the `push!(...)` function](https://dataframes.juliadata.org/stable/lib/functions/#Base.push!)"
   ]
  },
  {
   "cell_type": "code",
   "execution_count": 84,
   "id": "ec79323f-74a4-4a3d-9edd-522ace748b3c",
   "metadata": {
    "tags": []
   },
   "outputs": [
    {
     "name": "stdout",
     "output_type": "stream",
     "text": [
      "============ ========= ========= ========== ========= ==============\n",
      " \u001b[1m     CUSIP \u001b[0m \u001b[1m    term \u001b[0m \u001b[1m    rate \u001b[0m \u001b[1m computed \u001b[0m \u001b[1m  actual \u001b[0m \u001b[1m        rtol \u001b[0m\n",
      " \u001b[90m  String15 \u001b[0m \u001b[90m String7 \u001b[0m \u001b[90m Float64 \u001b[0m \u001b[90m  Float64 \u001b[0m \u001b[90m Float64 \u001b[0m \u001b[90m     Float64 \u001b[0m\n",
      "============ ========= ========= ========== ========= ==============\n",
      "  912797QW0    4-Week     4.318     99.672    99.669     2.9945e-5\n",
      "  912797RE9    8-Week      4.23     99.359    99.355    4.64703e-5\n",
      "  912797RZ2   17-Week     4.131     98.675    98.671    4.64237e-5\n",
      "  912797QE0    6-Week      4.29     99.512    99.508    3.95309e-5\n",
      "  912797NL7   13-Week     4.201     98.968    98.952   0.000167802\n",
      "  912797RU3   26-Week      4.05      98.02     98.02    1.77508e-6\n",
      "  912797QV2    4-Week     4.374     99.668    99.665    3.08123e-5\n",
      "  912797RD1    8-Week     4.307     99.348    99.343    4.82259e-5\n",
      "  912797RY5   17-Week     4.162     98.665    98.661    4.79185e-5\n",
      "  912797MS3    6-Week     4.325     99.508    99.504    4.11384e-5\n",
      "  912797QR1   13-Week     4.232     98.961    98.956    5.36606e-5\n",
      "  912797PM3   26-Week     4.081     98.005    98.005    1.47363e-6\n",
      "  912797QU4    4-Week     4.354      99.67    99.667    3.02251e-5\n",
      "  912797RC3    8-Week     4.271     99.353    99.349     4.7501e-5\n",
      "  912797RX7   17-Week     4.162     98.665    98.661    4.79185e-5\n",
      "  912797PY7    6-Week     4.346     99.506    99.502    4.09331e-5\n",
      "  912797QQ3   13-Week     4.252     98.956     98.95    5.59278e-5\n",
      "  912797RT6   26-Week     4.108     97.992    97.992    1.48523e-6\n",
      "  912797QT7    4-Week     4.374     99.668    99.665    3.08123e-5\n",
      "  912797RB5    8-Week     4.322     99.346    99.341    4.91926e-5\n",
      "  912797RW9   17-Week     4.219     98.648    98.643    5.01906e-5\n",
      "  912797PX9    6-Week     4.382     99.502    99.498    4.14381e-5\n",
      "  912797RG4   52-Week     3.924     96.198    96.198    5.75888e-6\n",
      "  912797QP5   13-Week     4.268     98.952    98.947     5.5182e-5\n",
      "  912797RL3   26-Week     4.118     97.988    97.987     1.2432e-6\n",
      "  912797QM2    4-Week     4.364     99.669    99.666    3.05235e-5\n",
      "  912797QW0    8-Week     4.379     99.337    99.332    4.97234e-5\n",
      "  912797RR0   17-Week     4.329     98.613    98.608    5.09803e-5\n",
      "  912797PW1    6-Week     4.351     99.505    99.501    4.11713e-5\n",
      "  912797NA1   13-Week      4.34     98.935    98.929    5.83053e-5\n",
      "  912797RK5   26-Week     4.266     97.917    97.917    9.95672e-7\n",
      "  912797QL4    4-Week     4.318     99.672    99.669     2.9945e-5\n",
      "  912797QV2    8-Week     4.353     99.341    99.336    4.96111e-5\n",
      "  912797RQ2   17-Week     4.344     98.608    98.603    5.33949e-5\n",
      "  912797MH7    6-Week     4.341     99.507    99.503    4.07051e-5\n",
      "  912797QG5   13-Week     4.345     98.934    98.928    5.88813e-5\n",
      "  912797PD3   26-Week     4.261     97.919    97.919    4.10627e-7\n",
      "  912797QK6    4-Week     4.303     99.673    99.671    2.95005e-5\n",
      "  912797QU4    8-Week     4.358      99.34    99.335    4.99353e-5\n",
      "  912797RP4   17-Week      4.35     98.606    98.601    5.10138e-5\n",
      "  912797PQ4    6-Week     4.341     99.507    99.503    4.07051e-5\n",
      "  912797QF7   13-Week     4.351     98.932    98.926    5.70178e-5\n",
      "  912797RJ8   26-Week     4.271     97.914    97.914    2.40323e-6\n",
      "  912797QJ9    4-Week     4.308     99.673     99.67    2.96486e-5\n",
      "  912797QT7    8-Week     4.363     99.339    99.335    5.02598e-5\n",
      "  912797RN9   17-Week      4.35     98.606     98.59   0.000170174\n",
      "  912797PP6    6-Week     4.346     99.506    99.502    4.09331e-5\n",
      "  912797RF6   52-Week     4.102     96.031    96.031    1.32112e-6\n",
      "  912797QE0   13-Week     4.361      98.93    98.924    5.81621e-5\n",
      "  912797RH2   26-Week     4.293     97.904    97.904    1.72717e-6\n",
      "  912797QH3    4-Week     4.313     99.673     99.67    2.97968e-5\n",
      "  912797QM2    8-Week     4.389     99.336    99.331    5.03746e-5\n",
      "  912797QV2    77-Day     4.385     99.089    99.083    5.67996e-5\n",
      "  912797RM1   17-Week     4.303     98.621    98.616    5.01541e-5\n",
      "  912797PN1    6-Week     4.423     99.497    99.493    4.21725e-5\n",
      "  912797MS3   13-Week      4.34     98.935    98.929    5.83053e-5\n",
      "  912797RA7   26-Week     4.256     97.921     97.91   0.000114777\n",
      "  912797QC4    4-Week     4.068     99.691    99.688    2.66149e-5\n",
      "  912797QL4    8-Week     4.482     99.322    99.317     5.1738e-5\n",
      "  912797QU4    77-Day     4.349     99.096     99.09    5.55724e-5\n",
      "  912797RE9   17-Week     4.313     98.618    98.613    5.17631e-5\n",
      "  912797MG9    6-Week     4.505     99.488    99.484    4.36957e-5\n",
      "  912797PY7   13-Week     4.299     98.945    98.939    5.61648e-5\n",
      "  912797NU7   26-Week     4.267     97.916    97.905   0.000112988\n",
      "  912797QB6    4-Week     4.129     99.686    99.684    2.75767e-5\n",
      "  912797QK6    8-Week     4.564      99.31    99.304    5.40154e-5\n",
      "  912797RD1   17-Week     4.355     98.605      98.6    5.18242e-5\n",
      "  912797PG6    6-Week     4.258     99.516    99.523     7.6264e-5\n",
      "  912797PX9   13-Week     4.345     98.934     98.94    6.01677e-5\n",
      "  912797QZ3   26-Week     4.303     97.899     97.91   0.000116794\n",
      "  912797QA8    4-Week      4.15     99.685    99.682    2.73932e-5\n",
      "  912797QJ9    8-Week     4.471     99.323    99.318    5.25784e-5\n",
      "  912797RC3   17-Week     4.339      98.61    98.605     5.2586e-5\n",
      "  912797PF8    6-Week     4.274     99.514     99.51    3.99697e-5\n",
      "  912797QX8   52-Week     4.118     96.016    96.016    2.92286e-6\n",
      "  912797PW1   13-Week     4.356     98.931    98.925    5.75948e-5\n",
      "  912797QY6   26-Week     4.298     97.901    97.901    3.13049e-7\n",
      "  912797PZ4    4-Week     4.242     99.678    99.675    2.84934e-5\n",
      "  912797QH3    8-Week     4.312     99.347    99.342    4.85479e-5\n",
      "  912797RB5   17-Week     4.323     98.615     98.61    5.33646e-5\n",
      "  912797PE1    6-Week     4.305     99.511    99.507    4.02203e-5\n",
      "  912797MH7   13-Week     4.356     98.931    98.925    5.75948e-5\n",
      "  912797QS9   26-Week     4.298     97.901    97.901    3.13049e-7\n",
      "  912797PU5    4-Week     4.288     99.675    99.672     2.9057e-5\n",
      "  912797QC4    8-Week     4.312     99.347    99.342    4.85479e-5\n",
      "  912797QW0   17-Week     4.339      98.61    98.605     5.2586e-5\n",
      "  912797LW5    6-Week     4.315     99.509    99.505     4.0674e-5\n",
      "  912797PQ4   13-Week     4.361      98.93    98.924    5.81621e-5\n",
      "  912797NL7   26-Week     4.309     97.896    97.885    0.00011567\n",
      "  912797PT8    4-Week     4.293     99.674    99.671    2.92047e-5\n",
      "  912797QB6    8-Week     4.322     99.346    99.341    4.91926e-5\n",
      "  912797QV2   17-Week      4.35     98.606    98.601    5.10138e-5\n",
      "  912797NX1    6-Week     4.315     99.509    99.505     4.0674e-5\n",
      "  912797PP6   13-Week     4.392     98.922    98.916    5.91969e-5\n",
      "  912797QR1   26-Week     4.287     97.907    97.907    1.74162e-6\n",
      "  912797PS0    4-Week     4.293     99.674    99.671    2.92047e-5\n",
      "============ ========= ========= ========== ========= ==============\n"
     ]
    }
   ],
   "source": [
    "let \n",
    "\n",
    "    # Initialize a fresh model for each T-bill calculation\n",
    "    model = build(MyUSTreasuryZeroCouponBondModel, (\n",
    "        par = 100.0, n = 2\n",
    "    ));\n",
    "    \n",
    "    computed_price_table = DataFrame();\n",
    "    for i ∈ 1:number_of_bills\n",
    "        \n",
    "        # Extract market data for this T-bill\n",
    "        auction_price = dataset[i, :Price];  # Actual auction price from market\n",
    "        \n",
    "        # Set model parameters from dataset\n",
    "        model.T = dataset[i, Symbol(\"Security Term\")] |> String |> securityterm; # Convert term to years\n",
    "        model.rate = dataset[i, Symbol(\"Investment Rate\")];  # Discount rate for pricing\n",
    "            \n",
    "        # Compute theoretical price using NPV approach\n",
    "        price_computed = model |> discount_model |> x-> x.price; \n",
    "        \n",
    "        # Calculate pricing error as relative tolerance\n",
    "        absrtol = abs((auction_price - price_computed)/(price_computed)); \n",
    "        \n",
    "        # Store results for analysis\n",
    "        results_tuple = (\n",
    "            CUSIP = dataset[i, :CUSIP],\n",
    "            term = dataset[i, Symbol(\"Security Term\")],\n",
    "            rate = (dataset[i, Symbol(\"Investment Rate\")] |> x-> 100*x),  # Convert to percentage\n",
    "            computed =  price_computed |> x-> trunc(x, digits=3),\n",
    "            actual = auction_price |> x-> trunc(x, digits=3),\n",
    "            rtol = absrtol\n",
    "        );\n",
    "        push!(computed_price_table, results_tuple)\n",
    "    end\n",
    "    pretty_table(computed_price_table, tf=tf_simple)\n",
    "end\n",
    "\n",
    "# Remember: we're computing with NPV=0, small relative errors can happen!"
   ]
  },
  {
   "cell_type": "markdown",
   "id": "3045b8d6",
   "metadata": {},
   "source": [
    "___"
   ]
  },
  {
   "cell_type": "markdown",
   "id": "98c7e092-dca7-4db7-b7c7-927fe831a41c",
   "metadata": {},
   "source": [
    "## Task 2: Compute the T-bill price versus the interest rate\n",
    "Malkiel proposed five theorems that govern the price of fixed-income debt securities, e.g., [Treasury Bills, Notes, and Bonds](https://www.treasurydirect.gov/marketable-securities/), as a function of duration and interest rate values:\n",
    "* [Malkiel, B. G. (1962). Expectations, Bond Prices, and the Term Structure of Interest Rates. The Quarterly Journal of Economics, 76(2), 197–218](https://www.jstor.org/stable/1880816)\n",
    "\n",
    "The first of these theorems is that T-bill/note/bond prices are inversely proportional to the yield (the investment rate for T-bills):\n",
    " > __Theorem 1__: **Bond prices move inversely to bond yields.**\n",
    "\n",
    "Malkiel proved Theorem 1 analytically (and we'll do the same next time). However, now, let's test this relationship computationally. \n",
    "\n",
    "First, select a random bill from the `dataset::DataFrame` by selecting an index from `1...number_of_bills` using [the built-in Julia `rand(...)` function](https://docs.julialang.org/en/v1/stdlib/Random/#Base.rand). We'll use this T-bill as our example to test __Theorem 1.__"
   ]
  },
  {
   "cell_type": "code",
   "execution_count": 92,
   "id": "9feef898-63cf-49eb-8b1e-24628aa83093",
   "metadata": {
    "tags": []
   },
   "outputs": [
    {
     "name": "stdout",
     "output_type": "stream",
     "text": [
      "Selected bill: 73\n"
     ]
    }
   ],
   "source": [
    "random_bill_index = rand(1:number_of_bills)\n",
    "println(\"Selected bill: $(random_bill_index)\")"
   ]
  },
  {
   "cell_type": "markdown",
   "id": "b0f00583",
   "metadata": {},
   "source": [
    "What is the data for our test T-bill?"
   ]
  },
  {
   "cell_type": "code",
   "execution_count": 94,
   "id": "59f826ea-3ef1-4ae1-9414-3060ccfa0e58",
   "metadata": {
    "tags": []
   },
   "outputs": [
    {
     "data": {
      "text/html": [
       "<div><div style = \"float: left;\"><span>DataFrameRow (8 columns)</span></div><div style = \"clear: both;\"></div></div><div class = \"data-frame\" style = \"overflow-x: scroll;\"><table class = \"data-frame\" style = \"margin-bottom: 6px;\"><thead><tr class = \"header\"><th class = \"rowLabel\" style = \"font-weight: bold; text-align: right;\">Row</th><th style = \"text-align: left;\">CUSIP</th><th style = \"text-align: left;\">Security Type</th><th style = \"text-align: left;\">Security Term</th><th style = \"text-align: left;\">Auction Date</th><th style = \"text-align: left;\">Issue Date</th><th style = \"text-align: left;\">Maturity Date</th><th style = \"text-align: left;\">Price</th><th style = \"text-align: left;\">Investment Rate</th></tr><tr class = \"subheader headerLastRow\"><th class = \"rowLabel\" style = \"font-weight: bold; text-align: right;\"></th><th title = \"String15\" style = \"text-align: left;\">String15</th><th title = \"String7\" style = \"text-align: left;\">String7</th><th title = \"String7\" style = \"text-align: left;\">String7</th><th title = \"String15\" style = \"text-align: left;\">String15</th><th title = \"String15\" style = \"text-align: left;\">String15</th><th title = \"String15\" style = \"text-align: left;\">String15</th><th title = \"Float64\" style = \"text-align: left;\">Float64</th><th title = \"Float64\" style = \"text-align: left;\">Float64</th></tr></thead><tbody><tr><td class = \"rowLabel\" style = \"font-weight: bold; text-align: right;\">73</td><td style = \"text-align: left;\">912797RC3</td><td style = \"text-align: left;\">Bill</td><td style = \"text-align: left;\">17-Week</td><td style = \"text-align: left;\">06/11/2025</td><td style = \"text-align: left;\">06/17/2025</td><td style = \"text-align: left;\">10/14/2025</td><td style = \"text-align: right;\">98.6051</td><td style = \"text-align: right;\">0.04339</td></tr></tbody></table></div>"
      ],
      "text/latex": [
       "\\begin{tabular}{r|ccccccc}\n",
       "\t& CUSIP & Security Type & Security Term & Auction Date & Issue Date & Maturity Date & \\\\\n",
       "\t\\hline\n",
       "\t& String15 & String7 & String7 & String15 & String15 & String15 & \\\\\n",
       "\t\\hline\n",
       "\t73 & 912797RC3 & Bill & 17-Week & 06/11/2025 & 06/17/2025 & 10/14/2025 & $\\dots$ \\\\\n",
       "\\end{tabular}\n"
      ],
      "text/plain": [
       "\u001b[1mDataFrameRow\u001b[0m\n",
       "\u001b[1m Row \u001b[0m│\u001b[1m CUSIP     \u001b[0m\u001b[1m Security Type \u001b[0m\u001b[1m Security Term \u001b[0m\u001b[1m Auction Date \u001b[0m\u001b[1m Issue Date \u001b[0m\u001b[1m Matu\u001b[0m ⋯\n",
       "     │\u001b[90m String15  \u001b[0m\u001b[90m String7       \u001b[0m\u001b[90m String7       \u001b[0m\u001b[90m String15     \u001b[0m\u001b[90m String15   \u001b[0m\u001b[90m Stri\u001b[0m ⋯\n",
       "─────┼──────────────────────────────────────────────────────────────────────────\n",
       "  73 │ 912797RC3  Bill           17-Week        06/11/2025    06/17/2025  10/1 ⋯\n",
       "\u001b[36m                                                               3 columns omitted\u001b[0m"
      ]
     },
     "execution_count": 94,
     "metadata": {},
     "output_type": "execute_result"
    }
   ],
   "source": [
    "dataset[random_bill_index,:] # what is the auction data for this bill?"
   ]
  },
  {
   "cell_type": "markdown",
   "id": "321b20fa-d36e-4cab-a30c-1b8a42cc94bc",
   "metadata": {},
   "source": [
    "Next, create an instance of [the `MyUSTreasuryZeroCouponBondModel` model](https://varnerlab.github.io/VLQuantitativeFinancePackage.jl/dev/fixed/#VLQuantitativeFinancePackage.MyUSTreasuryZeroCouponBondModel) from the randomly selected nominal auction data using [the `build(...)` method](https://varnerlab.github.io/VLQuantitativeFinancePackage.jl/dev/fixed/#VLQuantitativeFinancePackage.build-Tuple{Type{MyUSTreasuryZeroCouponBondModel},%20NamedTuple}), assuming a par value of `100 USD` with two compounding periods per year. These values will be passed as arguments to the [`build(...)` method](https://varnerlab.github.io/VLQuantitativeFinancePackage.jl/dev/fixed/#VLQuantitativeFinancePackage.build-Tuple{Type{MyUSTreasuryZeroCouponBondModel},%20NamedTuple}) in the `par` and `n` parameters. \n",
    "\n",
    "Update the rest of the parameters on the `zero_coupon_model` instance from the `dataset`. The resulting zero-coupon model will be stored in the `model::MyUSTreasuryZeroCouponBondModel` variable.\n",
    "\n",
    "See the [DataFrames.jl documentation for examples of accessing data from a `DataFrame` instance](https://dataframes.juliadata.org/stable/man/basics/). "
   ]
  },
  {
   "cell_type": "code",
   "execution_count": 96,
   "id": "be57be48-2ad0-41a0-a8d1-74c90a36bea6",
   "metadata": {
    "tags": []
   },
   "outputs": [],
   "source": [
    "zero_coupon_model = build(MyUSTreasuryZeroCouponBondModel, (\n",
    "    par = 100.0, n = 2, \n",
    "    T = dataset[random_bill_index, Symbol(\"Security Term\")] |> String |> securityterm,\n",
    "    rate =  dataset[random_bill_index, Symbol(\"Investment Rate\")]\n",
    ")) |> discount_model; "
   ]
  },
  {
   "cell_type": "markdown",
   "id": "78fb07e0-99a1-4b51-a26c-993b85fce609",
   "metadata": {},
   "source": [
    "#### Check: Is the computed price _similar_ to the auction price $V_{B}$?\n",
    "The [isapprox function](https://docs.julialang.org/en/v1/base/math/#Base.isapprox) checks the equality of numerical values up to some tolerance value, where either relative `rtol` or absolute tolerance `atol` can be specified. Let's use relative tolerance. \n",
    "\n",
    "> __Idea:__ If two values are within `rtol` of each other, the [isapprox function](https://docs.julialang.org/en/v1/base/math/#Base.isapprox) returns `true`; otherwise, it returns `false`. When the [isapprox function](https://docs.julialang.org/en/v1/base/math/#Base.isapprox) is combined with the [@assert macro](https://docs.julialang.org/en/v1/base/base/#Base.@assert), a `false` result generates an [AssertionError](https://docs.julialang.org/en/v1/base/base/#Core.AssertionError). Thus, we have a simple test for equality that works well for floating-point numbers.\n",
    "\n",
    "So, how did we do?"
   ]
  },
  {
   "cell_type": "code",
   "execution_count": 98,
   "id": "bffc26c7-e4c3-4545-bf0d-f3f67b0e01b1",
   "metadata": {
    "tags": []
   },
   "outputs": [],
   "source": [
    "auction_price = dataset[random_bill_index, :Price];\n",
    "computed_price = zero_coupon_model.price\n",
    "@assert isapprox(auction_price, computed_price; rtol=1e-4)"
   ]
  },
  {
   "cell_type": "markdown",
   "id": "8c11b399-ebae-4738-9f1d-2691ef68819a",
   "metadata": {},
   "source": [
    "#### Can we see the cash flow events?\n",
    "The cash flow events for the T-bill are stored in the `cashflow::Dict{Int64, Float64}` dictionary of the zero-coupon model. For a zero-coupon T-bill, there are only two cash flows:\n",
    "\n",
    ">__Zero-coupon cash flows:__ An initial investment (negative $V_{B}$ cash flow at time `0`), and the payoff of par value $V_{P}$ (positive cash flow) at maturity (at time `1`).\n",
    "\n",
    "Let's take a look at them."
   ]
  },
  {
   "cell_type": "code",
   "execution_count": 100,
   "id": "87944e33-f460-4e72-a3a8-4c89b432fcd2",
   "metadata": {},
   "outputs": [
    {
     "data": {
      "text/plain": [
       "Dict{Int64, Float64} with 2 entries:\n",
       "  0 => -98.6102\n",
       "  1 => 100.0"
      ]
     },
     "execution_count": 100,
     "metadata": {},
     "output_type": "execute_result"
    }
   ],
   "source": [
    "zero_coupon_model.cashflow"
   ]
  },
  {
   "cell_type": "markdown",
   "id": "e17ee52d-441a-4c89-a016-86d348c4c7f7",
   "metadata": {},
   "source": [
    "### Interest Rate Perturbation Setup\n",
    "To simulate the impact of changes in the interest rate, let's perturb the effective nominal interest rate $\\bar{r}$, with all other values held constant, i.e., generate a new rate of the form $\\bar{r}\\leftarrow\\beta\\cdot\\bar{r}$, where $\\beta$ is a perturbation value; if $\\beta<1$ the perturbed interest rate is _less than_ the nominal rate, if $\\beta=1$ the perturbed interest rate is _equal to_ the nominal rate, and if $\\beta>1$ the perturbed interest rate is _greater than_ the nominal rate.\n",
    "\n",
    "* First, we specify the number of perturbation values we want to consider; we store this value in the `number_of_samples` variable. If `number_of_samples` is odd, the perturbation range will include the nominal interest rate as the center value.\n",
    "* Next, we specify the lower and upper values of the perturbation range; the lower bound is stored in the `β₁` variable, while the upper bound is stored in the `β₂` variable.\n",
    "* Finally, we compute the perturbation array (stored in the `β`-variable) using the [range function](https://docs.julialang.org/en/v1/base/math/#Base.range) in combination with the [Julia pipe |> operator](https://docs.julialang.org/en/v1/manual/functions/#Function-composition-and-piping), and [the Julia collect function](https://docs.julialang.org/en/v1/base/collections/#Base.collect-Tuple{Type,%20Any}), which converts a range type to a collection, i.e., an array"
   ]
  },
  {
   "cell_type": "code",
   "execution_count": 104,
   "id": "19e90d17-897e-4407-9e42-ead7b464a504",
   "metadata": {},
   "outputs": [],
   "source": [
    "number_of_samples = 7;\n",
    "β₁ = 0.8; #20% decreasing rate\n",
    "β₂ = 1.2; #20% increasing rate\n",
    "β = range(β₁, stop = β₂, length = number_of_samples) |> collect;"
   ]
  },
  {
   "cell_type": "markdown",
   "id": "4bcdf189-e492-4e2e-8329-012c05fe1d04",
   "metadata": {},
   "source": [
    "### Theorem 1 Simulation: Price vs. Interest Rate\n",
    "Compute the price of the selected T-bill using different values for the effective interest rate and store the results in the `theorem_1_simulation_array` variable. Iterate through each value of the $\\beta$ array using a for loop, where we use the [eachindex function](https://docs.julialang.org/en/v1/base/arrays/#Base.eachindex). \n",
    "\n",
    "For iteration $i$ of the loop:\n",
    "* Get a value for the perturbation $\\beta_{i}$ from the $\\beta$-array, and compute the new effective interest rate $\\bar{r} \\gets \\beta_{i}\\cdot{\\bar{r}}$.\n",
    "* Update the `zero_coupon_model` instance with the new rate (set the `rate` field), and compute the new price\n",
    "* Store the $\\beta_{i}$ value in column 1 and the percentage difference in price in column 2 of the `theorem_1_simulation_array`\n",
    "* Store the new value of the effective interest rate and the new price in columns 3 and 4, respectively. "
   ]
  },
  {
   "cell_type": "code",
   "execution_count": 106,
   "id": "70f9101b-f93c-4468-b29a-c6257ffb4581",
   "metadata": {
    "tags": []
   },
   "outputs": [
    {
     "data": {
      "text/plain": [
       "7×4 Matrix{Float64}:\n",
       " 0.8        0.277894   0.034712   98.8843\n",
       " 0.866667   0.185045   0.0376047  98.7927\n",
       " 0.933333   0.0924143  0.0404973  98.7014\n",
       " 1.0        0.0        0.04339    98.6102\n",
       " 1.06667   -0.0921985  0.0462827  98.5193\n",
       " 1.13333   -0.184182   0.0491753  98.4286\n",
       " 1.2       -0.275951   0.052068   98.3381"
      ]
     },
     "execution_count": 106,
     "metadata": {},
     "output_type": "execute_result"
    }
   ],
   "source": [
    "theorem_1_simulation_array = let\n",
    "\n",
    "    # Initialize results matrix: [β_value, %_change, new_rate, new_price]\n",
    "    theorem_1_simulation_array = Array{Float64,2}(undef, number_of_samples, 4);\n",
    "    \n",
    "    # Test Malkiel's Theorem 1 by perturbing interest rates\n",
    "    for i ∈ eachindex(β)\n",
    "        \n",
    "        # Get perturbation factor for this iteration\n",
    "        β_value = β[i];\n",
    "        \n",
    "        # Calculate new interest rate: r̄_new = β * r̄_original\n",
    "        r̄ = dataset[random_bill_index, Symbol(\"Investment Rate\")];  # Original rate\n",
    "        r̄_value = β_value * r̄;  # Perturbed rate\n",
    "        \n",
    "        # Update model with new rate and compute price\n",
    "        zero_coupon_model.rate = r̄_value;\n",
    "        tmp = zero_coupon_model |> discount_model;\n",
    "        new_price = tmp.price;\n",
    "        \n",
    "        # Store results for analysis\n",
    "        theorem_1_simulation_array[i,1] = β_value;  # Perturbation factor\n",
    "        theorem_1_simulation_array[i,2] = ((new_price - computed_price)/(computed_price))*100;  # % price change\n",
    "        theorem_1_simulation_array[i,3] = r̄_value;  # New interest rate\n",
    "        theorem_1_simulation_array[i,4] = new_price;  # New price\n",
    "    end\n",
    "    theorem_1_simulation_array;\n",
    "end\n",
    "\n",
    "# column1: %\n",
    "# column2: price change\n",
    "# column3: price"
   ]
  },
  {
   "cell_type": "markdown",
   "id": "92580aee-434c-423a-b712-496de833a694",
   "metadata": {},
   "source": [
    "### Visualize the perturbation $\\beta$ versus the %-change in price\n",
    "`Unhide` the code block below to see how we plotted the percentage change in the T-bill price versus the $\\beta$-parameter (a surrogate for the effective interest rate). The case of $\\beta = 1$ denotes the nominal interest rate, $\\beta<1$ denotes decreased interest rates compared to the nominal value, and $\\beta>1$ denotes an increased interest rate.\n",
    "> __Expectation__: We expect the price of the T-bill to be inversely proportional to the $\\beta$-parameter, i.e., the effective interest rate of the instrument. If true, this would confirm  Theorem 1 by simulation.\n",
    "\n",
    "So what do we see?"
   ]
  },
  {
   "cell_type": "code",
   "execution_count": 108,
   "id": "5c6c834d-986d-4302-aca2-420b018bcc84",
   "metadata": {
    "tags": []
   },
   "outputs": [
    {
     "data": {
      "image/png": "[encoded data removed]",
      "image/svg+xml": [
       "<?xml version=\"1.0\" encoding=\"utf-8\"?>\n",
       "<svg xmlns=\"http://www.w3.org/2000/svg\" xmlns:xlink=\"http://www.w3.org/1999/xlink\" width=\"600\" height=\"400\" viewBox=\"0 0 2400 1600\">\n",
       "<defs>\n",
       "  <clipPath id=\"clip230\">\n",
       "    <rect x=\"0\" y=\"0\" width=\"2400\" height=\"1600\"/>\n",
       "  </clipPath>\n",
       "</defs>\n",
       "<path clip-path=\"url(#clip230)\" d=\"M0 1600 L2400 1600 L2400 8.88178e-14 L0 8.88178e-14  Z\" fill=\"#ffffff\" fill-rule=\"evenodd\" fill-opacity=\"1\"/>\n",
       "<defs>\n",
       "  <clipPath id=\"clip231\">\n",
       "    <rect x=\"480\" y=\"0\" width=\"1681\" height=\"1600\"/>\n",
       "  </clipPath>\n",
       "</defs>\n",
       "<path clip-path=\"url(#clip230)\" d=\"M255.977 1423.18 L2352.76 1423.18 L2352.76 47.2441 L255.977 47.2441  Z\" fill=\"#f2f2f2\" fill-rule=\"evenodd\" fill-opacity=\"1\"/>\n",
       "<defs>\n",
       "  <clipPath id=\"clip232\">\n",
       "    <rect x=\"255\" y=\"47\" width=\"2098\" height=\"1377\"/>\n",
       "  </clipPath>\n",
       "</defs>\n",
       "<polyline clip-path=\"url(#clip232)\" style=\"stroke:#000000; stroke-linecap:round; stroke-linejoin:round; stroke-width:2; stroke-opacity:0.1; fill:none\" points=\"315.32,1423.18 315.32,47.2441 \"/>\n",
       "<polyline clip-path=\"url(#clip232)\" style=\"stroke:#000000; stroke-linecap:round; stroke-linejoin:round; stroke-width:2; stroke-opacity:0.1; fill:none\" points=\"809.843,1423.18 809.843,47.2441 \"/>\n",
       "<polyline clip-path=\"url(#clip232)\" style=\"stroke:#000000; stroke-linecap:round; stroke-linejoin:round; stroke-width:2; stroke-opacity:0.1; fill:none\" points=\"1304.37,1423.18 1304.37,47.2441 \"/>\n",
       "<polyline clip-path=\"url(#clip232)\" style=\"stroke:#000000; stroke-linecap:round; stroke-linejoin:round; stroke-width:2; stroke-opacity:0.1; fill:none\" points=\"1798.89,1423.18 1798.89,47.2441 \"/>\n",
       "<polyline clip-path=\"url(#clip232)\" style=\"stroke:#000000; stroke-linecap:round; stroke-linejoin:round; stroke-width:2; stroke-opacity:0.1; fill:none\" points=\"2293.41,1423.18 2293.41,47.2441 \"/>\n",
       "<polyline clip-path=\"url(#clip232)\" style=\"stroke:#000000; stroke-linecap:round; stroke-linejoin:round; stroke-width:2; stroke-opacity:0.1; fill:none\" points=\"315.32,1423.18 315.32,47.2441 \"/>\n",
       "<polyline clip-path=\"url(#clip232)\" style=\"stroke:#000000; stroke-linecap:round; stroke-linejoin:round; stroke-width:2; stroke-opacity:0.1; fill:none\" points=\"809.843,1423.18 809.843,47.2441 \"/>\n",
       "<polyline clip-path=\"url(#clip232)\" style=\"stroke:#000000; stroke-linecap:round; stroke-linejoin:round; stroke-width:2; stroke-opacity:0.1; fill:none\" points=\"1304.37,1423.18 1304.37,47.2441 \"/>\n",
       "<polyline clip-path=\"url(#clip232)\" style=\"stroke:#000000; stroke-linecap:round; stroke-linejoin:round; stroke-width:2; stroke-opacity:0.1; fill:none\" points=\"1798.89,1423.18 1798.89,47.2441 \"/>\n",
       "<polyline clip-path=\"url(#clip232)\" style=\"stroke:#000000; stroke-linecap:round; stroke-linejoin:round; stroke-width:2; stroke-opacity:0.1; fill:none\" points=\"2293.41,1423.18 2293.41,47.2441 \"/>\n",
       "<polyline clip-path=\"url(#clip232)\" style=\"stroke:#000000; stroke-linecap:round; stroke-linejoin:round; stroke-width:2; stroke-opacity:0.1; fill:none\" points=\"255.977,1206.23 2352.76,1206.23 \"/>\n",
       "<polyline clip-path=\"url(#clip232)\" style=\"stroke:#000000; stroke-linecap:round; stroke-linejoin:round; stroke-width:2; stroke-opacity:0.1; fill:none\" points=\"255.977,971.86 2352.76,971.86 \"/>\n",
       "<polyline clip-path=\"url(#clip232)\" style=\"stroke:#000000; stroke-linecap:round; stroke-linejoin:round; stroke-width:2; stroke-opacity:0.1; fill:none\" points=\"255.977,737.489 2352.76,737.489 \"/>\n",
       "<polyline clip-path=\"url(#clip232)\" style=\"stroke:#000000; stroke-linecap:round; stroke-linejoin:round; stroke-width:2; stroke-opacity:0.1; fill:none\" points=\"255.977,503.118 2352.76,503.118 \"/>\n",
       "<polyline clip-path=\"url(#clip232)\" style=\"stroke:#000000; stroke-linecap:round; stroke-linejoin:round; stroke-width:2; stroke-opacity:0.1; fill:none\" points=\"255.977,268.747 2352.76,268.747 \"/>\n",
       "<polyline clip-path=\"url(#clip232)\" style=\"stroke:#000000; stroke-linecap:round; stroke-linejoin:round; stroke-width:2; stroke-opacity:0.1; fill:none\" points=\"255.977,1206.23 2352.76,1206.23 \"/>\n",
       "<polyline clip-path=\"url(#clip232)\" style=\"stroke:#000000; stroke-linecap:round; stroke-linejoin:round; stroke-width:2; stroke-opacity:0.1; fill:none\" points=\"255.977,971.86 2352.76,971.86 \"/>\n",
       "<polyline clip-path=\"url(#clip232)\" style=\"stroke:#000000; stroke-linecap:round; stroke-linejoin:round; stroke-width:2; stroke-opacity:0.1; fill:none\" points=\"255.977,737.489 2352.76,737.489 \"/>\n",
       "<polyline clip-path=\"url(#clip232)\" style=\"stroke:#000000; stroke-linecap:round; stroke-linejoin:round; stroke-width:2; stroke-opacity:0.1; fill:none\" points=\"255.977,503.118 2352.76,503.118 \"/>\n",
       "<polyline clip-path=\"url(#clip232)\" style=\"stroke:#000000; stroke-linecap:round; stroke-linejoin:round; stroke-width:2; stroke-opacity:0.1; fill:none\" points=\"255.977,268.747 2352.76,268.747 \"/>\n",
       "<polyline clip-path=\"url(#clip230)\" style=\"stroke:#000000; stroke-linecap:round; stroke-linejoin:round; stroke-width:4; stroke-opacity:1; fill:none\" points=\"255.977,1423.18 2352.76,1423.18 \"/>\n",
       "<polyline clip-path=\"url(#clip230)\" style=\"stroke:#000000; stroke-linecap:round; stroke-linejoin:round; stroke-width:4; stroke-opacity:1; fill:none\" points=\"255.977,47.2441 2352.76,47.2441 \"/>\n",
       "<polyline clip-path=\"url(#clip230)\" style=\"stroke:#000000; stroke-linecap:round; stroke-linejoin:round; stroke-width:4; stroke-opacity:1; fill:none\" points=\"315.32,1423.18 315.32,1404.28 \"/>\n",
       "<polyline clip-path=\"url(#clip230)\" style=\"stroke:#000000; stroke-linecap:round; stroke-linejoin:round; stroke-width:4; stroke-opacity:1; fill:none\" points=\"809.843,1423.18 809.843,1404.28 \"/>\n",
       "<polyline clip-path=\"url(#clip230)\" style=\"stroke:#000000; stroke-linecap:round; stroke-linejoin:round; stroke-width:4; stroke-opacity:1; fill:none\" points=\"1304.37,1423.18 1304.37,1404.28 \"/>\n",
       "<polyline clip-path=\"url(#clip230)\" style=\"stroke:#000000; stroke-linecap:round; stroke-linejoin:round; stroke-width:4; stroke-opacity:1; fill:none\" points=\"1798.89,1423.18 1798.89,1404.28 \"/>\n",
       "<polyline clip-path=\"url(#clip230)\" style=\"stroke:#000000; stroke-linecap:round; stroke-linejoin:round; stroke-width:4; stroke-opacity:1; fill:none\" points=\"2293.41,1423.18 2293.41,1404.28 \"/>\n",
       "<polyline clip-path=\"url(#clip230)\" style=\"stroke:#000000; stroke-linecap:round; stroke-linejoin:round; stroke-width:4; stroke-opacity:1; fill:none\" points=\"315.32,47.2441 315.32,66.1417 \"/>\n",
       "<polyline clip-path=\"url(#clip230)\" style=\"stroke:#000000; stroke-linecap:round; stroke-linejoin:round; stroke-width:4; stroke-opacity:1; fill:none\" points=\"809.843,47.2441 809.843,66.1417 \"/>\n",
       "<polyline clip-path=\"url(#clip230)\" style=\"stroke:#000000; stroke-linecap:round; stroke-linejoin:round; stroke-width:4; stroke-opacity:1; fill:none\" points=\"1304.37,47.2441 1304.37,66.1417 \"/>\n",
       "<polyline clip-path=\"url(#clip230)\" style=\"stroke:#000000; stroke-linecap:round; stroke-linejoin:round; stroke-width:4; stroke-opacity:1; fill:none\" points=\"1798.89,47.2441 1798.89,66.1417 \"/>\n",
       "<polyline clip-path=\"url(#clip230)\" style=\"stroke:#000000; stroke-linecap:round; stroke-linejoin:round; stroke-width:4; stroke-opacity:1; fill:none\" points=\"2293.41,47.2441 2293.41,66.1417 \"/>\n",
       "<path clip-path=\"url(#clip230)\" d=\"M292.751 1454.1 Q289.14 1454.1 287.311 1457.66 Q285.505 1461.2 285.505 1468.33 Q285.505 1475.44 287.311 1479.01 Q289.14 1482.55 292.751 1482.55 Q296.385 1482.55 298.19 1479.01 Q300.019 1475.44 300.019 1468.33 Q300.019 1461.2 298.19 1457.66 Q296.385 1454.1 292.751 1454.1 M292.751 1450.39 Q298.561 1450.39 301.616 1455 Q304.695 1459.58 304.695 1468.33 Q304.695 1477.06 301.616 1481.67 Q298.561 1486.25 292.751 1486.25 Q286.941 1486.25 283.862 1481.67 Q280.806 1477.06 280.806 1468.33 Q280.806 1459.58 283.862 1455 Q286.941 1450.39 292.751 1450.39 Z\" fill=\"#000000\" fill-rule=\"nonzero\" fill-opacity=\"1\" /><path clip-path=\"url(#clip230)\" d=\"M312.913 1479.7 L317.797 1479.7 L317.797 1485.58 L312.913 1485.58 L312.913 1479.7 Z\" fill=\"#000000\" fill-rule=\"nonzero\" fill-opacity=\"1\" /><path clip-path=\"url(#clip230)\" d=\"M337.982 1469.17 Q334.649 1469.17 332.727 1470.95 Q330.829 1472.73 330.829 1475.86 Q330.829 1478.98 332.727 1480.77 Q334.649 1482.55 337.982 1482.55 Q341.315 1482.55 343.236 1480.77 Q345.158 1478.96 345.158 1475.86 Q345.158 1472.73 343.236 1470.95 Q341.338 1469.17 337.982 1469.17 M333.306 1467.18 Q330.297 1466.44 328.607 1464.38 Q326.94 1462.32 326.94 1459.35 Q326.94 1455.21 329.88 1452.8 Q332.843 1450.39 337.982 1450.39 Q343.144 1450.39 346.084 1452.8 Q349.024 1455.21 349.024 1459.35 Q349.024 1462.32 347.334 1464.38 Q345.667 1466.44 342.681 1467.18 Q346.061 1467.96 347.936 1470.26 Q349.834 1472.55 349.834 1475.86 Q349.834 1480.88 346.755 1483.57 Q343.699 1486.25 337.982 1486.25 Q332.264 1486.25 329.186 1483.57 Q326.13 1480.88 326.13 1475.86 Q326.13 1472.55 328.028 1470.26 Q329.926 1467.96 333.306 1467.18 M331.593 1459.79 Q331.593 1462.48 333.26 1463.98 Q334.95 1465.49 337.982 1465.49 Q340.991 1465.49 342.681 1463.98 Q344.394 1462.48 344.394 1459.79 Q344.394 1457.11 342.681 1455.6 Q340.991 1454.1 337.982 1454.1 Q334.95 1454.1 333.26 1455.6 Q331.593 1457.11 331.593 1459.79 Z\" fill=\"#000000\" fill-rule=\"nonzero\" fill-opacity=\"1\" /><path clip-path=\"url(#clip230)\" d=\"M787.32 1454.1 Q783.709 1454.1 781.88 1457.66 Q780.075 1461.2 780.075 1468.33 Q780.075 1475.44 781.88 1479.01 Q783.709 1482.55 787.32 1482.55 Q790.954 1482.55 792.76 1479.01 Q794.589 1475.44 794.589 1468.33 Q794.589 1461.2 792.76 1457.66 Q790.954 1454.1 787.32 1454.1 M787.32 1450.39 Q793.13 1450.39 796.186 1455 Q799.265 1459.58 799.265 1468.33 Q799.265 1477.06 796.186 1481.67 Q793.13 1486.25 787.32 1486.25 Q781.51 1486.25 778.431 1481.67 Q775.376 1477.06 775.376 1468.33 Q775.376 1459.58 778.431 1455 Q781.51 1450.39 787.32 1450.39 Z\" fill=\"#000000\" fill-rule=\"nonzero\" fill-opacity=\"1\" /><path clip-path=\"url(#clip230)\" d=\"M807.482 1479.7 L812.366 1479.7 L812.366 1485.58 L807.482 1485.58 L807.482 1479.7 Z\" fill=\"#000000\" fill-rule=\"nonzero\" fill-opacity=\"1\" /><path clip-path=\"url(#clip230)\" d=\"M822.69 1484.86 L822.69 1480.6 Q824.45 1481.44 826.255 1481.88 Q828.061 1482.32 829.797 1482.32 Q834.426 1482.32 836.857 1479.21 Q839.311 1476.09 839.658 1469.75 Q838.315 1471.74 836.255 1472.8 Q834.195 1473.87 831.695 1473.87 Q826.51 1473.87 823.477 1470.74 Q820.468 1467.59 820.468 1462.15 Q820.468 1456.83 823.616 1453.61 Q826.764 1450.39 831.996 1450.39 Q837.991 1450.39 841.139 1455 Q844.311 1459.58 844.311 1468.33 Q844.311 1476.51 840.422 1481.39 Q836.556 1486.25 830.005 1486.25 Q828.246 1486.25 826.44 1485.9 Q824.635 1485.56 822.69 1484.86 M831.996 1470.21 Q835.144 1470.21 836.973 1468.06 Q838.825 1465.9 838.825 1462.15 Q838.825 1458.43 836.973 1456.27 Q835.144 1454.1 831.996 1454.1 Q828.848 1454.1 826.996 1456.27 Q825.167 1458.43 825.167 1462.15 Q825.167 1465.9 826.996 1468.06 Q828.848 1470.21 831.996 1470.21 Z\" fill=\"#000000\" fill-rule=\"nonzero\" fill-opacity=\"1\" /><path clip-path=\"url(#clip230)\" d=\"M1271.52 1481.64 L1279.16 1481.64 L1279.16 1455.28 L1270.85 1456.95 L1270.85 1452.69 L1279.11 1451.02 L1283.79 1451.02 L1283.79 1481.64 L1291.43 1481.64 L1291.43 1485.58 L1271.52 1485.58 L1271.52 1481.64 Z\" fill=\"#000000\" fill-rule=\"nonzero\" fill-opacity=\"1\" /><path clip-path=\"url(#clip230)\" d=\"M1300.87 1479.7 L1305.76 1479.7 L1305.76 1485.58 L1300.87 1485.58 L1300.87 1479.7 Z\" fill=\"#000000\" fill-rule=\"nonzero\" fill-opacity=\"1\" /><path clip-path=\"url(#clip230)\" d=\"M1325.94 1454.1 Q1322.33 1454.1 1320.5 1457.66 Q1318.7 1461.2 1318.7 1468.33 Q1318.7 1475.44 1320.5 1479.01 Q1322.33 1482.55 1325.94 1482.55 Q1329.57 1482.55 1331.38 1479.01 Q1333.21 1475.44 1333.21 1468.33 Q1333.21 1461.2 1331.38 1457.66 Q1329.57 1454.1 1325.94 1454.1 M1325.94 1450.39 Q1331.75 1450.39 1334.81 1455 Q1337.88 1459.58 1337.88 1468.33 Q1337.88 1477.06 1334.81 1481.67 Q1331.75 1486.25 1325.94 1486.25 Q1320.13 1486.25 1317.05 1481.67 Q1314 1477.06 1314 1468.33 Q1314 1459.58 1317.05 1455 Q1320.13 1450.39 1325.94 1450.39 Z\" fill=\"#000000\" fill-rule=\"nonzero\" fill-opacity=\"1\" /><path clip-path=\"url(#clip230)\" d=\"M1766.66 1481.64 L1774.3 1481.64 L1774.3 1455.28 L1765.98 1456.95 L1765.98 1452.69 L1774.25 1451.02 L1778.92 1451.02 L1778.92 1481.64 L1786.56 1481.64 L1786.56 1485.58 L1766.66 1485.58 L1766.66 1481.64 Z\" fill=\"#000000\" fill-rule=\"nonzero\" fill-opacity=\"1\" /><path clip-path=\"url(#clip230)\" d=\"M1796.01 1479.7 L1800.89 1479.7 L1800.89 1485.58 L1796.01 1485.58 L1796.01 1479.7 Z\" fill=\"#000000\" fill-rule=\"nonzero\" fill-opacity=\"1\" /><path clip-path=\"url(#clip230)\" d=\"M1811.89 1481.64 L1819.53 1481.64 L1819.53 1455.28 L1811.22 1456.95 L1811.22 1452.69 L1819.48 1451.02 L1824.16 1451.02 L1824.16 1481.64 L1831.79 1481.64 L1831.79 1485.58 L1811.89 1485.58 L1811.89 1481.64 Z\" fill=\"#000000\" fill-rule=\"nonzero\" fill-opacity=\"1\" /><path clip-path=\"url(#clip230)\" d=\"M2261.36 1481.64 L2269 1481.64 L2269 1455.28 L2260.69 1456.95 L2260.69 1452.69 L2268.96 1451.02 L2273.63 1451.02 L2273.63 1481.64 L2281.27 1481.64 L2281.27 1485.58 L2261.36 1485.58 L2261.36 1481.64 Z\" fill=\"#000000\" fill-rule=\"nonzero\" fill-opacity=\"1\" /><path clip-path=\"url(#clip230)\" d=\"M2290.72 1479.7 L2295.6 1479.7 L2295.6 1485.58 L2290.72 1485.58 L2290.72 1479.7 Z\" fill=\"#000000\" fill-rule=\"nonzero\" fill-opacity=\"1\" /><path clip-path=\"url(#clip230)\" d=\"M2309.81 1481.64 L2326.13 1481.64 L2326.13 1485.58 L2304.19 1485.58 L2304.19 1481.64 Q2306.85 1478.89 2311.43 1474.26 Q2316.04 1469.61 2317.22 1468.27 Q2319.47 1465.74 2320.35 1464.01 Q2321.25 1462.25 2321.25 1460.56 Q2321.25 1457.8 2319.3 1456.07 Q2317.38 1454.33 2314.28 1454.33 Q2312.08 1454.33 2309.63 1455.09 Q2307.2 1455.86 2304.42 1457.41 L2304.42 1452.69 Q2307.24 1451.55 2309.7 1450.97 Q2312.15 1450.39 2314.19 1450.39 Q2319.56 1450.39 2322.75 1453.08 Q2325.95 1455.77 2325.95 1460.26 Q2325.95 1462.39 2325.14 1464.31 Q2324.35 1466.2 2322.24 1468.8 Q2321.67 1469.47 2318.56 1472.69 Q2315.46 1475.88 2309.81 1481.64 Z\" fill=\"#000000\" fill-rule=\"nonzero\" fill-opacity=\"1\" /><path clip-path=\"url(#clip230)\" d=\"M1294.85 1565.85 L1294.85 1581.6 L1288.96 1581.6 L1288.96 1532.62 Q1288.96 1518.1 1302.52 1518.1 Q1316.33 1518.1 1316.33 1530.36 Q1316.33 1539.08 1310.86 1542.26 Q1319.77 1545.13 1319.77 1553.63 Q1319.77 1568.71 1304.43 1568.71 Q1297.68 1568.71 1294.85 1565.85 M1294.85 1558.21 Q1298.38 1563.72 1304.65 1563.72 Q1313.82 1563.72 1313.82 1553.72 Q1313.82 1544.75 1299.05 1545.45 L1299.05 1540.03 Q1310.6 1540.03 1310.6 1529.85 Q1310.6 1522.88 1303.16 1522.88 Q1294.85 1522.88 1294.85 1532.81 L1294.85 1558.21 Z\" fill=\"#000000\" fill-rule=\"nonzero\" fill-opacity=\"1\" /><polyline clip-path=\"url(#clip230)\" style=\"stroke:#000000; stroke-linecap:round; stroke-linejoin:round; stroke-width:4; stroke-opacity:1; fill:none\" points=\"255.977,1423.18 255.977,47.2441 \"/>\n",
       "<polyline clip-path=\"url(#clip230)\" style=\"stroke:#000000; stroke-linecap:round; stroke-linejoin:round; stroke-width:4; stroke-opacity:1; fill:none\" points=\"2352.76,1423.18 2352.76,47.2441 \"/>\n",
       "<polyline clip-path=\"url(#clip230)\" style=\"stroke:#000000; stroke-linecap:round; stroke-linejoin:round; stroke-width:4; stroke-opacity:1; fill:none\" points=\"255.977,1206.23 274.875,1206.23 \"/>\n",
       "<polyline clip-path=\"url(#clip230)\" style=\"stroke:#000000; stroke-linecap:round; stroke-linejoin:round; stroke-width:4; stroke-opacity:1; fill:none\" points=\"255.977,971.86 274.875,971.86 \"/>\n",
       "<polyline clip-path=\"url(#clip230)\" style=\"stroke:#000000; stroke-linecap:round; stroke-linejoin:round; stroke-width:4; stroke-opacity:1; fill:none\" points=\"255.977,737.489 274.875,737.489 \"/>\n",
       "<polyline clip-path=\"url(#clip230)\" style=\"stroke:#000000; stroke-linecap:round; stroke-linejoin:round; stroke-width:4; stroke-opacity:1; fill:none\" points=\"255.977,503.118 274.875,503.118 \"/>\n",
       "<polyline clip-path=\"url(#clip230)\" style=\"stroke:#000000; stroke-linecap:round; stroke-linejoin:round; stroke-width:4; stroke-opacity:1; fill:none\" points=\"255.977,268.747 274.875,268.747 \"/>\n",
       "<polyline clip-path=\"url(#clip230)\" style=\"stroke:#000000; stroke-linecap:round; stroke-linejoin:round; stroke-width:4; stroke-opacity:1; fill:none\" points=\"2352.76,1206.23 2333.86,1206.23 \"/>\n",
       "<polyline clip-path=\"url(#clip230)\" style=\"stroke:#000000; stroke-linecap:round; stroke-linejoin:round; stroke-width:4; stroke-opacity:1; fill:none\" points=\"2352.76,971.86 2333.86,971.86 \"/>\n",
       "<polyline clip-path=\"url(#clip230)\" style=\"stroke:#000000; stroke-linecap:round; stroke-linejoin:round; stroke-width:4; stroke-opacity:1; fill:none\" points=\"2352.76,737.489 2333.86,737.489 \"/>\n",
       "<polyline clip-path=\"url(#clip230)\" style=\"stroke:#000000; stroke-linecap:round; stroke-linejoin:round; stroke-width:4; stroke-opacity:1; fill:none\" points=\"2352.76,503.118 2333.86,503.118 \"/>\n",
       "<polyline clip-path=\"url(#clip230)\" style=\"stroke:#000000; stroke-linecap:round; stroke-linejoin:round; stroke-width:4; stroke-opacity:1; fill:none\" points=\"2352.76,268.747 2333.86,268.747 \"/>\n",
       "<path clip-path=\"url(#clip230)\" d=\"M114.631 1206.68 L144.306 1206.68 L144.306 1210.62 L114.631 1210.62 L114.631 1206.68 Z\" fill=\"#000000\" fill-rule=\"nonzero\" fill-opacity=\"1\" /><path clip-path=\"url(#clip230)\" d=\"M164.399 1192.03 Q160.788 1192.03 158.959 1195.59 Q157.153 1199.14 157.153 1206.27 Q157.153 1213.37 158.959 1216.94 Q160.788 1220.48 164.399 1220.48 Q168.033 1220.48 169.839 1216.94 Q171.667 1213.37 171.667 1206.27 Q171.667 1199.14 169.839 1195.59 Q168.033 1192.03 164.399 1192.03 M164.399 1188.33 Q170.209 1188.33 173.264 1192.93 Q176.343 1197.52 176.343 1206.27 Q176.343 1214.99 173.264 1219.6 Q170.209 1224.18 164.399 1224.18 Q158.589 1224.18 155.51 1219.6 Q152.454 1214.99 152.454 1206.27 Q152.454 1197.52 155.51 1192.93 Q158.589 1188.33 164.399 1188.33 Z\" fill=\"#000000\" fill-rule=\"nonzero\" fill-opacity=\"1\" /><path clip-path=\"url(#clip230)\" d=\"M184.561 1217.63 L189.445 1217.63 L189.445 1223.51 L184.561 1223.51 L184.561 1217.63 Z\" fill=\"#000000\" fill-rule=\"nonzero\" fill-opacity=\"1\" /><path clip-path=\"url(#clip230)\" d=\"M203.658 1219.58 L219.977 1219.58 L219.977 1223.51 L198.033 1223.51 L198.033 1219.58 Q200.695 1216.82 205.278 1212.19 Q209.885 1207.54 211.065 1206.2 Q213.311 1203.67 214.19 1201.94 Q215.093 1200.18 215.093 1198.49 Q215.093 1195.73 213.149 1194 Q211.227 1192.26 208.125 1192.26 Q205.926 1192.26 203.473 1193.03 Q201.042 1193.79 198.264 1195.34 L198.264 1190.62 Q201.088 1189.48 203.542 1188.9 Q205.996 1188.33 208.033 1188.33 Q213.403 1188.33 216.598 1191.01 Q219.792 1193.7 219.792 1198.19 Q219.792 1200.32 218.982 1202.24 Q218.195 1204.14 216.088 1206.73 Q215.51 1207.4 212.408 1210.62 Q209.306 1213.81 203.658 1219.58 Z\" fill=\"#000000\" fill-rule=\"nonzero\" fill-opacity=\"1\" /><path clip-path=\"url(#clip230)\" d=\"M114.26 972.311 L143.936 972.311 L143.936 976.246 L114.26 976.246 L114.26 972.311 Z\" fill=\"#000000\" fill-rule=\"nonzero\" fill-opacity=\"1\" /><path clip-path=\"url(#clip230)\" d=\"M164.028 957.659 Q160.417 957.659 158.589 961.223 Q156.783 964.765 156.783 971.895 Q156.783 979.001 158.589 982.566 Q160.417 986.108 164.028 986.108 Q167.663 986.108 169.468 982.566 Q171.297 979.001 171.297 971.895 Q171.297 964.765 169.468 961.223 Q167.663 957.659 164.028 957.659 M164.028 953.955 Q169.839 953.955 172.894 958.561 Q175.973 963.145 175.973 971.895 Q175.973 980.621 172.894 985.228 Q169.839 989.811 164.028 989.811 Q158.218 989.811 155.14 985.228 Q152.084 980.621 152.084 971.895 Q152.084 963.145 155.14 958.561 Q158.218 953.955 164.028 953.955 Z\" fill=\"#000000\" fill-rule=\"nonzero\" fill-opacity=\"1\" /><path clip-path=\"url(#clip230)\" d=\"M184.19 983.26 L189.075 983.26 L189.075 989.14 L184.19 989.14 L184.19 983.26 Z\" fill=\"#000000\" fill-rule=\"nonzero\" fill-opacity=\"1\" /><path clip-path=\"url(#clip230)\" d=\"M200.07 985.205 L207.709 985.205 L207.709 958.839 L199.399 960.506 L199.399 956.247 L207.662 954.58 L212.338 954.58 L212.338 985.205 L219.977 985.205 L219.977 989.14 L200.07 989.14 L200.07 985.205 Z\" fill=\"#000000\" fill-rule=\"nonzero\" fill-opacity=\"1\" /><path clip-path=\"url(#clip230)\" d=\"M162.802 723.287 Q159.19 723.287 157.362 726.852 Q155.556 730.394 155.556 737.523 Q155.556 744.63 157.362 748.195 Q159.19 751.736 162.802 751.736 Q166.436 751.736 168.241 748.195 Q170.07 744.63 170.07 737.523 Q170.07 730.394 168.241 726.852 Q166.436 723.287 162.802 723.287 M162.802 719.584 Q168.612 719.584 171.667 724.19 Q174.746 728.774 174.746 737.523 Q174.746 746.25 171.667 750.857 Q168.612 755.44 162.802 755.44 Q156.991 755.44 153.913 750.857 Q150.857 746.25 150.857 737.523 Q150.857 728.774 153.913 724.19 Q156.991 719.584 162.802 719.584 Z\" fill=\"#000000\" fill-rule=\"nonzero\" fill-opacity=\"1\" /><path clip-path=\"url(#clip230)\" d=\"M182.963 748.889 L187.848 748.889 L187.848 754.769 L182.963 754.769 L182.963 748.889 Z\" fill=\"#000000\" fill-rule=\"nonzero\" fill-opacity=\"1\" /><path clip-path=\"url(#clip230)\" d=\"M208.033 723.287 Q204.422 723.287 202.593 726.852 Q200.787 730.394 200.787 737.523 Q200.787 744.63 202.593 748.195 Q204.422 751.736 208.033 751.736 Q211.667 751.736 213.473 748.195 Q215.301 744.63 215.301 737.523 Q215.301 730.394 213.473 726.852 Q211.667 723.287 208.033 723.287 M208.033 719.584 Q213.843 719.584 216.898 724.19 Q219.977 728.774 219.977 737.523 Q219.977 746.25 216.898 750.857 Q213.843 755.44 208.033 755.44 Q202.223 755.44 199.144 750.857 Q196.088 746.25 196.088 737.523 Q196.088 728.774 199.144 724.19 Q202.223 719.584 208.033 719.584 Z\" fill=\"#000000\" fill-rule=\"nonzero\" fill-opacity=\"1\" /><path clip-path=\"url(#clip230)\" d=\"M164.028 488.916 Q160.417 488.916 158.589 492.481 Q156.783 496.023 156.783 503.152 Q156.783 510.259 158.589 513.824 Q160.417 517.365 164.028 517.365 Q167.663 517.365 169.468 513.824 Q171.297 510.259 171.297 503.152 Q171.297 496.023 169.468 492.481 Q167.663 488.916 164.028 488.916 M164.028 485.213 Q169.839 485.213 172.894 489.819 Q175.973 494.402 175.973 503.152 Q175.973 511.879 172.894 516.486 Q169.839 521.069 164.028 521.069 Q158.218 521.069 155.14 516.486 Q152.084 511.879 152.084 503.152 Q152.084 494.402 155.14 489.819 Q158.218 485.213 164.028 485.213 Z\" fill=\"#000000\" fill-rule=\"nonzero\" fill-opacity=\"1\" /><path clip-path=\"url(#clip230)\" d=\"M184.19 514.518 L189.075 514.518 L189.075 520.398 L184.19 520.398 L184.19 514.518 Z\" fill=\"#000000\" fill-rule=\"nonzero\" fill-opacity=\"1\" /><path clip-path=\"url(#clip230)\" d=\"M200.07 516.462 L207.709 516.462 L207.709 490.097 L199.399 491.764 L199.399 487.504 L207.662 485.838 L212.338 485.838 L212.338 516.462 L219.977 516.462 L219.977 520.398 L200.07 520.398 L200.07 516.462 Z\" fill=\"#000000\" fill-rule=\"nonzero\" fill-opacity=\"1\" /><path clip-path=\"url(#clip230)\" d=\"M164.399 254.545 Q160.788 254.545 158.959 258.11 Q157.153 261.652 157.153 268.781 Q157.153 275.888 158.959 279.452 Q160.788 282.994 164.399 282.994 Q168.033 282.994 169.839 279.452 Q171.667 275.888 171.667 268.781 Q171.667 261.652 169.839 258.11 Q168.033 254.545 164.399 254.545 M164.399 250.842 Q170.209 250.842 173.264 255.448 Q176.343 260.031 176.343 268.781 Q176.343 277.508 173.264 282.115 Q170.209 286.698 164.399 286.698 Q158.589 286.698 155.51 282.115 Q152.454 277.508 152.454 268.781 Q152.454 260.031 155.51 255.448 Q158.589 250.842 164.399 250.842 Z\" fill=\"#000000\" fill-rule=\"nonzero\" fill-opacity=\"1\" /><path clip-path=\"url(#clip230)\" d=\"M184.561 280.147 L189.445 280.147 L189.445 286.027 L184.561 286.027 L184.561 280.147 Z\" fill=\"#000000\" fill-rule=\"nonzero\" fill-opacity=\"1\" /><path clip-path=\"url(#clip230)\" d=\"M203.658 282.091 L219.977 282.091 L219.977 286.027 L198.033 286.027 L198.033 282.091 Q200.695 279.337 205.278 274.707 Q209.885 270.054 211.065 268.712 Q213.311 266.189 214.19 264.453 Q215.093 262.693 215.093 261.004 Q215.093 258.249 213.149 256.513 Q211.227 254.777 208.125 254.777 Q205.926 254.777 203.473 255.541 Q201.042 256.304 198.264 257.855 L198.264 253.133 Q201.088 251.999 203.542 251.42 Q205.996 250.842 208.033 250.842 Q213.403 250.842 216.598 253.527 Q219.792 256.212 219.792 260.703 Q219.792 262.832 218.982 264.753 Q218.195 266.652 216.088 269.244 Q215.51 269.916 212.408 273.133 Q209.306 276.328 203.658 282.091 Z\" fill=\"#000000\" fill-rule=\"nonzero\" fill-opacity=\"1\" /><path clip-path=\"url(#clip230)\" d=\"M21.7677 1216.38 L39.6235 1216.38 L39.6235 1208.3 Q39.6235 1203.81 37.3 1201.36 Q34.9765 1198.91 30.6797 1198.91 Q26.4147 1198.91 24.0912 1201.36 Q21.7677 1203.81 21.7677 1208.3 L21.7677 1216.38 M16.4842 1222.81 L16.4842 1208.3 Q16.4842 1200.31 20.1126 1196.23 Q23.7092 1192.13 30.6797 1192.13 Q37.7138 1192.13 41.3104 1196.23 Q44.907 1200.31 44.907 1208.3 L44.907 1216.38 L64.0042 1216.38 L64.0042 1222.81 L16.4842 1222.81 Z\" fill=\"#000000\" fill-rule=\"nonzero\" fill-opacity=\"1\" /><path clip-path=\"url(#clip230)\" d=\"M44.7161 1155.59 L47.5806 1155.59 L47.5806 1182.51 Q53.6281 1182.13 56.8109 1178.89 Q59.9619 1175.61 59.9619 1169.78 Q59.9619 1166.41 59.1344 1163.26 Q58.3069 1160.08 56.6518 1156.96 L62.1899 1156.96 Q63.5267 1160.11 64.227 1163.42 Q64.9272 1166.73 64.9272 1170.13 Q64.9272 1178.66 59.9619 1183.66 Q54.9967 1188.63 46.5303 1188.63 Q37.7774 1188.63 32.6531 1183.91 Q27.4968 1179.17 27.4968 1171.15 Q27.4968 1163.96 32.1438 1159.79 Q36.7589 1155.59 44.7161 1155.59 M42.9973 1161.44 Q38.1912 1161.51 35.3266 1164.15 Q32.4621 1166.76 32.4621 1171.09 Q32.4621 1175.99 35.2312 1178.95 Q38.0002 1181.88 43.0292 1182.32 L42.9973 1161.44 Z\" fill=\"#000000\" fill-rule=\"nonzero\" fill-opacity=\"1\" /><path clip-path=\"url(#clip230)\" d=\"M33.8307 1125.32 Q33.2578 1126.31 33.0032 1127.48 Q32.7167 1128.63 32.7167 1130.03 Q32.7167 1134.99 35.9632 1137.67 Q39.1779 1140.31 45.2253 1140.31 L64.0042 1140.31 L64.0042 1146.2 L28.3562 1146.2 L28.3562 1140.31 L33.8944 1140.31 Q30.6479 1138.46 29.0883 1135.5 Q27.4968 1132.54 27.4968 1128.31 Q27.4968 1127.71 27.5923 1126.97 Q27.656 1126.24 27.8151 1125.35 L33.8307 1125.32 Z\" fill=\"#000000\" fill-rule=\"nonzero\" fill-opacity=\"1\" /><path clip-path=\"url(#clip230)\" d=\"M29.7248 1094.95 L35.1993 1094.95 Q33.8307 1097.44 33.1623 1099.95 Q32.4621 1102.43 32.4621 1104.98 Q32.4621 1110.68 36.0905 1113.83 Q39.6872 1116.98 46.212 1116.98 Q52.7369 1116.98 56.3653 1113.83 Q59.9619 1110.68 59.9619 1104.98 Q59.9619 1102.43 59.2935 1099.95 Q58.5933 1097.44 57.2247 1094.95 L62.6355 1094.95 Q63.7814 1097.4 64.3543 1100.05 Q64.9272 1102.66 64.9272 1105.62 Q64.9272 1113.67 59.8664 1118.41 Q54.8057 1123.15 46.212 1123.15 Q37.491 1123.15 32.4939 1118.38 Q27.4968 1113.57 27.4968 1105.23 Q27.4968 1102.53 28.0697 1099.95 Q28.6108 1097.37 29.7248 1094.95 Z\" fill=\"#000000\" fill-rule=\"nonzero\" fill-opacity=\"1\" /><path clip-path=\"url(#clip230)\" d=\"M44.7161 1054.28 L47.5806 1054.28 L47.5806 1081.2 Q53.6281 1080.82 56.8109 1077.58 Q59.9619 1074.3 59.9619 1068.47 Q59.9619 1065.1 59.1344 1061.95 Q58.3069 1058.76 56.6518 1055.65 L62.1899 1055.65 Q63.5267 1058.8 64.227 1062.11 Q64.9272 1065.42 64.9272 1068.82 Q64.9272 1077.35 59.9619 1082.35 Q54.9967 1087.32 46.5303 1087.32 Q37.7774 1087.32 32.6531 1082.6 Q27.4968 1077.86 27.4968 1069.84 Q27.4968 1062.65 32.1438 1058.48 Q36.7589 1054.28 44.7161 1054.28 M42.9973 1060.13 Q38.1912 1060.2 35.3266 1062.84 Q32.4621 1065.45 32.4621 1069.78 Q32.4621 1074.68 35.2312 1077.64 Q38.0002 1080.57 43.0292 1081.01 L42.9973 1060.13 Z\" fill=\"#000000\" fill-rule=\"nonzero\" fill-opacity=\"1\" /><path clip-path=\"url(#clip230)\" d=\"M42.4881 1015.03 L64.0042 1015.03 L64.0042 1020.89 L42.679 1020.89 Q37.6183 1020.89 35.1038 1022.86 Q32.5894 1024.84 32.5894 1028.78 Q32.5894 1033.52 35.6131 1036.26 Q38.6368 1039 43.8567 1039 L64.0042 1039 L64.0042 1044.89 L28.3562 1044.89 L28.3562 1039 L33.8944 1039 Q30.6797 1036.9 29.0883 1034.07 Q27.4968 1031.2 27.4968 1027.48 Q27.4968 1021.33 31.3163 1018.18 Q35.1038 1015.03 42.4881 1015.03 Z\" fill=\"#000000\" fill-rule=\"nonzero\" fill-opacity=\"1\" /><path clip-path=\"url(#clip230)\" d=\"M18.2347 997.559 L28.3562 997.559 L28.3562 985.496 L32.9077 985.496 L32.9077 997.559 L52.2594 997.559 Q56.6199 997.559 57.8613 996.381 Q59.1026 995.172 59.1026 991.511 L59.1026 985.496 L64.0042 985.496 L64.0042 991.511 Q64.0042 998.291 61.4897 1000.87 Q58.9434 1003.45 52.2594 1003.45 L32.9077 1003.45 L32.9077 1007.74 L28.3562 1007.74 L28.3562 1003.45 L18.2347 1003.45 L18.2347 997.559 Z\" fill=\"#000000\" fill-rule=\"nonzero\" fill-opacity=\"1\" /><path clip-path=\"url(#clip230)\" d=\"M46.0847 961.592 Q46.0847 968.69 47.7079 971.427 Q49.3312 974.165 53.2461 974.165 Q56.3653 974.165 58.2114 972.128 Q60.0256 970.059 60.0256 966.526 Q60.0256 961.656 56.5881 958.728 Q53.1188 955.768 47.3897 955.768 L46.0847 955.768 L46.0847 961.592 M43.6657 949.911 L64.0042 949.911 L64.0042 955.768 L58.5933 955.768 Q61.8398 957.773 63.3994 960.765 Q64.9272 963.757 64.9272 968.085 Q64.9272 973.56 61.8716 976.806 Q58.7843 980.021 53.6281 980.021 Q47.6125 980.021 44.5569 976.011 Q41.5014 971.969 41.5014 963.98 L41.5014 955.768 L40.9285 955.768 Q36.8862 955.768 34.6901 958.441 Q32.4621 961.083 32.4621 965.889 Q32.4621 968.945 33.1941 971.841 Q33.9262 974.738 35.3903 977.411 L29.9795 977.411 Q28.7381 974.197 28.1334 971.173 Q27.4968 968.149 27.4968 965.285 Q27.4968 957.55 31.5072 953.731 Q35.5176 949.911 43.6657 949.911 Z\" fill=\"#000000\" fill-rule=\"nonzero\" fill-opacity=\"1\" /><path clip-path=\"url(#clip230)\" d=\"M45.7664 914.391 Q39.4007 914.391 35.8996 917.032 Q32.3984 919.642 32.3984 924.385 Q32.3984 929.095 35.8996 931.737 Q39.4007 934.347 45.7664 934.347 Q52.1003 934.347 55.6014 931.737 Q59.1026 929.095 59.1026 924.385 Q59.1026 919.642 55.6014 917.032 Q52.1003 914.391 45.7664 914.391 M59.58 908.534 Q68.683 908.534 73.1071 912.576 Q77.5631 916.619 77.5631 924.958 Q77.5631 928.045 77.0857 930.782 Q76.6401 933.52 75.6852 936.098 L69.9879 936.098 Q71.3884 933.52 72.0568 931.005 Q72.7252 928.491 72.7252 925.881 Q72.7252 920.12 69.7015 917.255 Q66.7096 914.391 60.6303 914.391 L57.7339 914.391 Q60.885 916.205 62.4446 919.038 Q64.0042 921.87 64.0042 925.817 Q64.0042 932.374 59.0071 936.384 Q54.01 940.395 45.7664 940.395 Q37.491 940.395 32.4939 936.384 Q27.4968 932.374 27.4968 925.817 Q27.4968 921.87 29.0564 919.038 Q30.616 916.205 33.7671 914.391 L28.3562 914.391 L28.3562 908.534 L59.58 908.534 Z\" fill=\"#000000\" fill-rule=\"nonzero\" fill-opacity=\"1\" /><path clip-path=\"url(#clip230)\" d=\"M44.7161 865.979 L47.5806 865.979 L47.5806 892.906 Q53.6281 892.524 56.8109 889.278 Q59.9619 886 59.9619 880.175 Q59.9619 876.801 59.1344 873.65 Q58.3069 870.467 56.6518 867.348 L62.1899 867.348 Q63.5267 870.499 64.227 873.809 Q64.9272 877.119 64.9272 880.525 Q64.9272 889.055 59.9619 894.052 Q54.9967 899.018 46.5303 899.018 Q37.7774 899.018 32.6531 894.307 Q27.4968 889.564 27.4968 881.544 Q27.4968 874.35 32.1438 870.181 Q36.7589 865.979 44.7161 865.979 M42.9973 871.836 Q38.1912 871.9 35.3266 874.541 Q32.4621 877.151 32.4621 881.48 Q32.4621 886.382 35.2312 889.342 Q38.0002 892.27 43.0292 892.715 L42.9973 871.836 Z\" fill=\"#000000\" fill-rule=\"nonzero\" fill-opacity=\"1\" /><path clip-path=\"url(#clip230)\" d=\"M29.7248 809.993 L35.1993 809.993 Q33.8307 812.476 33.1623 814.99 Q32.4621 817.473 32.4621 820.019 Q32.4621 825.716 36.0905 828.867 Q39.6872 832.018 46.212 832.018 Q52.7369 832.018 56.3653 828.867 Q59.9619 825.716 59.9619 820.019 Q59.9619 817.473 59.2935 814.99 Q58.5933 812.476 57.2247 809.993 L62.6355 809.993 Q63.7814 812.444 64.3543 815.086 Q64.9272 817.696 64.9272 820.656 Q64.9272 828.708 59.8664 833.451 Q54.8057 838.193 46.212 838.193 Q37.491 838.193 32.4939 833.419 Q27.4968 828.613 27.4968 820.274 Q27.4968 817.568 28.0697 814.99 Q28.6108 812.412 29.7248 809.993 Z\" fill=\"#000000\" fill-rule=\"nonzero\" fill-opacity=\"1\" /><path clip-path=\"url(#clip230)\" d=\"M42.4881 770.176 L64.0042 770.176 L64.0042 776.032 L42.679 776.032 Q37.6183 776.032 35.1038 778.005 Q32.5894 779.979 32.5894 783.926 Q32.5894 788.668 35.6131 791.405 Q38.6368 794.142 43.8567 794.142 L64.0042 794.142 L64.0042 800.031 L14.479 800.031 L14.479 794.142 L33.8944 794.142 Q30.6797 792.042 29.0883 789.209 Q27.4968 786.345 27.4968 782.621 Q27.4968 776.478 31.3163 773.327 Q35.1038 770.176 42.4881 770.176 Z\" fill=\"#000000\" fill-rule=\"nonzero\" fill-opacity=\"1\" /><path clip-path=\"url(#clip230)\" d=\"M46.0847 742.294 Q46.0847 749.392 47.7079 752.129 Q49.3312 754.866 53.2461 754.866 Q56.3653 754.866 58.2114 752.829 Q60.0256 750.76 60.0256 747.227 Q60.0256 742.357 56.5881 739.429 Q53.1188 736.469 47.3897 736.469 L46.0847 736.469 L46.0847 742.294 M43.6657 730.613 L64.0042 730.613 L64.0042 736.469 L58.5933 736.469 Q61.8398 738.474 63.3994 741.466 Q64.9272 744.458 64.9272 748.787 Q64.9272 754.261 61.8716 757.508 Q58.7843 760.723 53.6281 760.723 Q47.6125 760.723 44.5569 756.712 Q41.5014 752.67 41.5014 744.681 L41.5014 736.469 L40.9285 736.469 Q36.8862 736.469 34.6901 739.143 Q32.4621 741.785 32.4621 746.591 Q32.4621 749.646 33.1941 752.543 Q33.9262 755.439 35.3903 758.113 L29.9795 758.113 Q28.7381 754.898 28.1334 751.874 Q27.4968 748.85 27.4968 745.986 Q27.4968 738.252 31.5072 734.432 Q35.5176 730.613 43.6657 730.613 Z\" fill=\"#000000\" fill-rule=\"nonzero\" fill-opacity=\"1\" /><path clip-path=\"url(#clip230)\" d=\"M42.4881 688.917 L64.0042 688.917 L64.0042 694.774 L42.679 694.774 Q37.6183 694.774 35.1038 696.747 Q32.5894 698.721 32.5894 702.667 Q32.5894 707.41 35.6131 710.147 Q38.6368 712.884 43.8567 712.884 L64.0042 712.884 L64.0042 718.773 L28.3562 718.773 L28.3562 712.884 L33.8944 712.884 Q30.6797 710.784 29.0883 707.951 Q27.4968 705.086 27.4968 701.362 Q27.4968 695.219 31.3163 692.068 Q35.1038 688.917 42.4881 688.917 Z\" fill=\"#000000\" fill-rule=\"nonzero\" fill-opacity=\"1\" /><path clip-path=\"url(#clip230)\" d=\"M45.7664 653.779 Q39.4007 653.779 35.8996 656.42 Q32.3984 659.03 32.3984 663.773 Q32.3984 668.483 35.8996 671.125 Q39.4007 673.735 45.7664 673.735 Q52.1003 673.735 55.6014 671.125 Q59.1026 668.483 59.1026 663.773 Q59.1026 659.03 55.6014 656.42 Q52.1003 653.779 45.7664 653.779 M59.58 647.922 Q68.683 647.922 73.1071 651.964 Q77.5631 656.007 77.5631 664.346 Q77.5631 667.433 77.0857 670.17 Q76.6401 672.908 75.6852 675.486 L69.9879 675.486 Q71.3884 672.908 72.0568 670.393 Q72.7252 667.879 72.7252 665.269 Q72.7252 659.508 69.7015 656.643 Q66.7096 653.779 60.6303 653.779 L57.7339 653.779 Q60.885 655.593 62.4446 658.426 Q64.0042 661.258 64.0042 665.205 Q64.0042 671.762 59.0071 675.772 Q54.01 679.783 45.7664 679.783 Q37.491 679.783 32.4939 675.772 Q27.4968 671.762 27.4968 665.205 Q27.4968 661.258 29.0564 658.426 Q30.616 655.593 33.7671 653.779 L28.3562 653.779 L28.3562 647.922 L59.58 647.922 Z\" fill=\"#000000\" fill-rule=\"nonzero\" fill-opacity=\"1\" /><path clip-path=\"url(#clip230)\" d=\"M44.7161 605.367 L47.5806 605.367 L47.5806 632.294 Q53.6281 631.912 56.8109 628.666 Q59.9619 625.388 59.9619 619.563 Q59.9619 616.189 59.1344 613.038 Q58.3069 609.855 56.6518 606.736 L62.1899 606.736 Q63.5267 609.887 64.227 613.197 Q64.9272 616.507 64.9272 619.913 Q64.9272 628.443 59.9619 633.44 Q54.9967 638.405 46.5303 638.405 Q37.7774 638.405 32.6531 633.695 Q27.4968 628.952 27.4968 620.932 Q27.4968 613.738 32.1438 609.569 Q36.7589 605.367 44.7161 605.367 M42.9973 611.224 Q38.1912 611.288 35.3266 613.929 Q32.4621 616.539 32.4621 620.868 Q32.4621 625.77 35.2312 628.73 Q38.0002 631.658 43.0292 632.103 L42.9973 611.224 Z\" fill=\"#000000\" fill-rule=\"nonzero\" fill-opacity=\"1\" /><path clip-path=\"url(#clip230)\" d=\"M16.4842 581.369 L16.4842 541.169 L21.895 541.169 L21.895 558.038 L64.0042 558.038 L64.0042 564.5 L21.895 564.5 L21.895 581.369 L16.4842 581.369 Z\" fill=\"#000000\" fill-rule=\"nonzero\" fill-opacity=\"1\" /><path clip-path=\"url(#clip230)\" d=\"M43.5384 544.161 L43.5384 527.006 L48.7583 527.006 L48.7583 544.161 L43.5384 544.161 Z\" fill=\"#000000\" fill-rule=\"nonzero\" fill-opacity=\"1\" /><path clip-path=\"url(#clip230)\" d=\"M41.3104 513.319 L58.7206 513.319 L58.7206 503.007 Q58.7206 497.819 56.5881 495.336 Q54.4238 492.822 49.9996 492.822 Q45.5436 492.822 43.4429 495.336 Q41.3104 497.819 41.3104 503.007 L41.3104 513.319 M21.7677 513.319 L36.0905 513.319 L36.0905 503.803 Q36.0905 499.092 34.34 496.8 Q32.5576 494.477 28.9291 494.477 Q25.3325 494.477 23.5501 496.8 Q21.7677 499.092 21.7677 503.803 L21.7677 513.319 M16.4842 519.749 L16.4842 503.325 Q16.4842 495.973 19.5397 491.994 Q22.5952 488.016 28.2289 488.016 Q32.5894 488.016 35.1675 490.053 Q37.7456 492.09 38.3822 496.036 Q39.4007 491.294 42.6472 488.684 Q45.8619 486.042 50.6998 486.042 Q57.0655 486.042 60.5348 490.371 Q64.0042 494.7 64.0042 502.689 L64.0042 519.749 L16.4842 519.749 Z\" fill=\"#000000\" fill-rule=\"nonzero\" fill-opacity=\"1\" /><path clip-path=\"url(#clip230)\" d=\"M28.3562 475.284 L28.3562 469.428 L64.0042 469.428 L64.0042 475.284 L28.3562 475.284 M14.479 475.284 L14.479 469.428 L21.895 469.428 L21.895 475.284 L14.479 475.284 Z\" fill=\"#000000\" fill-rule=\"nonzero\" fill-opacity=\"1\" /><path clip-path=\"url(#clip230)\" d=\"M14.479 457.174 L14.479 451.317 L64.0042 451.317 L64.0042 457.174 L14.479 457.174 Z\" fill=\"#000000\" fill-rule=\"nonzero\" fill-opacity=\"1\" /><path clip-path=\"url(#clip230)\" d=\"M14.479 439.063 L14.479 433.207 L64.0042 433.207 L64.0042 439.063 L14.479 439.063 Z\" fill=\"#000000\" fill-rule=\"nonzero\" fill-opacity=\"1\" /><path clip-path=\"url(#clip230)\" d=\"M58.657 394.567 L77.5631 394.567 L77.5631 400.455 L28.3562 400.455 L28.3562 394.567 L33.7671 394.567 Q30.5842 392.721 29.0564 389.92 Q27.4968 387.087 27.4968 383.172 Q27.4968 376.679 32.6531 372.637 Q37.8093 368.563 46.212 368.563 Q54.6147 368.563 59.771 372.637 Q64.9272 376.679 64.9272 383.172 Q64.9272 387.087 63.3994 389.92 Q61.8398 392.721 58.657 394.567 M46.212 374.642 Q39.7508 374.642 36.0905 377.316 Q32.3984 379.958 32.3984 384.605 Q32.3984 389.252 36.0905 391.925 Q39.7508 394.567 46.212 394.567 Q52.6732 394.567 56.3653 391.925 Q60.0256 389.252 60.0256 384.605 Q60.0256 379.958 56.3653 377.316 Q52.6732 374.642 46.212 374.642 Z\" fill=\"#000000\" fill-rule=\"nonzero\" fill-opacity=\"1\" /><path clip-path=\"url(#clip230)\" d=\"M33.8307 338.199 Q33.2578 339.185 33.0032 340.363 Q32.7167 341.509 32.7167 342.909 Q32.7167 347.875 35.9632 350.548 Q39.1779 353.19 45.2253 353.19 L64.0042 353.19 L64.0042 359.078 L28.3562 359.078 L28.3562 353.19 L33.8944 353.19 Q30.6479 351.344 29.0883 348.384 Q27.4968 345.424 27.4968 341.191 Q27.4968 340.586 27.5923 339.854 Q27.656 339.122 27.8151 338.231 L33.8307 338.199 Z\" fill=\"#000000\" fill-rule=\"nonzero\" fill-opacity=\"1\" /><path clip-path=\"url(#clip230)\" d=\"M28.3562 332.056 L28.3562 326.199 L64.0042 326.199 L64.0042 332.056 L28.3562 332.056 M14.479 332.056 L14.479 326.199 L21.895 326.199 L21.895 332.056 L14.479 332.056 Z\" fill=\"#000000\" fill-rule=\"nonzero\" fill-opacity=\"1\" /><path clip-path=\"url(#clip230)\" d=\"M29.7248 288.292 L35.1993 288.292 Q33.8307 290.774 33.1623 293.289 Q32.4621 295.771 32.4621 298.318 Q32.4621 304.015 36.0905 307.166 Q39.6872 310.317 46.212 310.317 Q52.7369 310.317 56.3653 307.166 Q59.9619 304.015 59.9619 298.318 Q59.9619 295.771 59.2935 293.289 Q58.5933 290.774 57.2247 288.292 L62.6355 288.292 Q63.7814 290.742 64.3543 293.384 Q64.9272 295.994 64.9272 298.954 Q64.9272 307.007 59.8664 311.749 Q54.8057 316.492 46.212 316.492 Q37.491 316.492 32.4939 311.717 Q27.4968 306.911 27.4968 298.572 Q27.4968 295.867 28.0697 293.289 Q28.6108 290.711 29.7248 288.292 Z\" fill=\"#000000\" fill-rule=\"nonzero\" fill-opacity=\"1\" /><path clip-path=\"url(#clip230)\" d=\"M44.7161 247.615 L47.5806 247.615 L47.5806 274.542 Q53.6281 274.16 56.8109 270.913 Q59.9619 267.635 59.9619 261.81 Q59.9619 258.436 59.1344 255.285 Q58.3069 252.103 56.6518 248.983 L62.1899 248.983 Q63.5267 252.134 64.227 255.445 Q64.9272 258.755 64.9272 262.16 Q64.9272 270.69 59.9619 275.688 Q54.9967 280.653 46.5303 280.653 Q37.7774 280.653 32.6531 275.942 Q27.4968 271.2 27.4968 263.179 Q27.4968 255.986 32.1438 251.816 Q36.7589 247.615 44.7161 247.615 M42.9973 253.471 Q38.1912 253.535 35.3266 256.177 Q32.4621 258.787 32.4621 263.115 Q32.4621 268.017 35.2312 270.977 Q38.0002 273.905 43.0292 274.351 L42.9973 253.471 Z\" fill=\"#000000\" fill-rule=\"nonzero\" fill-opacity=\"1\" /><polyline clip-path=\"url(#clip232)\" style=\"stroke:#000000; stroke-linecap:round; stroke-linejoin:round; stroke-width:12; stroke-opacity:1; fill:none\" points=\"315.32,86.1857 645.002,303.796 974.684,520.896 1304.37,737.489 1634.05,953.575 1963.73,1169.16 2293.41,1384.24 \"/>\n",
       "<path clip-path=\"url(#clip230)\" d=\"M1643.16 196.789 L2282.86 196.789 L2282.86 93.1086 L1643.16 93.1086  Z\" fill=\"#f2f2f2\" fill-rule=\"evenodd\" fill-opacity=\"1\"/>\n",
       "<polyline clip-path=\"url(#clip230)\" style=\"stroke:#000000; stroke-linecap:round; stroke-linejoin:round; stroke-width:4; stroke-opacity:0; fill:none\" points=\"1643.16,196.789 2282.86,196.789 2282.86,93.1086 1643.16,93.1086 1643.16,196.789 \"/>\n",
       "<polyline clip-path=\"url(#clip230)\" style=\"stroke:#000000; stroke-linecap:round; stroke-linejoin:round; stroke-width:12; stroke-opacity:1; fill:none\" points=\"1666.46,144.949 1806.25,144.949 \"/>\n",
       "<path clip-path=\"url(#clip230)\" d=\"M1829.54 127.669 L1858.78 127.669 L1858.78 131.604 L1846.51 131.604 L1846.51 162.229 L1841.81 162.229 L1841.81 131.604 L1829.54 131.604 L1829.54 127.669 Z\" fill=\"#000000\" fill-rule=\"nonzero\" fill-opacity=\"1\" /><path clip-path=\"url(#clip230)\" d=\"M1856.6 147.344 L1869.08 147.344 L1869.08 151.141 L1856.6 151.141 L1856.6 147.344 Z\" fill=\"#000000\" fill-rule=\"nonzero\" fill-opacity=\"1\" /><path clip-path=\"url(#clip230)\" d=\"M1894.48 149.289 Q1894.48 144.59 1892.53 141.928 Q1890.61 139.243 1887.23 139.243 Q1883.85 139.243 1881.91 141.928 Q1879.98 144.59 1879.98 149.289 Q1879.98 153.988 1881.91 156.673 Q1883.85 159.335 1887.23 159.335 Q1890.61 159.335 1892.53 156.673 Q1894.48 153.988 1894.48 149.289 M1879.98 140.238 Q1881.33 137.923 1883.36 136.812 Q1885.42 135.678 1888.27 135.678 Q1892.99 135.678 1895.93 139.428 Q1898.9 143.178 1898.9 149.289 Q1898.9 155.4 1895.93 159.15 Q1892.99 162.9 1888.27 162.9 Q1885.42 162.9 1883.36 161.789 Q1881.33 160.655 1879.98 158.34 L1879.98 162.229 L1875.7 162.229 L1875.7 126.21 L1879.98 126.21 L1879.98 140.238 Z\" fill=\"#000000\" fill-rule=\"nonzero\" fill-opacity=\"1\" /><path clip-path=\"url(#clip230)\" d=\"M1905.96 136.303 L1910.22 136.303 L1910.22 162.229 L1905.96 162.229 L1905.96 136.303 M1905.96 126.21 L1910.22 126.21 L1910.22 131.604 L1905.96 131.604 L1905.96 126.21 Z\" fill=\"#000000\" fill-rule=\"nonzero\" fill-opacity=\"1\" /><path clip-path=\"url(#clip230)\" d=\"M1919.13 126.21 L1923.39 126.21 L1923.39 162.229 L1919.13 162.229 L1919.13 126.21 Z\" fill=\"#000000\" fill-rule=\"nonzero\" fill-opacity=\"1\" /><path clip-path=\"url(#clip230)\" d=\"M1932.3 126.21 L1936.56 126.21 L1936.56 162.229 L1932.3 162.229 L1932.3 126.21 Z\" fill=\"#000000\" fill-rule=\"nonzero\" fill-opacity=\"1\" /><path clip-path=\"url(#clip230)\" d=\"M1973.71 149.798 Q1973.71 153.108 1975.35 155.006 Q1977 156.881 1979.87 156.881 Q1982.72 156.881 1984.34 154.983 Q1985.98 153.085 1985.98 149.798 Q1985.98 146.557 1984.31 144.659 Q1982.65 142.738 1979.82 142.738 Q1977.02 142.738 1975.35 144.636 Q1973.71 146.534 1973.71 149.798 M1986.33 156.719 Q1984.94 158.502 1983.13 159.358 Q1981.35 160.192 1978.97 160.192 Q1974.98 160.192 1972.48 157.321 Q1970.01 154.428 1970.01 149.798 Q1970.01 145.169 1972.51 142.275 Q1975.01 139.382 1978.97 139.382 Q1981.35 139.382 1983.16 140.261 Q1984.96 141.118 1986.33 142.877 L1986.33 139.844 L1989.64 139.844 L1989.64 156.881 Q1993.02 156.372 1994.91 153.803 Q1996.84 151.21 1996.84 147.113 Q1996.84 144.636 1996.09 142.46 Q1995.38 140.284 1993.9 138.432 Q1991.49 135.4 1988.02 133.803 Q1984.57 132.182 1980.49 132.182 Q1977.65 132.182 1975.03 132.946 Q1972.41 133.687 1970.19 135.169 Q1966.56 137.53 1964.5 141.372 Q1962.46 145.192 1962.46 149.659 Q1962.46 153.34 1963.78 156.557 Q1965.12 159.775 1967.65 162.229 Q1970.08 164.636 1973.27 165.886 Q1976.47 167.159 1980.1 167.159 Q1983.09 167.159 1985.96 166.141 Q1988.85 165.145 1991.26 163.27 L1993.34 165.84 Q1990.45 168.085 1987.02 169.266 Q1983.62 170.469 1980.1 170.469 Q1975.82 170.469 1972.02 168.942 Q1968.22 167.437 1965.26 164.543 Q1962.3 161.65 1960.75 157.854 Q1959.2 154.034 1959.2 149.659 Q1959.2 145.446 1960.77 141.627 Q1962.35 137.807 1965.26 134.914 Q1968.25 131.974 1972.16 130.423 Q1976.07 128.849 1980.45 128.849 Q1985.35 128.849 1989.54 130.863 Q1993.76 132.877 1996.6 136.581 Q1998.34 138.849 1999.24 141.511 Q2000.17 144.173 2000.17 147.02 Q2000.17 153.108 1996.49 156.627 Q1992.81 160.145 1986.33 160.284 L1986.33 156.719 Z\" fill=\"#000000\" fill-rule=\"nonzero\" fill-opacity=\"1\" /><path clip-path=\"url(#clip230)\" d=\"M2007.95 136.303 L2012.21 136.303 L2012.21 162.229 L2007.95 162.229 L2007.95 136.303 M2007.95 126.21 L2012.21 126.21 L2012.21 131.604 L2007.95 131.604 L2007.95 126.21 Z\" fill=\"#000000\" fill-rule=\"nonzero\" fill-opacity=\"1\" /><path clip-path=\"url(#clip230)\" d=\"M2042.67 146.581 L2042.67 162.229 L2038.41 162.229 L2038.41 146.719 Q2038.41 143.039 2036.97 141.21 Q2035.54 139.382 2032.67 139.382 Q2029.22 139.382 2027.23 141.581 Q2025.24 143.78 2025.24 147.576 L2025.24 162.229 L2020.96 162.229 L2020.96 136.303 L2025.24 136.303 L2025.24 140.331 Q2026.77 137.993 2028.83 136.835 Q2030.91 135.678 2033.62 135.678 Q2038.09 135.678 2040.38 138.456 Q2042.67 141.21 2042.67 146.581 Z\" fill=\"#000000\" fill-rule=\"nonzero\" fill-opacity=\"1\" /><path clip-path=\"url(#clip230)\" d=\"M2068.22 140.238 L2068.22 126.21 L2072.48 126.21 L2072.48 162.229 L2068.22 162.229 L2068.22 158.34 Q2066.88 160.655 2064.82 161.789 Q2062.78 162.9 2059.91 162.9 Q2055.21 162.9 2052.25 159.15 Q2049.31 155.4 2049.31 149.289 Q2049.31 143.178 2052.25 139.428 Q2055.21 135.678 2059.91 135.678 Q2062.78 135.678 2064.82 136.812 Q2066.88 137.923 2068.22 140.238 M2053.71 149.289 Q2053.71 153.988 2055.63 156.673 Q2057.58 159.335 2060.96 159.335 Q2064.34 159.335 2066.28 156.673 Q2068.22 153.988 2068.22 149.289 Q2068.22 144.59 2066.28 141.928 Q2064.34 139.243 2060.96 139.243 Q2057.58 139.243 2055.63 141.928 Q2053.71 144.59 2053.71 149.289 Z\" fill=\"#000000\" fill-rule=\"nonzero\" fill-opacity=\"1\" /><path clip-path=\"url(#clip230)\" d=\"M2103.43 148.201 L2103.43 150.284 L2083.85 150.284 Q2084.13 154.682 2086.49 156.997 Q2088.87 159.289 2093.11 159.289 Q2095.56 159.289 2097.85 158.687 Q2100.17 158.085 2102.44 156.881 L2102.44 160.909 Q2100.15 161.881 2097.74 162.391 Q2095.33 162.9 2092.85 162.9 Q2086.65 162.9 2083.02 159.289 Q2079.4 155.678 2079.4 149.52 Q2079.4 143.155 2082.83 139.428 Q2086.28 135.678 2092.11 135.678 Q2097.34 135.678 2100.38 139.057 Q2103.43 142.414 2103.43 148.201 M2099.17 146.951 Q2099.13 143.456 2097.21 141.372 Q2095.31 139.289 2092.16 139.289 Q2088.59 139.289 2086.44 141.303 Q2084.31 143.317 2083.99 146.974 L2099.17 146.951 Z\" fill=\"#000000\" fill-rule=\"nonzero\" fill-opacity=\"1\" /><path clip-path=\"url(#clip230)\" d=\"M2131.14 136.303 L2121.77 148.919 L2131.63 162.229 L2126.6 162.229 L2119.06 152.043 L2111.51 162.229 L2106.49 162.229 L2116.56 148.664 L2107.34 136.303 L2112.37 136.303 L2119.24 145.539 L2126.12 136.303 L2131.14 136.303 Z\" fill=\"#000000\" fill-rule=\"nonzero\" fill-opacity=\"1\" /><path clip-path=\"url(#clip230)\" d=\"M2153.27 140.701 L2182.95 140.701 L2182.95 144.59 L2153.27 144.59 L2153.27 140.701 M2153.27 150.145 L2182.95 150.145 L2182.95 154.081 L2153.27 154.081 L2153.27 150.145 Z\" fill=\"#000000\" fill-rule=\"nonzero\" fill-opacity=\"1\" /><path clip-path=\"url(#clip230)\" d=\"M2206.93 127.669 L2229.15 127.669 L2229.15 129.659 L2216.6 162.229 L2211.72 162.229 L2223.52 131.604 L2206.93 131.604 L2206.93 127.669 Z\" fill=\"#000000\" fill-rule=\"nonzero\" fill-opacity=\"1\" /><path clip-path=\"url(#clip230)\" d=\"M2252.44 143.594 Q2255.79 144.312 2257.67 146.581 Q2259.57 148.849 2259.57 152.182 Q2259.57 157.298 2256.05 160.099 Q2252.53 162.9 2246.05 162.9 Q2243.87 162.9 2241.56 162.46 Q2239.26 162.043 2236.81 161.187 L2236.81 156.673 Q2238.76 157.807 2241.07 158.386 Q2243.39 158.965 2245.91 158.965 Q2250.31 158.965 2252.6 157.229 Q2254.91 155.493 2254.91 152.182 Q2254.91 149.127 2252.76 147.414 Q2250.63 145.678 2246.81 145.678 L2242.78 145.678 L2242.78 141.835 L2247 141.835 Q2250.45 141.835 2252.27 140.469 Q2254.1 139.081 2254.1 136.488 Q2254.1 133.826 2252.2 132.414 Q2250.33 130.979 2246.81 130.979 Q2244.89 130.979 2242.69 131.395 Q2240.49 131.812 2237.85 132.692 L2237.85 128.525 Q2240.51 127.784 2242.83 127.414 Q2245.17 127.044 2247.23 127.044 Q2252.55 127.044 2255.65 129.474 Q2258.76 131.882 2258.76 136.002 Q2258.76 138.872 2257.11 140.863 Q2255.47 142.831 2252.44 143.594 Z\" fill=\"#000000\" fill-rule=\"nonzero\" fill-opacity=\"1\" /></svg>\n"
      ],
      "text/html": [
       "<img src=\"data:image/png;base64,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\" />"
      ]
     },
     "execution_count": 108,
     "metadata": {},
     "output_type": "execute_result"
    }
   ],
   "source": [
    "let\n",
    "    q = plot(bg=\"gray95\", background_color_outside=\"white\", framestyle = :box, fg_legend = :transparent);\n",
    "    plot(q, theorem_1_simulation_array[:,1], theorem_1_simulation_array[:,2], lw=3, c=:black, xlabel=\"β\", \n",
    "            ylabel=\"Percentage change T-Bill price\", label=\"T-bill @index = $(random_bill_index)\")\n",
    "end"
   ]
  },
  {
   "cell_type": "markdown",
   "id": "a89432a1-b757-44a6-82a5-b89bd6f64e4f",
   "metadata": {},
   "source": [
    "### Discussion: Is the slope of the interest rate versus the price line negative?\n",
    "If the relationship between the price and the yield is inversely proportional, then the slope of price versus $\\bar{r}$ should be negative; let's check this condition by computing the slope from the simulation array, store this in the `slope` variable.\n",
    "\n",
    "> __Idea:__ Use the [@assert macro](https://docs.julialang.org/en/v1/base/base/#Base.@assert) to test if the slope is negative: if $\\text{slope}>0$, i.e., `Theorem 1` is not supported, this test will throw an [AssertionError](https://docs.julialang.org/en/v1/base/base/#Core.AssertionError), otherwise the `Theorem 1` is supported by simulation\n",
    "\n",
    "What do we see?"
   ]
  },
  {
   "cell_type": "code",
   "execution_count": 111,
   "id": "86c2ae02-cfe7-4361-a5a1-4d1eddc73601",
   "metadata": {},
   "outputs": [],
   "source": [
    "slope = (theorem_1_simulation_array[end,4] - theorem_1_simulation_array[1,4])/(theorem_1_simulation_array[end,3] - theorem_1_simulation_array[1,3]);\n",
    "@assert (slope < 0.0)  # Verify Theorem 1: negative slope confirms inverse price-yield relationship"
   ]
  },
  {
   "cell_type": "markdown",
   "id": "4ed3998c",
   "metadata": {},
   "source": [
    "___"
   ]
  },
  {
   "cell_type": "markdown",
   "id": "cd8da194-93e8-4af7-9f02-b02aacd98980",
   "metadata": {},
   "source": [
    "## Disclaimer and Risks\n",
    "__This content is offered solely for training and informational purposes__. No offer or solicitation to buy or sell securities or derivative products or any investment or trading advice or strategy is made, given, or endorsed by the teaching team. \n",
    "\n",
    "__Trading involves risk__. Carefully review your financial situation before investing in securities, futures contracts, options, or commodity interests. Past performance, whether actual or indicated by historical tests of strategies, is no guarantee of future performance or success. Trading is generally inappropriate for someone with limited resources, investment or trading experience, or a low-risk tolerance.  Only risk capital that is not required for living expenses.\n",
    "\n",
    "__You are fully responsible for any investment or trading decisions you make__. Such decisions should be based solely on evaluating your financial circumstances, investment or trading objectives, risk tolerance, and liquidity needs.\n",
    "\n",
    "___"
   ]
  }
 ],
 "metadata": {
  "kernelspec": {
   "display_name": "Julia 1.11.2",
   "language": "julia",
   "name": "julia-1.11"
  },
  "language_info": {
   "file_extension": ".jl",
   "mimetype": "application/julia",
   "name": "julia",
   "version": "1.11.2"
  }
 },
 "nbformat": 4,
 "nbformat_minor": 5
}
