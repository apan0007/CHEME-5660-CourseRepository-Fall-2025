{
 "cells": [
  {
   "cell_type": "markdown",
   "id": "bfb6f9c6-2f60-41e1-80b8-fa022162f100",
   "metadata": {},
   "source": [
    "# Pricing Zero-Coupon Treasury Bills Using NPV\n",
    "In this example, we will compute the price of zero-coupon United States Treasury Bills, or __T-bills__ using the Net Present Value (NPV) approach.\n",
    "\n",
    "__Learning Objectives:__ After completing this example, you should be able to:\n",
    "1. **Price zero-coupon T-bills** using the Net Present Value (NPV) approach with discount rates\n",
    "2. **Understand the inverse relationship** between T-bill prices and yields (Malkiel's Theorem 1)\n",
    "3. **Interpret cash flow structures** for zero-coupon securities\n",
    "4. **Compare computed prices** with market auction prices and analyze discrepancies\n",
    "\n",
    "__What we'll do:__ We've downloaded a dataset of T-bill auction data (approximately 100 T-bills with different maturities) from 2025. We will use the discount rate (in this context called the investment rate) from the dataset to compute the auction price of the T-bill, and then we'll compare our computed price with the actual auction price.\n",
    "\n",
    "Let's get started!\n",
    "___"
   ]
  },
  {
   "cell_type": "markdown",
   "id": "068183be-9396-4c77-b919-befabcdf46d2",
   "metadata": {
    "tags": []
   },
   "source": [
    "## Setup, Data, and Prerequisites\n",
    "We set up the computational environment by including the `Include.jl` file, loading any needed resources, such as sample datasets, and setting up any required constants. \n",
    "\n",
    "> The [include(...) function](https://docs.julialang.org/en/v1/base/base/#include) is a convenient way to load Julia code from another file. The `Include.jl` file is a Julia file that loads external packages, and various functions that we will use in the exercise. It checks for a `Manifest.toml` file; if it finds one, packages are loaded. Otherwise, packages are downloaded and then loaded."
   ]
  },
  {
   "cell_type": "code",
   "execution_count": 147,
   "id": "a19f9212-58b6-4703-8278-21d64dc7d8e6",
   "metadata": {
    "tags": []
   },
   "outputs": [],
   "source": [
    "include(joinpath(@__DIR__, \"Include.jl\")); # this sets up the environment, we'll do this all the time, on everything we do"
   ]
  },
  {
   "cell_type": "markdown",
   "id": "aee5e457",
   "metadata": {},
   "source": [
    "For additional information on functions and types used in this material, see the [Julia programming language documentation](https://docs.julialang.org/en/v1/) and the [VLQuantitativeFinancePackage.jl documentation](https://github.com/varnerlab/VLQuantitativeFinancePackage.jl). "
   ]
  },
  {
   "cell_type": "markdown",
   "id": "c042b597-6837-4b33-8fac-bb6fab45e72f",
   "metadata": {},
   "source": [
    "### Data\n",
    "We'll explore `T-bill` prices from United States Treasury auctions between May and August of 2025 downloaded as a `CSV` file using the [Auction query functionality of TreasuryDirect.gov](https://www.treasurydirect.gov/auctions/auction-query/). \n",
    "\n",
    "We load the `CSV` dataset using a [local `MyTreasuryBillDataSet()` function](src/Files.jl), which returns the auction data as [a `DataFrame` instance](https://dataframes.juliadata.org/stable/). We store the data in the `data::DataFrame` variable."
   ]
  },
  {
   "cell_type": "code",
   "execution_count": 189,
   "id": "25da4a48-62fc-45ba-ae7c-64b97313c8aa",
   "metadata": {
    "tags": []
   },
   "outputs": [
    {
     "data": {
      "text/html": [
       "<div><div style = \"float: left;\"><span>96×8 DataFrame</span></div><div style = \"float: right; font-style: italic;\"><span>71 rows omitted</span></div><div style = \"clear: both;\"></div></div><div class = \"data-frame\" style = \"overflow-x: scroll;\"><table class = \"data-frame\" style = \"margin-bottom: 6px;\"><thead><tr class = \"columnLabelRow\"><th class = \"stubheadLabel\" style = \"font-weight: bold; text-align: right;\">Row</th><th style = \"text-align: left;\">CUSIP</th><th style = \"text-align: left;\">Security Type</th><th style = \"text-align: left;\">Security Term</th><th style = \"text-align: left;\">Auction Date</th><th style = \"text-align: left;\">Issue Date</th><th style = \"text-align: left;\">Maturity Date</th><th style = \"text-align: left;\">Price</th><th style = \"text-align: left;\">Investment Rate</th></tr><tr class = \"columnLabelRow\"><th class = \"stubheadLabel\" style = \"font-weight: bold; text-align: right;\"></th><th title = \"String15\" style = \"text-align: left;\">String15</th><th title = \"String7\" style = \"text-align: left;\">String7</th><th title = \"String7\" style = \"text-align: left;\">String7</th><th title = \"String15\" style = \"text-align: left;\">String15</th><th title = \"String15\" style = \"text-align: left;\">String15</th><th title = \"String15\" style = \"text-align: left;\">String15</th><th title = \"Float64\" style = \"text-align: left;\">Float64</th><th title = \"Float64\" style = \"text-align: left;\">Float64</th></tr></thead><tbody><tr class = \"dataRow\"><td class = \"rowLabel\" style = \"font-weight: bold; text-align: right;\">1</td><td style = \"text-align: left;\">912797QW0</td><td style = \"text-align: left;\">Bill</td><td style = \"text-align: left;\">4-Week</td><td style = \"text-align: left;\">08/28/2025</td><td style = \"text-align: left;\">09/02/2025</td><td style = \"text-align: left;\">09/30/2025</td><td style = \"text-align: right;\">99.6698</td><td style = \"text-align: right;\">0.04318</td></tr><tr class = \"dataRow\"><td class = \"rowLabel\" style = \"font-weight: bold; text-align: right;\">2</td><td style = \"text-align: left;\">912797RE9</td><td style = \"text-align: left;\">Bill</td><td style = \"text-align: left;\">8-Week</td><td style = \"text-align: left;\">08/28/2025</td><td style = \"text-align: left;\">09/02/2025</td><td style = \"text-align: left;\">10/28/2025</td><td style = \"text-align: right;\">99.3552</td><td style = \"text-align: right;\">0.0423</td></tr><tr class = \"dataRow\"><td class = \"rowLabel\" style = \"font-weight: bold; text-align: right;\">3</td><td style = \"text-align: left;\">912797RZ2</td><td style = \"text-align: left;\">Bill</td><td style = \"text-align: left;\">17-Week</td><td style = \"text-align: left;\">08/27/2025</td><td style = \"text-align: left;\">09/02/2025</td><td style = \"text-align: left;\">12/30/2025</td><td style = \"text-align: right;\">98.6712</td><td style = \"text-align: right;\">0.04131</td></tr><tr class = \"dataRow\"><td class = \"rowLabel\" style = \"font-weight: bold; text-align: right;\">4</td><td style = \"text-align: left;\">912797QE0</td><td style = \"text-align: left;\">Bill</td><td style = \"text-align: left;\">6-Week</td><td style = \"text-align: left;\">08/26/2025</td><td style = \"text-align: left;\">08/28/2025</td><td style = \"text-align: left;\">10/09/2025</td><td style = \"text-align: right;\">99.5088</td><td style = \"text-align: right;\">0.0429</td></tr><tr class = \"dataRow\"><td class = \"rowLabel\" style = \"font-weight: bold; text-align: right;\">5</td><td style = \"text-align: left;\">912797NL7</td><td style = \"text-align: left;\">Bill</td><td style = \"text-align: left;\">13-Week</td><td style = \"text-align: left;\">08/25/2025</td><td style = \"text-align: left;\">08/28/2025</td><td style = \"text-align: left;\">11/28/2025</td><td style = \"text-align: right;\">98.9522</td><td style = \"text-align: right;\">0.04201</td></tr><tr class = \"dataRow\"><td class = \"rowLabel\" style = \"font-weight: bold; text-align: right;\">6</td><td style = \"text-align: left;\">912797RU3</td><td style = \"text-align: left;\">Bill</td><td style = \"text-align: left;\">26-Week</td><td style = \"text-align: left;\">08/25/2025</td><td style = \"text-align: left;\">08/28/2025</td><td style = \"text-align: left;\">02/26/2026</td><td style = \"text-align: right;\">98.0208</td><td style = \"text-align: right;\">0.0405</td></tr><tr class = \"dataRow\"><td class = \"rowLabel\" style = \"font-weight: bold; text-align: right;\">7</td><td style = \"text-align: left;\">912797QV2</td><td style = \"text-align: left;\">Bill</td><td style = \"text-align: left;\">4-Week</td><td style = \"text-align: left;\">08/21/2025</td><td style = \"text-align: left;\">08/26/2025</td><td style = \"text-align: left;\">09/23/2025</td><td style = \"text-align: right;\">99.6656</td><td style = \"text-align: right;\">0.04374</td></tr><tr class = \"dataRow\"><td class = \"rowLabel\" style = \"font-weight: bold; text-align: right;\">8</td><td style = \"text-align: left;\">912797RD1</td><td style = \"text-align: left;\">Bill</td><td style = \"text-align: left;\">8-Week</td><td style = \"text-align: left;\">08/21/2025</td><td style = \"text-align: left;\">08/26/2025</td><td style = \"text-align: left;\">10/21/2025</td><td style = \"text-align: right;\">99.3436</td><td style = \"text-align: right;\">0.04307</td></tr><tr class = \"dataRow\"><td class = \"rowLabel\" style = \"font-weight: bold; text-align: right;\">9</td><td style = \"text-align: left;\">912797RY5</td><td style = \"text-align: left;\">Bill</td><td style = \"text-align: left;\">17-Week</td><td style = \"text-align: left;\">08/20/2025</td><td style = \"text-align: left;\">08/26/2025</td><td style = \"text-align: left;\">12/23/2025</td><td style = \"text-align: right;\">98.6612</td><td style = \"text-align: right;\">0.04162</td></tr><tr class = \"dataRow\"><td class = \"rowLabel\" style = \"font-weight: bold; text-align: right;\">10</td><td style = \"text-align: left;\">912797MS3</td><td style = \"text-align: left;\">Bill</td><td style = \"text-align: left;\">6-Week</td><td style = \"text-align: left;\">08/19/2025</td><td style = \"text-align: left;\">08/21/2025</td><td style = \"text-align: left;\">10/02/2025</td><td style = \"text-align: right;\">99.5048</td><td style = \"text-align: right;\">0.04325</td></tr><tr class = \"dataRow\"><td class = \"rowLabel\" style = \"font-weight: bold; text-align: right;\">11</td><td style = \"text-align: left;\">912797QR1</td><td style = \"text-align: left;\">Bill</td><td style = \"text-align: left;\">13-Week</td><td style = \"text-align: left;\">08/18/2025</td><td style = \"text-align: left;\">08/21/2025</td><td style = \"text-align: left;\">11/20/2025</td><td style = \"text-align: right;\">98.956</td><td style = \"text-align: right;\">0.04232</td></tr><tr class = \"dataRow\"><td class = \"rowLabel\" style = \"font-weight: bold; text-align: right;\">12</td><td style = \"text-align: left;\">912797PM3</td><td style = \"text-align: left;\">Bill</td><td style = \"text-align: left;\">26-Week</td><td style = \"text-align: left;\">08/18/2025</td><td style = \"text-align: left;\">08/21/2025</td><td style = \"text-align: left;\">02/19/2026</td><td style = \"text-align: right;\">98.0056</td><td style = \"text-align: right;\">0.04081</td></tr><tr class = \"dataRow\"><td class = \"rowLabel\" style = \"font-weight: bold; text-align: right;\">13</td><td style = \"text-align: left;\">912797QU4</td><td style = \"text-align: left;\">Bill</td><td style = \"text-align: left;\">4-Week</td><td style = \"text-align: left;\">08/14/2025</td><td style = \"text-align: left;\">08/19/2025</td><td style = \"text-align: left;\">09/16/2025</td><td style = \"text-align: right;\">99.6671</td><td style = \"text-align: right;\">0.04354</td></tr><tr><td style = \"text-align: right;\">&vellip;</td><td style = \"text-align: left;\">&vellip;</td><td style = \"text-align: left;\">&vellip;</td><td style = \"text-align: left;\">&vellip;</td><td style = \"text-align: left;\">&vellip;</td><td style = \"text-align: left;\">&vellip;</td><td style = \"text-align: left;\">&vellip;</td><td style = \"text-align: right;\">&vellip;</td><td style = \"text-align: right;\">&vellip;</td></tr><tr class = \"dataRow\"><td class = \"rowLabel\" style = \"font-weight: bold; text-align: right;\">85</td><td style = \"text-align: left;\">912797QC4</td><td style = \"text-align: left;\">Bill</td><td style = \"text-align: left;\">8-Week</td><td style = \"text-align: left;\">05/29/2025</td><td style = \"text-align: left;\">06/03/2025</td><td style = \"text-align: left;\">07/29/2025</td><td style = \"text-align: right;\">99.3428</td><td style = \"text-align: right;\">0.04312</td></tr><tr class = \"dataRow\"><td class = \"rowLabel\" style = \"font-weight: bold; text-align: right;\">86</td><td style = \"text-align: left;\">912797QW0</td><td style = \"text-align: left;\">Bill</td><td style = \"text-align: left;\">17-Week</td><td style = \"text-align: left;\">05/28/2025</td><td style = \"text-align: left;\">06/03/2025</td><td style = \"text-align: left;\">09/30/2025</td><td style = \"text-align: right;\">98.6051</td><td style = \"text-align: right;\">0.04339</td></tr><tr class = \"dataRow\"><td class = \"rowLabel\" style = \"font-weight: bold; text-align: right;\">87</td><td style = \"text-align: left;\">912797LW5</td><td style = \"text-align: left;\">Bill</td><td style = \"text-align: left;\">6-Week</td><td style = \"text-align: left;\">05/27/2025</td><td style = \"text-align: left;\">05/29/2025</td><td style = \"text-align: left;\">07/10/2025</td><td style = \"text-align: right;\">99.5059</td><td style = \"text-align: right;\">0.04315</td></tr><tr class = \"dataRow\"><td class = \"rowLabel\" style = \"font-weight: bold; text-align: right;\">88</td><td style = \"text-align: left;\">912797PQ4</td><td style = \"text-align: left;\">Bill</td><td style = \"text-align: left;\">13-Week</td><td style = \"text-align: left;\">05/27/2025</td><td style = \"text-align: left;\">05/29/2025</td><td style = \"text-align: left;\">08/28/2025</td><td style = \"text-align: right;\">98.9244</td><td style = \"text-align: right;\">0.04361</td></tr><tr class = \"dataRow\"><td class = \"rowLabel\" style = \"font-weight: bold; text-align: right;\">89</td><td style = \"text-align: left;\">912797NL7</td><td style = \"text-align: left;\">Bill</td><td style = \"text-align: left;\">26-Week</td><td style = \"text-align: left;\">05/27/2025</td><td style = \"text-align: left;\">05/29/2025</td><td style = \"text-align: left;\">11/28/2025</td><td style = \"text-align: right;\">97.8853</td><td style = \"text-align: right;\">0.04309</td></tr><tr class = \"dataRow\"><td class = \"rowLabel\" style = \"font-weight: bold; text-align: right;\">90</td><td style = \"text-align: left;\">912797PT8</td><td style = \"text-align: left;\">Bill</td><td style = \"text-align: left;\">4-Week</td><td style = \"text-align: left;\">05/22/2025</td><td style = \"text-align: left;\">05/27/2025</td><td style = \"text-align: left;\">06/24/2025</td><td style = \"text-align: right;\">99.6718</td><td style = \"text-align: right;\">0.04293</td></tr><tr class = \"dataRow\"><td class = \"rowLabel\" style = \"font-weight: bold; text-align: right;\">91</td><td style = \"text-align: left;\">912797QB6</td><td style = \"text-align: left;\">Bill</td><td style = \"text-align: left;\">8-Week</td><td style = \"text-align: left;\">05/22/2025</td><td style = \"text-align: left;\">05/27/2025</td><td style = \"text-align: left;\">07/22/2025</td><td style = \"text-align: right;\">99.3412</td><td style = \"text-align: right;\">0.04322</td></tr><tr class = \"dataRow\"><td class = \"rowLabel\" style = \"font-weight: bold; text-align: right;\">92</td><td style = \"text-align: left;\">912797QV2</td><td style = \"text-align: left;\">Bill</td><td style = \"text-align: left;\">17-Week</td><td style = \"text-align: left;\">05/21/2025</td><td style = \"text-align: left;\">05/27/2025</td><td style = \"text-align: left;\">09/23/2025</td><td style = \"text-align: right;\">98.6017</td><td style = \"text-align: right;\">0.0435</td></tr><tr class = \"dataRow\"><td class = \"rowLabel\" style = \"font-weight: bold; text-align: right;\">93</td><td style = \"text-align: left;\">912797NX1</td><td style = \"text-align: left;\">Bill</td><td style = \"text-align: left;\">6-Week</td><td style = \"text-align: left;\">05/20/2025</td><td style = \"text-align: left;\">05/22/2025</td><td style = \"text-align: left;\">07/03/2025</td><td style = \"text-align: right;\">99.5059</td><td style = \"text-align: right;\">0.04315</td></tr><tr class = \"dataRow\"><td class = \"rowLabel\" style = \"font-weight: bold; text-align: right;\">94</td><td style = \"text-align: left;\">912797PP6</td><td style = \"text-align: left;\">Bill</td><td style = \"text-align: left;\">13-Week</td><td style = \"text-align: left;\">05/19/2025</td><td style = \"text-align: left;\">05/22/2025</td><td style = \"text-align: left;\">08/21/2025</td><td style = \"text-align: right;\">98.9168</td><td style = \"text-align: right;\">0.04392</td></tr><tr class = \"dataRow\"><td class = \"rowLabel\" style = \"font-weight: bold; text-align: right;\">95</td><td style = \"text-align: left;\">912797QR1</td><td style = \"text-align: left;\">Bill</td><td style = \"text-align: left;\">26-Week</td><td style = \"text-align: left;\">05/19/2025</td><td style = \"text-align: left;\">05/22/2025</td><td style = \"text-align: left;\">11/20/2025</td><td style = \"text-align: right;\">97.907</td><td style = \"text-align: right;\">0.04287</td></tr><tr class = \"dataRow\"><td class = \"rowLabel\" style = \"font-weight: bold; text-align: right;\">96</td><td style = \"text-align: left;\">912797PS0</td><td style = \"text-align: left;\">Bill</td><td style = \"text-align: left;\">4-Week</td><td style = \"text-align: left;\">05/15/2025</td><td style = \"text-align: left;\">05/20/2025</td><td style = \"text-align: left;\">06/17/2025</td><td style = \"text-align: right;\">99.6718</td><td style = \"text-align: right;\">0.04293</td></tr></tbody></table></div>"
      ],
      "text/latex": [
       "\\begin{tabular}{r|ccccccc}\n",
       "\t& CUSIP & Security Type & Security Term & Auction Date & Issue Date & Maturity Date & \\\\\n",
       "\t\\hline\n",
       "\t& String15 & String7 & String7 & String15 & String15 & String15 & \\\\\n",
       "\t\\hline\n",
       "\t1 & 912797QW0 & Bill & 4-Week & 08/28/2025 & 09/02/2025 & 09/30/2025 & $\\dots$ \\\\\n",
       "\t2 & 912797RE9 & Bill & 8-Week & 08/28/2025 & 09/02/2025 & 10/28/2025 & $\\dots$ \\\\\n",
       "\t3 & 912797RZ2 & Bill & 17-Week & 08/27/2025 & 09/02/2025 & 12/30/2025 & $\\dots$ \\\\\n",
       "\t4 & 912797QE0 & Bill & 6-Week & 08/26/2025 & 08/28/2025 & 10/09/2025 & $\\dots$ \\\\\n",
       "\t5 & 912797NL7 & Bill & 13-Week & 08/25/2025 & 08/28/2025 & 11/28/2025 & $\\dots$ \\\\\n",
       "\t6 & 912797RU3 & Bill & 26-Week & 08/25/2025 & 08/28/2025 & 02/26/2026 & $\\dots$ \\\\\n",
       "\t7 & 912797QV2 & Bill & 4-Week & 08/21/2025 & 08/26/2025 & 09/23/2025 & $\\dots$ \\\\\n",
       "\t8 & 912797RD1 & Bill & 8-Week & 08/21/2025 & 08/26/2025 & 10/21/2025 & $\\dots$ \\\\\n",
       "\t9 & 912797RY5 & Bill & 17-Week & 08/20/2025 & 08/26/2025 & 12/23/2025 & $\\dots$ \\\\\n",
       "\t10 & 912797MS3 & Bill & 6-Week & 08/19/2025 & 08/21/2025 & 10/02/2025 & $\\dots$ \\\\\n",
       "\t11 & 912797QR1 & Bill & 13-Week & 08/18/2025 & 08/21/2025 & 11/20/2025 & $\\dots$ \\\\\n",
       "\t12 & 912797PM3 & Bill & 26-Week & 08/18/2025 & 08/21/2025 & 02/19/2026 & $\\dots$ \\\\\n",
       "\t13 & 912797QU4 & Bill & 4-Week & 08/14/2025 & 08/19/2025 & 09/16/2025 & $\\dots$ \\\\\n",
       "\t14 & 912797RC3 & Bill & 8-Week & 08/14/2025 & 08/19/2025 & 10/14/2025 & $\\dots$ \\\\\n",
       "\t15 & 912797RX7 & Bill & 17-Week & 08/13/2025 & 08/19/2025 & 12/16/2025 & $\\dots$ \\\\\n",
       "\t16 & 912797PY7 & Bill & 6-Week & 08/12/2025 & 08/14/2025 & 09/25/2025 & $\\dots$ \\\\\n",
       "\t17 & 912797QQ3 & Bill & 13-Week & 08/11/2025 & 08/14/2025 & 11/13/2025 & $\\dots$ \\\\\n",
       "\t18 & 912797RT6 & Bill & 26-Week & 08/11/2025 & 08/14/2025 & 02/12/2026 & $\\dots$ \\\\\n",
       "\t19 & 912797QT7 & Bill & 4-Week & 08/07/2025 & 08/12/2025 & 09/09/2025 & $\\dots$ \\\\\n",
       "\t20 & 912797RB5 & Bill & 8-Week & 08/07/2025 & 08/12/2025 & 10/07/2025 & $\\dots$ \\\\\n",
       "\t21 & 912797RW9 & Bill & 17-Week & 08/06/2025 & 08/12/2025 & 12/09/2025 & $\\dots$ \\\\\n",
       "\t22 & 912797PX9 & Bill & 6-Week & 08/05/2025 & 08/07/2025 & 09/18/2025 & $\\dots$ \\\\\n",
       "\t23 & 912797RG4 & Bill & 52-Week & 08/05/2025 & 08/07/2025 & 08/06/2026 & $\\dots$ \\\\\n",
       "\t24 & 912797QP5 & Bill & 13-Week & 08/04/2025 & 08/07/2025 & 11/06/2025 & $\\dots$ \\\\\n",
       "\t25 & 912797RL3 & Bill & 26-Week & 08/04/2025 & 08/07/2025 & 02/05/2026 & $\\dots$ \\\\\n",
       "\t26 & 912797QM2 & Bill & 4-Week & 07/31/2025 & 08/05/2025 & 09/02/2025 & $\\dots$ \\\\\n",
       "\t27 & 912797QW0 & Bill & 8-Week & 07/31/2025 & 08/05/2025 & 09/30/2025 & $\\dots$ \\\\\n",
       "\t28 & 912797RR0 & Bill & 17-Week & 07/30/2025 & 08/05/2025 & 12/02/2025 & $\\dots$ \\\\\n",
       "\t29 & 912797PW1 & Bill & 6-Week & 07/29/2025 & 07/31/2025 & 09/11/2025 & $\\dots$ \\\\\n",
       "\t30 & 912797NA1 & Bill & 13-Week & 07/28/2025 & 07/31/2025 & 10/30/2025 & $\\dots$ \\\\\n",
       "\t$\\dots$ & $\\dots$ & $\\dots$ & $\\dots$ & $\\dots$ & $\\dots$ & $\\dots$ &  \\\\\n",
       "\\end{tabular}\n"
      ],
      "text/plain": [
       "\u001b[1m96×8 DataFrame\u001b[0m\n",
       "\u001b[1m Row \u001b[0m│\u001b[1m CUSIP     \u001b[0m\u001b[1m Security Type \u001b[0m\u001b[1m Security Term \u001b[0m\u001b[1m Auction Date \u001b[0m\u001b[1m Issue Date \u001b[0m\u001b[1m Matu\u001b[0m ⋯\n",
       "\u001b[1m     \u001b[0m│\u001b[90m String15  \u001b[0m\u001b[90m String7       \u001b[0m\u001b[90m String7       \u001b[0m\u001b[90m String15     \u001b[0m\u001b[90m String15   \u001b[0m\u001b[90m Stri\u001b[0m ⋯\n",
       "─────┼──────────────────────────────────────────────────────────────────────────\n",
       "   1 │ 912797QW0  Bill           4-Week         08/28/2025    09/02/2025  09/3 ⋯\n",
       "   2 │ 912797RE9  Bill           8-Week         08/28/2025    09/02/2025  10/2\n",
       "   3 │ 912797RZ2  Bill           17-Week        08/27/2025    09/02/2025  12/3\n",
       "   4 │ 912797QE0  Bill           6-Week         08/26/2025    08/28/2025  10/0\n",
       "   5 │ 912797NL7  Bill           13-Week        08/25/2025    08/28/2025  11/2 ⋯\n",
       "   6 │ 912797RU3  Bill           26-Week        08/25/2025    08/28/2025  02/2\n",
       "   7 │ 912797QV2  Bill           4-Week         08/21/2025    08/26/2025  09/2\n",
       "   8 │ 912797RD1  Bill           8-Week         08/21/2025    08/26/2025  10/2\n",
       "   9 │ 912797RY5  Bill           17-Week        08/20/2025    08/26/2025  12/2 ⋯\n",
       "  10 │ 912797MS3  Bill           6-Week         08/19/2025    08/21/2025  10/0\n",
       "  11 │ 912797QR1  Bill           13-Week        08/18/2025    08/21/2025  11/2\n",
       "  ⋮  │     ⋮            ⋮              ⋮             ⋮            ⋮            ⋱\n",
       "  87 │ 912797LW5  Bill           6-Week         05/27/2025    05/29/2025  07/1\n",
       "  88 │ 912797PQ4  Bill           13-Week        05/27/2025    05/29/2025  08/2 ⋯\n",
       "  89 │ 912797NL7  Bill           26-Week        05/27/2025    05/29/2025  11/2\n",
       "  90 │ 912797PT8  Bill           4-Week         05/22/2025    05/27/2025  06/2\n",
       "  91 │ 912797QB6  Bill           8-Week         05/22/2025    05/27/2025  07/2\n",
       "  92 │ 912797QV2  Bill           17-Week        05/21/2025    05/27/2025  09/2 ⋯\n",
       "  93 │ 912797NX1  Bill           6-Week         05/20/2025    05/22/2025  07/0\n",
       "  94 │ 912797PP6  Bill           13-Week        05/19/2025    05/22/2025  08/2\n",
       "  95 │ 912797QR1  Bill           26-Week        05/19/2025    05/22/2025  11/2\n",
       "  96 │ 912797PS0  Bill           4-Week         05/15/2025    05/20/2025  06/1 ⋯\n",
       "\u001b[36m                                                   3 columns and 75 rows omitted\u001b[0m"
      ]
     },
     "execution_count": 189,
     "metadata": {},
     "output_type": "execute_result"
    }
   ],
   "source": [
    "dataset = MyTreasuryBillDataSet()"
   ]
  },
  {
   "cell_type": "markdown",
   "id": "d54d06f9-6f99-4080-9494-ae4a9a69a6b3",
   "metadata": {},
   "source": [
    "Next, let's store the dimension (number of records) of our treasury auction dataset in the `number_of_bills::Int64` variable using [the `nrow(...)` function exported by the DataFrames.jl package](https://dataframes.juliadata.org/stable/lib/functions/#DataAPI.nrow):"
   ]
  },
  {
   "cell_type": "code",
   "execution_count": 191,
   "id": "7cb3298f-a9a6-43be-89ff-87221b5b75ee",
   "metadata": {
    "tags": []
   },
   "outputs": [
    {
     "data": {
      "text/plain": [
       "96"
      ]
     },
     "execution_count": 191,
     "metadata": {},
     "output_type": "execute_result"
    }
   ],
   "source": [
    "number_of_bills = nrow(dataset)"
   ]
  },
  {
   "cell_type": "markdown",
   "id": "48f87c97",
   "metadata": {},
   "source": [
    "___"
   ]
  },
  {
   "cell_type": "markdown",
   "id": "0d16edf4-811d-4fd1-bc78-1ef8bc6de136",
   "metadata": {},
   "source": [
    "## Task 1: Compute the Price of Zero-Coupon Treasury Bills at Auction\n",
    "We compute the T-bill price by building a discounting model in this task. In this case, let's construct an instance of the [`DiscreteCompoundingModel` type](https://varnerlab.github.io/VLQuantitativeFinancePackage.jl/dev/fixed/#VLQuantitativeFinancePackage.DiscreteCompoundingModel) and store this discount model in the `discount_model` variable.\n",
    "\n",
    "> The [`DiscreteCompoundingModel` type](https://varnerlab.github.io/VLQuantitativeFinancePackage.jl/dev/fixed/#VLQuantitativeFinancePackage.DiscreteCompoundingModel) has no data associated with it. Instead, it is used [by the Julia multiple dispatch system](https://docs.julialang.org/en/v1/manual/methods/#Methods) so that we call the correct pricing methods later.\n",
    "\n",
    "Let's build our discount model:"
   ]
  },
  {
   "cell_type": "code",
   "execution_count": 185,
   "id": "29d8ba89-91b5-40a2-b388-8a4e5f4b4e02",
   "metadata": {
    "tags": []
   },
   "outputs": [],
   "source": [
    "discount_model = DiscreteCompoundingModel();"
   ]
  },
  {
   "cell_type": "markdown",
   "id": "414b44bc-8716-427b-8c10-a0e1e9051a8d",
   "metadata": {},
   "source": [
    "Next, let's build a zero-coupon Treasury bill model, an instance of [the `MyUSTreasuryZeroCouponBondModel` type](https://varnerlab.github.io/VLQuantitativeFinancePackage.jl/dev/fixed/#VLQuantitativeFinancePackage.MyUSTreasuryZeroCouponBondModel) using [a custom `build(...)` method](https://varnerlab.github.io/VLQuantitativeFinancePackage.jl/dev/fixed/#VLQuantitativeFinancePackage.build-Tuple{Type{MyUSTreasuryZeroCouponBondModel},%20NamedTuple}). \n",
    "\n",
    "> The [`build(...)` method](https://varnerlab.github.io/VLQuantitativeFinancePackage.jl/dev/fixed/#VLQuantitativeFinancePackage.build-Tuple{Type{MyUSTreasuryZeroCouponBondModel},%20NamedTuple}) requires two arguments: the type of thing we want to build, and [a NamedTuple](https://docs.julialang.org/en/v1/base/base/#Core.NamedTuple) holding data needed to construct the thing we want to build. In this case, we pass the `par` value of the T-bill and the `n` argument, i.e., the number of compounding periods per year. \n",
    "\n",
    "Let's build out the zero-coupon model. Store the zero-coupon model in the `model::MyUSTreasuryZeroCouponBondModel` variable."
   ]
  },
  {
   "cell_type": "code",
   "execution_count": 187,
   "id": "d0a68616-d274-42c5-ba91-75a14452c0d4",
   "metadata": {
    "tags": []
   },
   "outputs": [],
   "source": [
    "model = build(MyUSTreasuryZeroCouponBondModel, (\n",
    "    par = 100.0, n = 2\n",
    "));"
   ]
  },
  {
   "cell_type": "markdown",
   "id": "dc5f293c",
   "metadata": {},
   "source": [
    "We can use [the `typeof(...)` function](https://docs.julialang.org/en/v1/base/base/#Core.typeof) in combination with [the `fieldnames(...)` function](https://docs.julialang.org/en/v1/base/base/#Base.fieldnames) to inspect the structure of our model, i.e., what data the model holds:"
   ]
  },
  {
   "cell_type": "code",
   "execution_count": 157,
   "id": "603814ca-a941-484e-886c-916ed1b7c4e4",
   "metadata": {},
   "outputs": [
    {
     "data": {
      "text/plain": [
       "(:par, :rate, :T, :price, :n, :cashflow, :discount)"
      ]
     },
     "execution_count": 157,
     "metadata": {},
     "output_type": "execute_result"
    }
   ],
   "source": [
    "typeof(model) |> T -> fieldnames(T)"
   ]
  },
  {
   "cell_type": "markdown",
   "id": "d201bb4f-5fb7-4b9a-bd87-d840cab80fc7",
   "metadata": {},
   "source": [
    "The zero-coupon instance is missing some critical data, so let's manually add this to the `model` instance and then compute the price. We'll select an example T-bill from the `dataset::DataFrame`\n",
    "\n",
    "> __What is going on?__ We compute the price of the T-bill using the [Julia pipe `|>` operator](https://docs.julialang.org/en/v1/manual/functions/#Function-composition-and-piping) in combination with the discounting model [using a short-cut syntax](https://varnerlab.github.io/VLQuantitativeFinancePackage.jl/dev/fixed/#Short-cut-syntax).\n",
    "\n",
    "Compute the price at auction $V_{B}$:"
   ]
  },
  {
   "cell_type": "code",
   "execution_count": 159,
   "id": "400b7432-fffb-4802-904c-e6078dc2baa9",
   "metadata": {},
   "outputs": [
    {
     "data": {
      "text/plain": [
       "MyUSTreasuryZeroCouponBondModel(100.0, 0.0405, 0.4986301369863014, 98.02057600598177, 2, Dict(0 => -98.02057600598177, 1 => 100.0), Dict(0 => 1.0, 1 => 1.0201939641111417))"
      ]
     },
     "execution_count": 159,
     "metadata": {},
     "output_type": "execute_result"
    }
   ],
   "source": [
    "model.T = \"26-Week\"  |> securityterm; # parameters for T-bill #6\n",
    "model.rate = 0.0405; # parameters for T-bill # 6\n",
    "model |> discount_model"
   ]
  },
  {
   "cell_type": "code",
   "execution_count": 161,
   "id": "a17737d0-bebf-4ebd-a513-06fb47c1fb9a",
   "metadata": {},
   "outputs": [
    {
     "data": {
      "text/plain": [
       "98.02057600598177"
      ]
     },
     "execution_count": 161,
     "metadata": {},
     "output_type": "execute_result"
    }
   ],
   "source": [
    "model.price"
   ]
  },
  {
   "cell_type": "markdown",
   "id": "46a1f550",
   "metadata": {},
   "source": [
    "Did we get the same price as that recorded at auction?\n",
    "\n",
    "> __Idea:__ If two values are within some relative tolerance `rtol` of each other, the [isapprox function](https://docs.julialang.org/en/v1/base/math/#Base.isapprox) returns `true`; otherwise, it returns `false`. When the [isapprox function](https://docs.julialang.org/en/v1/base/math/#Base.isapprox) is combined with the [@assert macro](https://docs.julialang.org/en/v1/base/base/#Base.@assert), a `false` result generates an [AssertionError](https://docs.julialang.org/en/v1/base/base/#Core.AssertionError). Thus, we have a simple test for equality that works well for floating-point numbers.\n",
    "\n",
    "So, how did we do?"
   ]
  },
  {
   "cell_type": "code",
   "execution_count": 163,
   "id": "8fce04a3",
   "metadata": {},
   "outputs": [],
   "source": [
    "let\n",
    "    auction_price = dataset[6, :Price];\n",
    "    computed_price = model.price\n",
    "    @assert isapprox(auction_price, computed_price; rtol=1e-4)\n",
    "end"
   ]
  },
  {
   "cell_type": "markdown",
   "id": "12428e76-4886-4f17-ba24-0e8a08bd05eb",
   "metadata": {},
   "source": [
    "### Batch Pricing: Compute Prices for All T-bills\n",
    "Finally, we compute the zero-coupon T-bill price for all the T-bills in `dataset` and compare the computed price to the price observed at auction. We process each record in the `dataset::DataFrame` using [a `for-loop`](https://docs.julialang.org/en/v1/base/base/#for). During each iteration of the loop:\n",
    "\n",
    "> __Each iteration:__ We get data from the `dataset::DataFrame` and update the T-bill model instance. In particular, we set the observed price to the variable `auction_price,` we set the duration `T` field (which we convert to the number of years using the local `securityterm` function) and the rate field on the `model::MyUSTreasuryZeroCouponBondModel` instance, and then we compute the price.\n",
    "\n",
    "We calculate the percentage error between the estimated and observed T-bill price and store the simulation data for each iteration in the `computed_price_table::DataFrame` using [the `push!(...)` function](https://dataframes.juliadata.org/stable/lib/functions/#Base.push!)"
   ]
  },
  {
   "cell_type": "code",
   "execution_count": 165,
   "id": "ec79323f-74a4-4a3d-9edd-522ace748b3c",
   "metadata": {
    "tags": []
   },
   "outputs": [
    {
     "ename": "LoadError",
     "evalue": "UndefVarError: `tf_simple` not defined in `Main`\nSuggestion: check for spelling errors or missing imports.",
     "output_type": "error",
     "traceback": [
      "UndefVarError: `tf_simple` not defined in `Main`\nSuggestion: check for spelling errors or missing imports.",
      "",
      "Stacktrace:",
      " [1] top-level scope",
      "\u001b[90m   @\u001b[39m \u001b[90m\u001b[4mIn[165]:35\u001b[24m\u001b[39m"
     ]
    }
   ],
   "source": [
    "let \n",
    "\n",
    "    # Initialize a fresh model for each T-bill calculation\n",
    "    model = build(MyUSTreasuryZeroCouponBondModel, (\n",
    "        par = 100.0, n = 2\n",
    "    ));\n",
    "    \n",
    "    computed_price_table = DataFrame();\n",
    "    for i ∈ 1:number_of_bills\n",
    "        \n",
    "        # Extract market data for this T-bill\n",
    "        auction_price = dataset[i, :Price];  # Actual auction price from market\n",
    "        \n",
    "        # Set model parameters from dataset\n",
    "        model.T = dataset[i, Symbol(\"Security Term\")] |> String |> securityterm; # Convert term to years\n",
    "        model.rate = dataset[i, Symbol(\"Investment Rate\")];  # Discount rate for pricing\n",
    "            \n",
    "        # Compute theoretical price using NPV approach\n",
    "        price_computed = model |> discount_model |> x-> x.price; \n",
    "        \n",
    "        # Calculate pricing error as relative tolerance\n",
    "        absrtol = abs((auction_price - price_computed)/(price_computed)); \n",
    "        \n",
    "        # Store results for analysis\n",
    "        results_tuple = (\n",
    "            CUSIP = dataset[i, :CUSIP],\n",
    "            term = dataset[i, Symbol(\"Security Term\")],\n",
    "            rate = (dataset[i, Symbol(\"Investment Rate\")] |> x-> 100*x),  # Convert to percentage\n",
    "            computed =  price_computed |> x-> trunc(x, digits=3),\n",
    "            actual = auction_price |> x-> trunc(x, digits=3),\n",
    "            rtol = absrtol\n",
    "        );\n",
    "        push!(computed_price_table, results_tuple)\n",
    "    end\n",
    "    pretty_table(computed_price_table, tf=tf_simple)\n",
    "end"
   ]
  },
  {
   "cell_type": "markdown",
   "id": "3045b8d6",
   "metadata": {},
   "source": [
    "___"
   ]
  },
  {
   "cell_type": "markdown",
   "id": "98c7e092-dca7-4db7-b7c7-927fe831a41c",
   "metadata": {},
   "source": [
    "## Task 2: Compute the T-bill price versus the interest rate\n",
    "Malkiel proposed five theorems that govern the price of fixed-income debt securities, e.g., [Treasury Bills, Notes, and Bonds](https://www.treasurydirect.gov/marketable-securities/), as a function of duration and interest rate values:\n",
    "* [Malkiel, B. G. (1962). Expectations, Bond Prices, and the Term Structure of Interest Rates. The Quarterly Journal of Economics, 76(2), 197–218](https://www.jstor.org/stable/1880816)\n",
    "\n",
    "The first of these theorems is that T-bill/note/bond prices are inversely proportional to the yield (the investment rate for T-bills):\n",
    "> __Theorem 1__: Bond prices move inversely to bond yields.\n",
    "\n",
    "Malkiel proved Theorem 1 analytically (and we'll do the same next time). However, now, let's test this relationship computationally. \n",
    "\n",
    "First, select a random bill from the `dataset::DataFrame` by selecting an index from `1...number_of_bills` using [the built-in Julia `rand(...)` function](https://docs.julialang.org/en/v1/stdlib/Random/#Base.rand). We'll use this T-bill as our example to test __Theorem 1.__"
   ]
  },
  {
   "cell_type": "code",
   "execution_count": 167,
   "id": "9feef898-63cf-49eb-8b1e-24628aa83093",
   "metadata": {
    "tags": []
   },
   "outputs": [
    {
     "name": "stdout",
     "output_type": "stream",
     "text": [
      "Selected bill: 83\n"
     ]
    }
   ],
   "source": [
    "random_bill_index = rand(1:number_of_bills)\n",
    "println(\"Selected bill: $(random_bill_index)\")"
   ]
  },
  {
   "cell_type": "markdown",
   "id": "b0f00583",
   "metadata": {},
   "source": [
    "What is the data for our test T-bill?"
   ]
  },
  {
   "cell_type": "code",
   "execution_count": 169,
   "id": "59f826ea-3ef1-4ae1-9414-3060ccfa0e58",
   "metadata": {
    "tags": []
   },
   "outputs": [
    {
     "data": {
      "text/html": [
       "<div><div style = \"float: left;\"><span>DataFrameRow (8 columns)</span></div><div style = \"clear: both;\"></div></div><div class = \"data-frame\" style = \"overflow-x: scroll;\"><table class = \"data-frame\" style = \"margin-bottom: 6px;\"><thead><tr class = \"columnLabelRow\"><th class = \"stubheadLabel\" style = \"font-weight: bold; text-align: right;\">Row</th><th style = \"text-align: left;\">CUSIP</th><th style = \"text-align: left;\">Security Type</th><th style = \"text-align: left;\">Security Term</th><th style = \"text-align: left;\">Auction Date</th><th style = \"text-align: left;\">Issue Date</th><th style = \"text-align: left;\">Maturity Date</th><th style = \"text-align: left;\">Price</th><th style = \"text-align: left;\">Investment Rate</th></tr><tr class = \"columnLabelRow\"><th class = \"stubheadLabel\" style = \"font-weight: bold; text-align: right;\"></th><th title = \"String15\" style = \"text-align: left;\">String15</th><th title = \"String7\" style = \"text-align: left;\">String7</th><th title = \"String7\" style = \"text-align: left;\">String7</th><th title = \"String15\" style = \"text-align: left;\">String15</th><th title = \"String15\" style = \"text-align: left;\">String15</th><th title = \"String15\" style = \"text-align: left;\">String15</th><th title = \"Float64\" style = \"text-align: left;\">Float64</th><th title = \"Float64\" style = \"text-align: left;\">Float64</th></tr></thead><tbody><tr class = \"dataRow\"><td class = \"rowLabel\" style = \"font-weight: bold; text-align: right;\">83</td><td style = \"text-align: left;\">912797QS9</td><td style = \"text-align: left;\">Bill</td><td style = \"text-align: left;\">26-Week</td><td style = \"text-align: left;\">06/02/2025</td><td style = \"text-align: left;\">06/05/2025</td><td style = \"text-align: left;\">12/04/2025</td><td style = \"text-align: right;\">97.9019</td><td style = \"text-align: right;\">0.04298</td></tr></tbody></table></div>"
      ],
      "text/latex": [
       "\\begin{tabular}{r|ccccccc}\n",
       "\t& CUSIP & Security Type & Security Term & Auction Date & Issue Date & Maturity Date & \\\\\n",
       "\t\\hline\n",
       "\t& String15 & String7 & String7 & String15 & String15 & String15 & \\\\\n",
       "\t\\hline\n",
       "\t83 & 912797QS9 & Bill & 26-Week & 06/02/2025 & 06/05/2025 & 12/04/2025 & $\\dots$ \\\\\n",
       "\\end{tabular}\n"
      ],
      "text/plain": [
       "\u001b[1mDataFrameRow\u001b[0m\n",
       "\u001b[1m Row \u001b[0m│\u001b[1m CUSIP     \u001b[0m\u001b[1m Security Type \u001b[0m\u001b[1m Security Term \u001b[0m\u001b[1m Auction Date \u001b[0m\u001b[1m Issue Date \u001b[0m\u001b[1m Matu\u001b[0m ⋯\n",
       "\u001b[1m     \u001b[0m│\u001b[90m String15  \u001b[0m\u001b[90m String7       \u001b[0m\u001b[90m String7       \u001b[0m\u001b[90m String15     \u001b[0m\u001b[90m String15   \u001b[0m\u001b[90m Stri\u001b[0m ⋯\n",
       "─────┼──────────────────────────────────────────────────────────────────────────\n",
       "  83 │ 912797QS9  Bill           26-Week        06/02/2025    06/05/2025  12/0 ⋯\n",
       "\u001b[36m                                                               3 columns omitted\u001b[0m"
      ]
     },
     "execution_count": 169,
     "metadata": {},
     "output_type": "execute_result"
    }
   ],
   "source": [
    "dataset[random_bill_index,:] # what is the auction data for this bill?"
   ]
  },
  {
   "cell_type": "markdown",
   "id": "321b20fa-d36e-4cab-a30c-1b8a42cc94bc",
   "metadata": {},
   "source": [
    "Next, create an instance of [the `MyUSTreasuryZeroCouponBondModel` model](https://varnerlab.github.io/VLQuantitativeFinancePackage.jl/dev/fixed/#VLQuantitativeFinancePackage.MyUSTreasuryZeroCouponBondModel) from the randomly selected nominal auction data using [the `build(...)` method](https://varnerlab.github.io/VLQuantitativeFinancePackage.jl/dev/fixed/#VLQuantitativeFinancePackage.build-Tuple{Type{MyUSTreasuryZeroCouponBondModel},%20NamedTuple}), assuming a par value of `100 USD` with two compounding periods per year. These values will be passed as arguments to the [`build(...)` method](https://varnerlab.github.io/VLQuantitativeFinancePackage.jl/dev/fixed/#VLQuantitativeFinancePackage.build-Tuple{Type{MyUSTreasuryZeroCouponBondModel},%20NamedTuple}) in the `par` and `n` parameters. \n",
    "\n",
    "Update the rest of the parameters on the `zero_coupon_model` instance from the `dataset`. The resulting zero-coupon model will be stored in the `model::MyUSTreasuryZeroCouponBondModel` variable.\n",
    "\n",
    "See the [DataFrames.jl documentation for examples of accessing data from a `DataFrame` instance](https://dataframes.juliadata.org/stable/man/basics/). "
   ]
  },
  {
   "cell_type": "code",
   "execution_count": 171,
   "id": "be57be48-2ad0-41a0-a8d1-74c90a36bea6",
   "metadata": {
    "tags": []
   },
   "outputs": [],
   "source": [
    "zero_coupon_model = build(MyUSTreasuryZeroCouponBondModel, (\n",
    "    par = 100.0, n = 2, \n",
    "    T = dataset[random_bill_index, Symbol(\"Security Term\")] |> String |> securityterm,\n",
    "    rate =  dataset[random_bill_index, Symbol(\"Investment Rate\")]\n",
    ")) |> discount_model; "
   ]
  },
  {
   "cell_type": "markdown",
   "id": "78fb07e0-99a1-4b51-a26c-993b85fce609",
   "metadata": {},
   "source": [
    "#### Check: Is the computed price _similar_ to the auction price $V_{B}$?\n",
    "The [isapprox function](https://docs.julialang.org/en/v1/base/math/#Base.isapprox) checks the equality of numerical values up to some tolerance value, where either relative `rtol` or absolute tolerance `atol` can be specified. Let's use relative tolerance. \n",
    "\n",
    "> __Idea:__ If two values are within `rtol` of each other, the [isapprox function](https://docs.julialang.org/en/v1/base/math/#Base.isapprox) returns `true`; otherwise, it returns `false`. When the [isapprox function](https://docs.julialang.org/en/v1/base/math/#Base.isapprox) is combined with the [@assert macro](https://docs.julialang.org/en/v1/base/base/#Base.@assert), a `false` result generates an [AssertionError](https://docs.julialang.org/en/v1/base/base/#Core.AssertionError). Thus, we have a simple test for equality that works well for floating-point numbers.\n",
    "\n",
    "So, how did we do?"
   ]
  },
  {
   "cell_type": "code",
   "execution_count": 173,
   "id": "bffc26c7-e4c3-4545-bf0d-f3f67b0e01b1",
   "metadata": {
    "tags": []
   },
   "outputs": [],
   "source": [
    "auction_price = dataset[random_bill_index, :Price];\n",
    "computed_price = zero_coupon_model.price\n",
    "@assert isapprox(auction_price, computed_price; rtol=1e-4)"
   ]
  },
  {
   "cell_type": "markdown",
   "id": "8c11b399-ebae-4738-9f1d-2691ef68819a",
   "metadata": {},
   "source": [
    "#### Can we see the cash flow events?\n",
    "The cash flow events for the T-bill are stored in the `cashflow::Dict{Int64, Float64}` dictionary of the zero-coupon model. For a zero-coupon T-bill, there are only two cash flows:\n",
    "\n",
    ">__Zero-coupon cash flows:__ An initial investment (negative $V_{B}$ cash flow at time `0`), and the payoff of par value $V_{P}$ (positive cash flow) at maturity (at time `1`).\n",
    "\n",
    "Let's take a look at them."
   ]
  },
  {
   "cell_type": "code",
   "execution_count": 175,
   "id": "87944e33-f460-4e72-a3a8-4c89b432fcd2",
   "metadata": {},
   "outputs": [
    {
     "data": {
      "text/plain": [
       "Dict{Int64, Float64} with 2 entries:\n",
       "  0 => -97.9019\n",
       "  1 => 100.0"
      ]
     },
     "execution_count": 175,
     "metadata": {},
     "output_type": "execute_result"
    }
   ],
   "source": [
    "zero_coupon_model.cashflow"
   ]
  },
  {
   "cell_type": "markdown",
   "id": "e17ee52d-441a-4c89-a016-86d348c4c7f7",
   "metadata": {},
   "source": [
    "### Interest Rate Perturbation Setup\n",
    "To simulate the impact of changes in the interest rate, let's perturb the effective nominal interest rate $\\bar{r}$, with all other values held constant, i.e., generate a new rate of the form $\\bar{r}\\leftarrow\\beta\\cdot\\bar{r}$, where $\\beta$ is a perturbation value; if $\\beta<1$ the perturbed interest rate is _less than_ the nominal rate, if $\\beta=1$ the perturbed interest rate is _equal to_ the nominal rate, and if $\\beta>1$ the perturbed interest rate is _greater than_ the nominal rate.\n",
    "\n",
    "* First, we specify the number of perturbation values we want to consider; we store this value in the `number_of_samples` variable. If `number_of_samples` is odd, the perturbation range will include the nominal interest rate as the center value.\n",
    "* Next, we specify the lower and upper values of the perturbation range; the lower bound is stored in the `β₁` variable, while the upper bound is stored in the `β₂` variable.\n",
    "* Finally, we compute the perturbation array (stored in the `β`-variable) using the [range function](https://docs.julialang.org/en/v1/base/math/#Base.range) in combination with the [Julia pipe |> operator](https://docs.julialang.org/en/v1/manual/functions/#Function-composition-and-piping), and [the Julia collect function](https://docs.julialang.org/en/v1/base/collections/#Base.collect-Tuple{Type,%20Any}), which converts a range type to a collection, i.e., an array"
   ]
  },
  {
   "cell_type": "code",
   "execution_count": 177,
   "id": "19e90d17-897e-4407-9e42-ead7b464a504",
   "metadata": {},
   "outputs": [],
   "source": [
    "number_of_samples = 7;\n",
    "β₁ = 0.8;\n",
    "β₂ = 1.2;\n",
    "β = range(β₁, stop = β₂, length = number_of_samples) |> collect;"
   ]
  },
  {
   "cell_type": "markdown",
   "id": "4bcdf189-e492-4e2e-8329-012c05fe1d04",
   "metadata": {},
   "source": [
    "### Theorem 1 Simulation: Price vs. Interest Rate\n",
    "Compute the price of the selected T-bill using different values for the effective interest rate and store the results in the `theorem_1_simulation_array` variable. Iterate through each value of the $\\beta$ array using a for loop, where we use the [eachindex function](https://docs.julialang.org/en/v1/base/arrays/#Base.eachindex). \n",
    "\n",
    "For iteration $i$ of the loop:\n",
    "* Get a value for the perturbation $\\beta_{i}$ from the $\\beta$-array, and compute the new effective interest rate $\\bar{r} \\gets \\beta_{i}\\cdot{\\bar{r}}$.\n",
    "* Update the `zero_coupon_model` instance with the new rate (set the `rate` field), and compute the new price\n",
    "* Store the $\\beta_{i}$ value in column 1 and the percentage difference in price in column 2 of the `theorem_1_simulation_array`\n",
    "* Store the new value of the effective interest rate and the new price in columns 3 and 4, respectively. "
   ]
  },
  {
   "cell_type": "code",
   "execution_count": 179,
   "id": "70f9101b-f93c-4468-b29a-c6257ffb4581",
   "metadata": {
    "tags": []
   },
   "outputs": [
    {
     "data": {
      "text/plain": [
       "7×4 Matrix{Float64}:\n",
       " 0.8        0.421376  0.034384   98.3144\n",
       " 0.866667   0.280523  0.0372493  98.1766\n",
       " 0.933333   0.140065  0.0401147  98.039\n",
       " 1.0        0.0       0.04298    97.9019\n",
       " 1.06667   -0.139673  0.0458453  97.7652\n",
       " 1.13333   -0.278955  0.0487107  97.6288\n",
       " 1.2       -0.417849  0.051576   97.4928"
      ]
     },
     "execution_count": 179,
     "metadata": {},
     "output_type": "execute_result"
    }
   ],
   "source": [
    "theorem_1_simulation_array = let\n",
    "\n",
    "    # Initialize results matrix: [β_value, %_change, new_rate, new_price]\n",
    "    theorem_1_simulation_array = Array{Float64,2}(undef, number_of_samples, 4);\n",
    "    \n",
    "    # Test Malkiel's Theorem 1 by perturbing interest rates\n",
    "    for i ∈ eachindex(β)\n",
    "        \n",
    "        # Get perturbation factor for this iteration\n",
    "        β_value = β[i];\n",
    "        \n",
    "        # Calculate new interest rate: r̄_new = β * r̄_original\n",
    "        r̄ = dataset[random_bill_index, Symbol(\"Investment Rate\")];  # Original rate\n",
    "        r̄_value = β_value * r̄;  # Perturbed rate\n",
    "        \n",
    "        # Update model with new rate and compute price\n",
    "        zero_coupon_model.rate = r̄_value;\n",
    "        tmp = zero_coupon_model |> discount_model;\n",
    "        new_price = tmp.price;\n",
    "        \n",
    "        # Store results for analysis\n",
    "        theorem_1_simulation_array[i,1] = β_value;  # Perturbation factor\n",
    "        theorem_1_simulation_array[i,2] = ((new_price - computed_price)/(computed_price))*100;  # % price change\n",
    "        theorem_1_simulation_array[i,3] = r̄_value;  # New interest rate\n",
    "        theorem_1_simulation_array[i,4] = new_price;  # New price\n",
    "    end\n",
    "    theorem_1_simulation_array;\n",
    "end"
   ]
  },
  {
   "cell_type": "markdown",
   "id": "92580aee-434c-423a-b712-496de833a694",
   "metadata": {},
   "source": [
    "### Visualize the perturbation $\\beta$ versus the %-change in price\n",
    "`Unhide` the code block below to see how we plotted the percentage change in the T-bill price versus the $\\beta$-parameter (a surrogate for the effective interest rate). The case of $\\beta = 1$ denotes the nominal interest rate, $\\beta<1$ denotes decreased interest rates compared to the nominal value, and $\\beta>1$ denotes an increased interest rate.\n",
    "> __Expectation__: We expect the price of the T-bill to be inversely proportional to the $\\beta$-parameter, i.e., the effective interest rate of the instrument. If true, this would confirm  Theorem 1 by simulation.\n",
    "\n",
    "So what do we see?"
   ]
  },
  {
   "cell_type": "code",
   "execution_count": 181,
   "id": "5c6c834d-986d-4302-aca2-420b018bcc84",
   "metadata": {
    "tags": []
   },
   "outputs": [
    {
     "data": {
      "image/png": "[encoded data removed]",
      "image/svg+xml": [
       "<?xml version=\"1.0\" encoding=\"utf-8\"?>\n",
       "<svg xmlns=\"http://www.w3.org/2000/svg\" xmlns:xlink=\"http://www.w3.org/1999/xlink\" width=\"600\" height=\"400\" viewBox=\"0 0 2400 1600\">\n",
       "<defs>\n",
       "  <clipPath id=\"clip270\">\n",
       "    <rect x=\"0\" y=\"0\" width=\"2400\" height=\"1600\"/>\n",
       "  </clipPath>\n",
       "</defs>\n",
       "<path clip-path=\"url(#clip270)\" d=\"M0 1600 L2400 1600 L2400 8.88178e-14 L0 8.88178e-14  Z\" fill=\"#ffffff\" fill-rule=\"evenodd\" fill-opacity=\"1\"/>\n",
       "<defs>\n",
       "  <clipPath id=\"clip271\">\n",
       "    <rect x=\"480\" y=\"0\" width=\"1681\" height=\"1600\"/>\n",
       "  </clipPath>\n",
       "</defs>\n",
       "<path clip-path=\"url(#clip270)\" d=\"M257.69 1423.18 L2352.76 1423.18 L2352.76 47.2441 L257.69 47.2441  Z\" fill=\"#f2f2f2\" fill-rule=\"evenodd\" fill-opacity=\"1\"/>\n",
       "<defs>\n",
       "  <clipPath id=\"clip272\">\n",
       "    <rect x=\"257\" y=\"47\" width=\"2096\" height=\"1377\"/>\n",
       "  </clipPath>\n",
       "</defs>\n",
       "<polyline clip-path=\"url(#clip272)\" style=\"stroke:#000000; stroke-linecap:round; stroke-linejoin:round; stroke-width:2; stroke-opacity:0.1; fill:none\" points=\"316.984,1423.18 316.984,47.2441 \"/>\n",
       "<polyline clip-path=\"url(#clip272)\" style=\"stroke:#000000; stroke-linecap:round; stroke-linejoin:round; stroke-width:2; stroke-opacity:0.1; fill:none\" points=\"811.104,1423.18 811.104,47.2441 \"/>\n",
       "<polyline clip-path=\"url(#clip272)\" style=\"stroke:#000000; stroke-linecap:round; stroke-linejoin:round; stroke-width:2; stroke-opacity:0.1; fill:none\" points=\"1305.22,1423.18 1305.22,47.2441 \"/>\n",
       "<polyline clip-path=\"url(#clip272)\" style=\"stroke:#000000; stroke-linecap:round; stroke-linejoin:round; stroke-width:2; stroke-opacity:0.1; fill:none\" points=\"1799.34,1423.18 1799.34,47.2441 \"/>\n",
       "<polyline clip-path=\"url(#clip272)\" style=\"stroke:#000000; stroke-linecap:round; stroke-linejoin:round; stroke-width:2; stroke-opacity:0.1; fill:none\" points=\"2293.46,1423.18 2293.46,47.2441 \"/>\n",
       "<polyline clip-path=\"url(#clip272)\" style=\"stroke:#000000; stroke-linecap:round; stroke-linejoin:round; stroke-width:2; stroke-opacity:0.1; fill:none\" points=\"316.984,1423.18 316.984,47.2441 \"/>\n",
       "<polyline clip-path=\"url(#clip272)\" style=\"stroke:#000000; stroke-linecap:round; stroke-linejoin:round; stroke-width:2; stroke-opacity:0.1; fill:none\" points=\"811.104,1423.18 811.104,47.2441 \"/>\n",
       "<polyline clip-path=\"url(#clip272)\" style=\"stroke:#000000; stroke-linecap:round; stroke-linejoin:round; stroke-width:2; stroke-opacity:0.1; fill:none\" points=\"1305.22,1423.18 1305.22,47.2441 \"/>\n",
       "<polyline clip-path=\"url(#clip272)\" style=\"stroke:#000000; stroke-linecap:round; stroke-linejoin:round; stroke-width:2; stroke-opacity:0.1; fill:none\" points=\"1799.34,1423.18 1799.34,47.2441 \"/>\n",
       "<polyline clip-path=\"url(#clip272)\" style=\"stroke:#000000; stroke-linecap:round; stroke-linejoin:round; stroke-width:2; stroke-opacity:0.1; fill:none\" points=\"2293.46,1423.18 2293.46,47.2441 \"/>\n",
       "<polyline clip-path=\"url(#clip272)\" style=\"stroke:#000000; stroke-linecap:round; stroke-linejoin:round; stroke-width:2; stroke-opacity:0.1; fill:none\" points=\"257.69,1356.63 2352.76,1356.63 \"/>\n",
       "<polyline clip-path=\"url(#clip272)\" style=\"stroke:#000000; stroke-linecap:round; stroke-linejoin:round; stroke-width:2; stroke-opacity:0.1; fill:none\" points=\"257.69,1047.28 2352.76,1047.28 \"/>\n",
       "<polyline clip-path=\"url(#clip272)\" style=\"stroke:#000000; stroke-linecap:round; stroke-linejoin:round; stroke-width:2; stroke-opacity:0.1; fill:none\" points=\"257.69,737.939 2352.76,737.939 \"/>\n",
       "<polyline clip-path=\"url(#clip272)\" style=\"stroke:#000000; stroke-linecap:round; stroke-linejoin:round; stroke-width:2; stroke-opacity:0.1; fill:none\" points=\"257.69,428.594 2352.76,428.594 \"/>\n",
       "<polyline clip-path=\"url(#clip272)\" style=\"stroke:#000000; stroke-linecap:round; stroke-linejoin:round; stroke-width:2; stroke-opacity:0.1; fill:none\" points=\"257.69,119.248 2352.76,119.248 \"/>\n",
       "<polyline clip-path=\"url(#clip272)\" style=\"stroke:#000000; stroke-linecap:round; stroke-linejoin:round; stroke-width:2; stroke-opacity:0.1; fill:none\" points=\"257.69,1356.63 2352.76,1356.63 \"/>\n",
       "<polyline clip-path=\"url(#clip272)\" style=\"stroke:#000000; stroke-linecap:round; stroke-linejoin:round; stroke-width:2; stroke-opacity:0.1; fill:none\" points=\"257.69,1047.28 2352.76,1047.28 \"/>\n",
       "<polyline clip-path=\"url(#clip272)\" style=\"stroke:#000000; stroke-linecap:round; stroke-linejoin:round; stroke-width:2; stroke-opacity:0.1; fill:none\" points=\"257.69,737.939 2352.76,737.939 \"/>\n",
       "<polyline clip-path=\"url(#clip272)\" style=\"stroke:#000000; stroke-linecap:round; stroke-linejoin:round; stroke-width:2; stroke-opacity:0.1; fill:none\" points=\"257.69,428.594 2352.76,428.594 \"/>\n",
       "<polyline clip-path=\"url(#clip272)\" style=\"stroke:#000000; stroke-linecap:round; stroke-linejoin:round; stroke-width:2; stroke-opacity:0.1; fill:none\" points=\"257.69,119.248 2352.76,119.248 \"/>\n",
       "<polyline clip-path=\"url(#clip270)\" style=\"stroke:#000000; stroke-linecap:round; stroke-linejoin:round; stroke-width:4; stroke-opacity:1; fill:none\" points=\"257.69,1423.18 2352.76,1423.18 \"/>\n",
       "<polyline clip-path=\"url(#clip270)\" style=\"stroke:#000000; stroke-linecap:round; stroke-linejoin:round; stroke-width:4; stroke-opacity:1; fill:none\" points=\"257.69,47.2441 2352.76,47.2441 \"/>\n",
       "<polyline clip-path=\"url(#clip270)\" style=\"stroke:#000000; stroke-linecap:round; stroke-linejoin:round; stroke-width:4; stroke-opacity:1; fill:none\" points=\"316.984,1423.18 316.984,1404.28 \"/>\n",
       "<polyline clip-path=\"url(#clip270)\" style=\"stroke:#000000; stroke-linecap:round; stroke-linejoin:round; stroke-width:4; stroke-opacity:1; fill:none\" points=\"811.104,1423.18 811.104,1404.28 \"/>\n",
       "<polyline clip-path=\"url(#clip270)\" style=\"stroke:#000000; stroke-linecap:round; stroke-linejoin:round; stroke-width:4; stroke-opacity:1; fill:none\" points=\"1305.22,1423.18 1305.22,1404.28 \"/>\n",
       "<polyline clip-path=\"url(#clip270)\" style=\"stroke:#000000; stroke-linecap:round; stroke-linejoin:round; stroke-width:4; stroke-opacity:1; fill:none\" points=\"1799.34,1423.18 1799.34,1404.28 \"/>\n",
       "<polyline clip-path=\"url(#clip270)\" style=\"stroke:#000000; stroke-linecap:round; stroke-linejoin:round; stroke-width:4; stroke-opacity:1; fill:none\" points=\"2293.46,1423.18 2293.46,1404.28 \"/>\n",
       "<polyline clip-path=\"url(#clip270)\" style=\"stroke:#000000; stroke-linecap:round; stroke-linejoin:round; stroke-width:4; stroke-opacity:1; fill:none\" points=\"316.984,47.2441 316.984,66.1417 \"/>\n",
       "<polyline clip-path=\"url(#clip270)\" style=\"stroke:#000000; stroke-linecap:round; stroke-linejoin:round; stroke-width:4; stroke-opacity:1; fill:none\" points=\"811.104,47.2441 811.104,66.1417 \"/>\n",
       "<polyline clip-path=\"url(#clip270)\" style=\"stroke:#000000; stroke-linecap:round; stroke-linejoin:round; stroke-width:4; stroke-opacity:1; fill:none\" points=\"1305.22,47.2441 1305.22,66.1417 \"/>\n",
       "<polyline clip-path=\"url(#clip270)\" style=\"stroke:#000000; stroke-linecap:round; stroke-linejoin:round; stroke-width:4; stroke-opacity:1; fill:none\" points=\"1799.34,47.2441 1799.34,66.1417 \"/>\n",
       "<polyline clip-path=\"url(#clip270)\" style=\"stroke:#000000; stroke-linecap:round; stroke-linejoin:round; stroke-width:4; stroke-opacity:1; fill:none\" points=\"2293.46,47.2441 2293.46,66.1417 \"/>\n",
       "<path clip-path=\"url(#clip270)\" d=\"M294.415 1454.1 Q290.804 1454.1 288.975 1457.66 Q287.17 1461.2 287.17 1468.33 Q287.17 1475.44 288.975 1479.01 Q290.804 1482.55 294.415 1482.55 Q298.049 1482.55 299.855 1479.01 Q301.684 1475.44 301.684 1468.33 Q301.684 1461.2 299.855 1457.66 Q298.049 1454.1 294.415 1454.1 M294.415 1450.39 Q300.225 1450.39 303.281 1455 Q306.36 1459.58 306.36 1468.33 Q306.36 1477.06 303.281 1481.67 Q300.225 1486.25 294.415 1486.25 Q288.605 1486.25 285.526 1481.67 Q282.471 1477.06 282.471 1468.33 Q282.471 1459.58 285.526 1455 Q288.605 1450.39 294.415 1450.39 Z\" fill=\"#000000\" fill-rule=\"nonzero\" fill-opacity=\"1\" /><path clip-path=\"url(#clip270)\" d=\"M314.577 1479.7 L319.461 1479.7 L319.461 1485.58 L314.577 1485.58 L314.577 1479.7 Z\" fill=\"#000000\" fill-rule=\"nonzero\" fill-opacity=\"1\" /><path clip-path=\"url(#clip270)\" d=\"M339.646 1469.17 Q336.313 1469.17 334.392 1470.95 Q332.494 1472.73 332.494 1475.86 Q332.494 1478.98 334.392 1480.77 Q336.313 1482.55 339.646 1482.55 Q342.98 1482.55 344.901 1480.77 Q346.822 1478.96 346.822 1475.86 Q346.822 1472.73 344.901 1470.95 Q343.003 1469.17 339.646 1469.17 M334.97 1467.18 Q331.961 1466.44 330.271 1464.38 Q328.605 1462.32 328.605 1459.35 Q328.605 1455.21 331.545 1452.8 Q334.508 1450.39 339.646 1450.39 Q344.808 1450.39 347.748 1452.8 Q350.688 1455.21 350.688 1459.35 Q350.688 1462.32 348.998 1464.38 Q347.332 1466.44 344.345 1467.18 Q347.725 1467.96 349.6 1470.26 Q351.498 1472.55 351.498 1475.86 Q351.498 1480.88 348.419 1483.57 Q345.364 1486.25 339.646 1486.25 Q333.929 1486.25 330.85 1483.57 Q327.795 1480.88 327.795 1475.86 Q327.795 1472.55 329.693 1470.26 Q331.591 1467.96 334.97 1467.18 M333.258 1459.79 Q333.258 1462.48 334.924 1463.98 Q336.614 1465.49 339.646 1465.49 Q342.656 1465.49 344.345 1463.98 Q346.058 1462.48 346.058 1459.79 Q346.058 1457.11 344.345 1455.6 Q342.656 1454.1 339.646 1454.1 Q336.614 1454.1 334.924 1455.6 Q333.258 1457.11 333.258 1459.79 Z\" fill=\"#000000\" fill-rule=\"nonzero\" fill-opacity=\"1\" /><path clip-path=\"url(#clip270)\" d=\"M788.581 1454.1 Q784.97 1454.1 783.141 1457.66 Q781.335 1461.2 781.335 1468.33 Q781.335 1475.44 783.141 1479.01 Q784.97 1482.55 788.581 1482.55 Q792.215 1482.55 794.02 1479.01 Q795.849 1475.44 795.849 1468.33 Q795.849 1461.2 794.02 1457.66 Q792.215 1454.1 788.581 1454.1 M788.581 1450.39 Q794.391 1450.39 797.446 1455 Q800.525 1459.58 800.525 1468.33 Q800.525 1477.06 797.446 1481.67 Q794.391 1486.25 788.581 1486.25 Q782.771 1486.25 779.692 1481.67 Q776.636 1477.06 776.636 1468.33 Q776.636 1459.58 779.692 1455 Q782.771 1450.39 788.581 1450.39 Z\" fill=\"#000000\" fill-rule=\"nonzero\" fill-opacity=\"1\" /><path clip-path=\"url(#clip270)\" d=\"M808.743 1479.7 L813.627 1479.7 L813.627 1485.58 L808.743 1485.58 L808.743 1479.7 Z\" fill=\"#000000\" fill-rule=\"nonzero\" fill-opacity=\"1\" /><path clip-path=\"url(#clip270)\" d=\"M823.951 1484.86 L823.951 1480.6 Q825.71 1481.44 827.516 1481.88 Q829.321 1482.32 831.057 1482.32 Q835.687 1482.32 838.117 1479.21 Q840.571 1476.09 840.918 1469.75 Q839.576 1471.74 837.516 1472.8 Q835.455 1473.87 832.955 1473.87 Q827.77 1473.87 824.738 1470.74 Q821.729 1467.59 821.729 1462.15 Q821.729 1456.83 824.877 1453.61 Q828.025 1450.39 833.256 1450.39 Q839.252 1450.39 842.4 1455 Q845.571 1459.58 845.571 1468.33 Q845.571 1476.51 841.682 1481.39 Q837.817 1486.25 831.266 1486.25 Q829.506 1486.25 827.701 1485.9 Q825.895 1485.56 823.951 1484.86 M833.256 1470.21 Q836.405 1470.21 838.233 1468.06 Q840.085 1465.9 840.085 1462.15 Q840.085 1458.43 838.233 1456.27 Q836.405 1454.1 833.256 1454.1 Q830.108 1454.1 828.256 1456.27 Q826.428 1458.43 826.428 1462.15 Q826.428 1465.9 828.256 1468.06 Q830.108 1470.21 833.256 1470.21 Z\" fill=\"#000000\" fill-rule=\"nonzero\" fill-opacity=\"1\" /><path clip-path=\"url(#clip270)\" d=\"M1272.38 1481.64 L1280.01 1481.64 L1280.01 1455.28 L1271.7 1456.95 L1271.7 1452.69 L1279.97 1451.02 L1284.64 1451.02 L1284.64 1481.64 L1292.28 1481.64 L1292.28 1485.58 L1272.38 1485.58 L1272.38 1481.64 Z\" fill=\"#000000\" fill-rule=\"nonzero\" fill-opacity=\"1\" /><path clip-path=\"url(#clip270)\" d=\"M1301.73 1479.7 L1306.61 1479.7 L1306.61 1485.58 L1301.73 1485.58 L1301.73 1479.7 Z\" fill=\"#000000\" fill-rule=\"nonzero\" fill-opacity=\"1\" /><path clip-path=\"url(#clip270)\" d=\"M1326.8 1454.1 Q1323.19 1454.1 1321.36 1457.66 Q1319.55 1461.2 1319.55 1468.33 Q1319.55 1475.44 1321.36 1479.01 Q1323.19 1482.55 1326.8 1482.55 Q1330.43 1482.55 1332.24 1479.01 Q1334.07 1475.44 1334.07 1468.33 Q1334.07 1461.2 1332.24 1457.66 Q1330.43 1454.1 1326.8 1454.1 M1326.8 1450.39 Q1332.61 1450.39 1335.66 1455 Q1338.74 1459.58 1338.74 1468.33 Q1338.74 1477.06 1335.66 1481.67 Q1332.61 1486.25 1326.8 1486.25 Q1320.99 1486.25 1317.91 1481.67 Q1314.85 1477.06 1314.85 1468.33 Q1314.85 1459.58 1317.91 1455 Q1320.99 1450.39 1326.8 1450.39 Z\" fill=\"#000000\" fill-rule=\"nonzero\" fill-opacity=\"1\" /><path clip-path=\"url(#clip270)\" d=\"M1767.11 1481.64 L1774.75 1481.64 L1774.75 1455.28 L1766.44 1456.95 L1766.44 1452.69 L1774.7 1451.02 L1779.38 1451.02 L1779.38 1481.64 L1787.02 1481.64 L1787.02 1485.58 L1767.11 1485.58 L1767.11 1481.64 Z\" fill=\"#000000\" fill-rule=\"nonzero\" fill-opacity=\"1\" /><path clip-path=\"url(#clip270)\" d=\"M1796.46 1479.7 L1801.34 1479.7 L1801.34 1485.58 L1796.46 1485.58 L1796.46 1479.7 Z\" fill=\"#000000\" fill-rule=\"nonzero\" fill-opacity=\"1\" /><path clip-path=\"url(#clip270)\" d=\"M1812.34 1481.64 L1819.98 1481.64 L1819.98 1455.28 L1811.67 1456.95 L1811.67 1452.69 L1819.93 1451.02 L1824.61 1451.02 L1824.61 1481.64 L1832.25 1481.64 L1832.25 1485.58 L1812.34 1485.58 L1812.34 1481.64 Z\" fill=\"#000000\" fill-rule=\"nonzero\" fill-opacity=\"1\" /><path clip-path=\"url(#clip270)\" d=\"M2261.41 1481.64 L2269.05 1481.64 L2269.05 1455.28 L2260.74 1456.95 L2260.74 1452.69 L2269.01 1451.02 L2273.68 1451.02 L2273.68 1481.64 L2281.32 1481.64 L2281.32 1485.58 L2261.41 1485.58 L2261.41 1481.64 Z\" fill=\"#000000\" fill-rule=\"nonzero\" fill-opacity=\"1\" /><path clip-path=\"url(#clip270)\" d=\"M2290.76 1479.7 L2295.65 1479.7 L2295.65 1485.58 L2290.76 1485.58 L2290.76 1479.7 Z\" fill=\"#000000\" fill-rule=\"nonzero\" fill-opacity=\"1\" /><path clip-path=\"url(#clip270)\" d=\"M2309.86 1481.64 L2326.18 1481.64 L2326.18 1485.58 L2304.24 1485.58 L2304.24 1481.64 Q2306.9 1478.89 2311.48 1474.26 Q2316.09 1469.61 2317.27 1468.27 Q2319.51 1465.74 2320.39 1464.01 Q2321.3 1462.25 2321.3 1460.56 Q2321.3 1457.8 2319.35 1456.07 Q2317.43 1454.33 2314.33 1454.33 Q2312.13 1454.33 2309.68 1455.09 Q2307.25 1455.86 2304.47 1457.41 L2304.47 1452.69 Q2307.29 1451.55 2309.75 1450.97 Q2312.2 1450.39 2314.24 1450.39 Q2319.61 1450.39 2322.8 1453.08 Q2326 1455.77 2326 1460.26 Q2326 1462.39 2325.19 1464.31 Q2324.4 1466.2 2322.29 1468.8 Q2321.71 1469.47 2318.61 1472.69 Q2315.51 1475.88 2309.86 1481.64 Z\" fill=\"#000000\" fill-rule=\"nonzero\" fill-opacity=\"1\" /><path clip-path=\"url(#clip270)\" d=\"M1295.71 1565.85 L1295.71 1581.6 L1289.82 1581.6 L1289.82 1532.62 Q1289.82 1518.1 1303.38 1518.1 Q1317.19 1518.1 1317.19 1530.36 Q1317.19 1539.08 1311.72 1542.26 Q1320.63 1545.13 1320.63 1553.63 Q1320.63 1568.71 1305.29 1568.71 Q1298.54 1568.71 1295.71 1565.85 M1295.71 1558.21 Q1299.24 1563.72 1305.51 1563.72 Q1314.68 1563.72 1314.68 1553.72 Q1314.68 1544.75 1299.91 1545.45 L1299.91 1540.03 Q1311.46 1540.03 1311.46 1529.85 Q1311.46 1522.88 1304.01 1522.88 Q1295.71 1522.88 1295.71 1532.81 L1295.71 1558.21 Z\" fill=\"#000000\" fill-rule=\"nonzero\" fill-opacity=\"1\" /><polyline clip-path=\"url(#clip270)\" style=\"stroke:#000000; stroke-linecap:round; stroke-linejoin:round; stroke-width:4; stroke-opacity:1; fill:none\" points=\"257.69,1423.18 257.69,47.2441 \"/>\n",
       "<polyline clip-path=\"url(#clip270)\" style=\"stroke:#000000; stroke-linecap:round; stroke-linejoin:round; stroke-width:4; stroke-opacity:1; fill:none\" points=\"2352.76,1423.18 2352.76,47.2441 \"/>\n",
       "<polyline clip-path=\"url(#clip270)\" style=\"stroke:#000000; stroke-linecap:round; stroke-linejoin:round; stroke-width:4; stroke-opacity:1; fill:none\" points=\"257.69,1356.63 276.588,1356.63 \"/>\n",
       "<polyline clip-path=\"url(#clip270)\" style=\"stroke:#000000; stroke-linecap:round; stroke-linejoin:round; stroke-width:4; stroke-opacity:1; fill:none\" points=\"257.69,1047.28 276.588,1047.28 \"/>\n",
       "<polyline clip-path=\"url(#clip270)\" style=\"stroke:#000000; stroke-linecap:round; stroke-linejoin:round; stroke-width:4; stroke-opacity:1; fill:none\" points=\"257.69,737.939 276.588,737.939 \"/>\n",
       "<polyline clip-path=\"url(#clip270)\" style=\"stroke:#000000; stroke-linecap:round; stroke-linejoin:round; stroke-width:4; stroke-opacity:1; fill:none\" points=\"257.69,428.594 276.588,428.594 \"/>\n",
       "<polyline clip-path=\"url(#clip270)\" style=\"stroke:#000000; stroke-linecap:round; stroke-linejoin:round; stroke-width:4; stroke-opacity:1; fill:none\" points=\"257.69,119.248 276.588,119.248 \"/>\n",
       "<polyline clip-path=\"url(#clip270)\" style=\"stroke:#000000; stroke-linecap:round; stroke-linejoin:round; stroke-width:4; stroke-opacity:1; fill:none\" points=\"2352.76,1356.63 2333.86,1356.63 \"/>\n",
       "<polyline clip-path=\"url(#clip270)\" style=\"stroke:#000000; stroke-linecap:round; stroke-linejoin:round; stroke-width:4; stroke-opacity:1; fill:none\" points=\"2352.76,1047.28 2333.86,1047.28 \"/>\n",
       "<polyline clip-path=\"url(#clip270)\" style=\"stroke:#000000; stroke-linecap:round; stroke-linejoin:round; stroke-width:4; stroke-opacity:1; fill:none\" points=\"2352.76,737.939 2333.86,737.939 \"/>\n",
       "<polyline clip-path=\"url(#clip270)\" style=\"stroke:#000000; stroke-linecap:round; stroke-linejoin:round; stroke-width:4; stroke-opacity:1; fill:none\" points=\"2352.76,428.594 2333.86,428.594 \"/>\n",
       "<polyline clip-path=\"url(#clip270)\" style=\"stroke:#000000; stroke-linecap:round; stroke-linejoin:round; stroke-width:4; stroke-opacity:1; fill:none\" points=\"2352.76,119.248 2333.86,119.248 \"/>\n",
       "<path clip-path=\"url(#clip270)\" d=\"M114.26 1357.08 L143.936 1357.08 L143.936 1361.02 L114.26 1361.02 L114.26 1357.08 Z\" fill=\"#000000\" fill-rule=\"nonzero\" fill-opacity=\"1\" /><path clip-path=\"url(#clip270)\" d=\"M164.028 1342.43 Q160.417 1342.43 158.589 1345.99 Q156.783 1349.54 156.783 1356.66 Q156.783 1363.77 158.589 1367.34 Q160.417 1370.88 164.028 1370.88 Q167.663 1370.88 169.468 1367.34 Q171.297 1363.77 171.297 1356.66 Q171.297 1349.54 169.468 1345.99 Q167.663 1342.43 164.028 1342.43 M164.028 1338.73 Q169.839 1338.73 172.894 1343.33 Q175.973 1347.91 175.973 1356.66 Q175.973 1365.39 172.894 1370 Q169.839 1374.58 164.028 1374.58 Q158.218 1374.58 155.14 1370 Q152.084 1365.39 152.084 1356.66 Q152.084 1347.91 155.14 1343.33 Q158.218 1338.73 164.028 1338.73 Z\" fill=\"#000000\" fill-rule=\"nonzero\" fill-opacity=\"1\" /><path clip-path=\"url(#clip270)\" d=\"M184.19 1368.03 L189.075 1368.03 L189.075 1373.91 L184.19 1373.91 L184.19 1368.03 Z\" fill=\"#000000\" fill-rule=\"nonzero\" fill-opacity=\"1\" /><path clip-path=\"url(#clip270)\" d=\"M212.107 1343.42 L200.301 1361.87 L212.107 1361.87 L212.107 1343.42 M210.88 1339.35 L216.76 1339.35 L216.76 1361.87 L221.69 1361.87 L221.69 1365.76 L216.76 1365.76 L216.76 1373.91 L212.107 1373.91 L212.107 1365.76 L196.505 1365.76 L196.505 1361.25 L210.88 1339.35 Z\" fill=\"#000000\" fill-rule=\"nonzero\" fill-opacity=\"1\" /><path clip-path=\"url(#clip270)\" d=\"M116.343 1047.74 L146.019 1047.74 L146.019 1051.67 L116.343 1051.67 L116.343 1047.74 Z\" fill=\"#000000\" fill-rule=\"nonzero\" fill-opacity=\"1\" /><path clip-path=\"url(#clip270)\" d=\"M166.112 1033.08 Q162.501 1033.08 160.672 1036.65 Q158.866 1040.19 158.866 1047.32 Q158.866 1054.43 160.672 1057.99 Q162.501 1061.53 166.112 1061.53 Q169.746 1061.53 171.552 1057.99 Q173.38 1054.43 173.38 1047.32 Q173.38 1040.19 171.552 1036.65 Q169.746 1033.08 166.112 1033.08 M166.112 1029.38 Q171.922 1029.38 174.977 1033.99 Q178.056 1038.57 178.056 1047.32 Q178.056 1056.05 174.977 1060.65 Q171.922 1065.24 166.112 1065.24 Q160.302 1065.24 157.223 1060.65 Q154.167 1056.05 154.167 1047.32 Q154.167 1038.57 157.223 1033.99 Q160.302 1029.38 166.112 1029.38 Z\" fill=\"#000000\" fill-rule=\"nonzero\" fill-opacity=\"1\" /><path clip-path=\"url(#clip270)\" d=\"M186.274 1058.68 L191.158 1058.68 L191.158 1064.56 L186.274 1064.56 L186.274 1058.68 Z\" fill=\"#000000\" fill-rule=\"nonzero\" fill-opacity=\"1\" /><path clip-path=\"url(#clip270)\" d=\"M205.371 1060.63 L221.69 1060.63 L221.69 1064.56 L199.746 1064.56 L199.746 1060.63 Q202.408 1057.87 206.991 1053.25 Q211.598 1048.59 212.778 1047.25 Q215.024 1044.73 215.903 1042.99 Q216.806 1041.23 216.806 1039.54 Q216.806 1036.79 214.861 1035.05 Q212.94 1033.31 209.838 1033.31 Q207.639 1033.31 205.186 1034.08 Q202.755 1034.84 199.977 1036.39 L199.977 1031.67 Q202.801 1030.54 205.255 1029.96 Q207.709 1029.38 209.746 1029.38 Q215.116 1029.38 218.311 1032.06 Q221.505 1034.75 221.505 1039.24 Q221.505 1041.37 220.695 1043.29 Q219.908 1045.19 217.801 1047.78 Q217.223 1048.45 214.121 1051.67 Q211.019 1054.87 205.371 1060.63 Z\" fill=\"#000000\" fill-rule=\"nonzero\" fill-opacity=\"1\" /><path clip-path=\"url(#clip270)\" d=\"M164.515 723.738 Q160.903 723.738 159.075 727.303 Q157.269 730.844 157.269 737.974 Q157.269 745.08 159.075 748.645 Q160.903 752.187 164.515 752.187 Q168.149 752.187 169.954 748.645 Q171.783 745.08 171.783 737.974 Q171.783 730.844 169.954 727.303 Q168.149 723.738 164.515 723.738 M164.515 720.034 Q170.325 720.034 173.38 724.641 Q176.459 729.224 176.459 737.974 Q176.459 746.701 173.38 751.307 Q170.325 755.89 164.515 755.89 Q158.704 755.89 155.626 751.307 Q152.57 746.701 152.57 737.974 Q152.57 729.224 155.626 724.641 Q158.704 720.034 164.515 720.034 Z\" fill=\"#000000\" fill-rule=\"nonzero\" fill-opacity=\"1\" /><path clip-path=\"url(#clip270)\" d=\"M184.676 749.339 L189.561 749.339 L189.561 755.219 L184.676 755.219 L184.676 749.339 Z\" fill=\"#000000\" fill-rule=\"nonzero\" fill-opacity=\"1\" /><path clip-path=\"url(#clip270)\" d=\"M209.746 723.738 Q206.135 723.738 204.306 727.303 Q202.5 730.844 202.5 737.974 Q202.5 745.08 204.306 748.645 Q206.135 752.187 209.746 752.187 Q213.38 752.187 215.186 748.645 Q217.014 745.08 217.014 737.974 Q217.014 730.844 215.186 727.303 Q213.38 723.738 209.746 723.738 M209.746 720.034 Q215.556 720.034 218.611 724.641 Q221.69 729.224 221.69 737.974 Q221.69 746.701 218.611 751.307 Q215.556 755.89 209.746 755.89 Q203.936 755.89 200.857 751.307 Q197.801 746.701 197.801 737.974 Q197.801 729.224 200.857 724.641 Q203.936 720.034 209.746 720.034 Z\" fill=\"#000000\" fill-rule=\"nonzero\" fill-opacity=\"1\" /><path clip-path=\"url(#clip270)\" d=\"M166.112 414.392 Q162.501 414.392 160.672 417.957 Q158.866 421.499 158.866 428.628 Q158.866 435.735 160.672 439.3 Q162.501 442.841 166.112 442.841 Q169.746 442.841 171.552 439.3 Q173.38 435.735 173.38 428.628 Q173.38 421.499 171.552 417.957 Q169.746 414.392 166.112 414.392 M166.112 410.689 Q171.922 410.689 174.977 415.295 Q178.056 419.878 178.056 428.628 Q178.056 437.355 174.977 441.962 Q171.922 446.545 166.112 446.545 Q160.302 446.545 157.223 441.962 Q154.167 437.355 154.167 428.628 Q154.167 419.878 157.223 415.295 Q160.302 410.689 166.112 410.689 Z\" fill=\"#000000\" fill-rule=\"nonzero\" fill-opacity=\"1\" /><path clip-path=\"url(#clip270)\" d=\"M186.274 439.994 L191.158 439.994 L191.158 445.874 L186.274 445.874 L186.274 439.994 Z\" fill=\"#000000\" fill-rule=\"nonzero\" fill-opacity=\"1\" /><path clip-path=\"url(#clip270)\" d=\"M205.371 441.938 L221.69 441.938 L221.69 445.874 L199.746 445.874 L199.746 441.938 Q202.408 439.184 206.991 434.554 Q211.598 429.901 212.778 428.559 Q215.024 426.036 215.903 424.3 Q216.806 422.54 216.806 420.851 Q216.806 418.096 214.861 416.36 Q212.94 414.624 209.838 414.624 Q207.639 414.624 205.186 415.388 Q202.755 416.151 199.977 417.702 L199.977 412.98 Q202.801 411.846 205.255 411.267 Q207.709 410.689 209.746 410.689 Q215.116 410.689 218.311 413.374 Q221.505 416.059 221.505 420.55 Q221.505 422.679 220.695 424.601 Q219.908 426.499 217.801 429.091 Q217.223 429.763 214.121 432.98 Q211.019 436.175 205.371 441.938 Z\" fill=\"#000000\" fill-rule=\"nonzero\" fill-opacity=\"1\" /><path clip-path=\"url(#clip270)\" d=\"M164.028 105.047 Q160.417 105.047 158.589 108.612 Q156.783 112.153 156.783 119.283 Q156.783 126.389 158.589 129.954 Q160.417 133.496 164.028 133.496 Q167.663 133.496 169.468 129.954 Q171.297 126.389 171.297 119.283 Q171.297 112.153 169.468 108.612 Q167.663 105.047 164.028 105.047 M164.028 101.343 Q169.839 101.343 172.894 105.95 Q175.973 110.533 175.973 119.283 Q175.973 128.01 172.894 132.616 Q169.839 137.199 164.028 137.199 Q158.218 137.199 155.14 132.616 Q152.084 128.01 152.084 119.283 Q152.084 110.533 155.14 105.95 Q158.218 101.343 164.028 101.343 Z\" fill=\"#000000\" fill-rule=\"nonzero\" fill-opacity=\"1\" /><path clip-path=\"url(#clip270)\" d=\"M184.19 130.648 L189.075 130.648 L189.075 136.528 L184.19 136.528 L184.19 130.648 Z\" fill=\"#000000\" fill-rule=\"nonzero\" fill-opacity=\"1\" /><path clip-path=\"url(#clip270)\" d=\"M212.107 106.042 L200.301 124.491 L212.107 124.491 L212.107 106.042 M210.88 101.968 L216.76 101.968 L216.76 124.491 L221.69 124.491 L221.69 128.38 L216.76 128.38 L216.76 136.528 L212.107 136.528 L212.107 128.38 L196.505 128.38 L196.505 123.866 L210.88 101.968 Z\" fill=\"#000000\" fill-rule=\"nonzero\" fill-opacity=\"1\" /><path clip-path=\"url(#clip270)\" d=\"M21.7677 1216.38 L39.6235 1216.38 L39.6235 1208.3 Q39.6235 1203.81 37.3 1201.36 Q34.9765 1198.91 30.6797 1198.91 Q26.4147 1198.91 24.0912 1201.36 Q21.7677 1203.81 21.7677 1208.3 L21.7677 1216.38 M16.4842 1222.81 L16.4842 1208.3 Q16.4842 1200.31 20.1126 1196.23 Q23.7092 1192.13 30.6797 1192.13 Q37.7138 1192.13 41.3104 1196.23 Q44.907 1200.31 44.907 1208.3 L44.907 1216.38 L64.0042 1216.38 L64.0042 1222.81 L16.4842 1222.81 Z\" fill=\"#000000\" fill-rule=\"nonzero\" fill-opacity=\"1\" /><path clip-path=\"url(#clip270)\" d=\"M44.7161 1155.59 L47.5806 1155.59 L47.5806 1182.51 Q53.6281 1182.13 56.8109 1178.89 Q59.9619 1175.61 59.9619 1169.78 Q59.9619 1166.41 59.1344 1163.26 Q58.3069 1160.08 56.6518 1156.96 L62.1899 1156.96 Q63.5267 1160.11 64.227 1163.42 Q64.9272 1166.73 64.9272 1170.13 Q64.9272 1178.66 59.9619 1183.66 Q54.9967 1188.63 46.5303 1188.63 Q37.7774 1188.63 32.6531 1183.91 Q27.4968 1179.17 27.4968 1171.15 Q27.4968 1163.96 32.1438 1159.79 Q36.7589 1155.59 44.7161 1155.59 M42.9973 1161.44 Q38.1912 1161.51 35.3266 1164.15 Q32.4621 1166.76 32.4621 1171.09 Q32.4621 1175.99 35.2312 1178.95 Q38.0002 1181.88 43.0292 1182.32 L42.9973 1161.44 Z\" fill=\"#000000\" fill-rule=\"nonzero\" fill-opacity=\"1\" /><path clip-path=\"url(#clip270)\" d=\"M33.8307 1125.32 Q33.2578 1126.31 33.0032 1127.48 Q32.7167 1128.63 32.7167 1130.03 Q32.7167 1134.99 35.9632 1137.67 Q39.1779 1140.31 45.2253 1140.31 L64.0042 1140.31 L64.0042 1146.2 L28.3562 1146.2 L28.3562 1140.31 L33.8944 1140.31 Q30.6479 1138.46 29.0883 1135.5 Q27.4968 1132.54 27.4968 1128.31 Q27.4968 1127.71 27.5923 1126.97 Q27.656 1126.24 27.8151 1125.35 L33.8307 1125.32 Z\" fill=\"#000000\" fill-rule=\"nonzero\" fill-opacity=\"1\" /><path clip-path=\"url(#clip270)\" d=\"M29.7248 1094.95 L35.1993 1094.95 Q33.8307 1097.44 33.1623 1099.95 Q32.4621 1102.43 32.4621 1104.98 Q32.4621 1110.68 36.0905 1113.83 Q39.6872 1116.98 46.212 1116.98 Q52.7369 1116.98 56.3653 1113.83 Q59.9619 1110.68 59.9619 1104.98 Q59.9619 1102.43 59.2935 1099.95 Q58.5933 1097.44 57.2247 1094.95 L62.6355 1094.95 Q63.7814 1097.4 64.3543 1100.05 Q64.9272 1102.66 64.9272 1105.62 Q64.9272 1113.67 59.8664 1118.41 Q54.8057 1123.15 46.212 1123.15 Q37.491 1123.15 32.4939 1118.38 Q27.4968 1113.57 27.4968 1105.23 Q27.4968 1102.53 28.0697 1099.95 Q28.6108 1097.37 29.7248 1094.95 Z\" fill=\"#000000\" fill-rule=\"nonzero\" fill-opacity=\"1\" /><path clip-path=\"url(#clip270)\" d=\"M44.7161 1054.28 L47.5806 1054.28 L47.5806 1081.2 Q53.6281 1080.82 56.8109 1077.58 Q59.9619 1074.3 59.9619 1068.47 Q59.9619 1065.1 59.1344 1061.95 Q58.3069 1058.76 56.6518 1055.65 L62.1899 1055.65 Q63.5267 1058.8 64.227 1062.11 Q64.9272 1065.42 64.9272 1068.82 Q64.9272 1077.35 59.9619 1082.35 Q54.9967 1087.32 46.5303 1087.32 Q37.7774 1087.32 32.6531 1082.6 Q27.4968 1077.86 27.4968 1069.84 Q27.4968 1062.65 32.1438 1058.48 Q36.7589 1054.28 44.7161 1054.28 M42.9973 1060.13 Q38.1912 1060.2 35.3266 1062.84 Q32.4621 1065.45 32.4621 1069.78 Q32.4621 1074.68 35.2312 1077.64 Q38.0002 1080.57 43.0292 1081.01 L42.9973 1060.13 Z\" fill=\"#000000\" fill-rule=\"nonzero\" fill-opacity=\"1\" /><path clip-path=\"url(#clip270)\" d=\"M42.4881 1015.03 L64.0042 1015.03 L64.0042 1020.89 L42.679 1020.89 Q37.6183 1020.89 35.1038 1022.86 Q32.5894 1024.84 32.5894 1028.78 Q32.5894 1033.52 35.6131 1036.26 Q38.6368 1039 43.8567 1039 L64.0042 1039 L64.0042 1044.89 L28.3562 1044.89 L28.3562 1039 L33.8944 1039 Q30.6797 1036.9 29.0883 1034.07 Q27.4968 1031.2 27.4968 1027.48 Q27.4968 1021.33 31.3163 1018.18 Q35.1038 1015.03 42.4881 1015.03 Z\" fill=\"#000000\" fill-rule=\"nonzero\" fill-opacity=\"1\" /><path clip-path=\"url(#clip270)\" d=\"M18.2347 997.559 L28.3562 997.559 L28.3562 985.496 L32.9077 985.496 L32.9077 997.559 L52.2594 997.559 Q56.6199 997.559 57.8613 996.381 Q59.1026 995.172 59.1026 991.511 L59.1026 985.496 L64.0042 985.496 L64.0042 991.511 Q64.0042 998.291 61.4897 1000.87 Q58.9434 1003.45 52.2594 1003.45 L32.9077 1003.45 L32.9077 1007.74 L28.3562 1007.74 L28.3562 1003.45 L18.2347 1003.45 L18.2347 997.559 Z\" fill=\"#000000\" fill-rule=\"nonzero\" fill-opacity=\"1\" /><path clip-path=\"url(#clip270)\" d=\"M46.0847 961.592 Q46.0847 968.69 47.7079 971.427 Q49.3312 974.165 53.2461 974.165 Q56.3653 974.165 58.2114 972.128 Q60.0256 970.059 60.0256 966.526 Q60.0256 961.656 56.5881 958.728 Q53.1188 955.768 47.3897 955.768 L46.0847 955.768 L46.0847 961.592 M43.6657 949.911 L64.0042 949.911 L64.0042 955.768 L58.5933 955.768 Q61.8398 957.773 63.3994 960.765 Q64.9272 963.757 64.9272 968.085 Q64.9272 973.56 61.8716 976.806 Q58.7843 980.021 53.6281 980.021 Q47.6125 980.021 44.5569 976.011 Q41.5014 971.969 41.5014 963.98 L41.5014 955.768 L40.9285 955.768 Q36.8862 955.768 34.6901 958.441 Q32.4621 961.083 32.4621 965.889 Q32.4621 968.945 33.1941 971.841 Q33.9262 974.738 35.3903 977.411 L29.9795 977.411 Q28.7381 974.197 28.1334 971.173 Q27.4968 968.149 27.4968 965.285 Q27.4968 957.55 31.5072 953.731 Q35.5176 949.911 43.6657 949.911 Z\" fill=\"#000000\" fill-rule=\"nonzero\" fill-opacity=\"1\" /><path clip-path=\"url(#clip270)\" d=\"M45.7664 914.391 Q39.4007 914.391 35.8996 917.032 Q32.3984 919.642 32.3984 924.385 Q32.3984 929.095 35.8996 931.737 Q39.4007 934.347 45.7664 934.347 Q52.1003 934.347 55.6014 931.737 Q59.1026 929.095 59.1026 924.385 Q59.1026 919.642 55.6014 917.032 Q52.1003 914.391 45.7664 914.391 M59.58 908.534 Q68.683 908.534 73.1071 912.576 Q77.5631 916.619 77.5631 924.958 Q77.5631 928.045 77.0857 930.782 Q76.6401 933.52 75.6852 936.098 L69.9879 936.098 Q71.3884 933.52 72.0568 931.005 Q72.7252 928.491 72.7252 925.881 Q72.7252 920.12 69.7015 917.255 Q66.7096 914.391 60.6303 914.391 L57.7339 914.391 Q60.885 916.205 62.4446 919.038 Q64.0042 921.87 64.0042 925.817 Q64.0042 932.374 59.0071 936.384 Q54.01 940.395 45.7664 940.395 Q37.491 940.395 32.4939 936.384 Q27.4968 932.374 27.4968 925.817 Q27.4968 921.87 29.0564 919.038 Q30.616 916.205 33.7671 914.391 L28.3562 914.391 L28.3562 908.534 L59.58 908.534 Z\" fill=\"#000000\" fill-rule=\"nonzero\" fill-opacity=\"1\" /><path clip-path=\"url(#clip270)\" d=\"M44.7161 865.979 L47.5806 865.979 L47.5806 892.906 Q53.6281 892.524 56.8109 889.278 Q59.9619 886 59.9619 880.175 Q59.9619 876.801 59.1344 873.65 Q58.3069 870.467 56.6518 867.348 L62.1899 867.348 Q63.5267 870.499 64.227 873.809 Q64.9272 877.119 64.9272 880.525 Q64.9272 889.055 59.9619 894.052 Q54.9967 899.018 46.5303 899.018 Q37.7774 899.018 32.6531 894.307 Q27.4968 889.564 27.4968 881.544 Q27.4968 874.35 32.1438 870.181 Q36.7589 865.979 44.7161 865.979 M42.9973 871.836 Q38.1912 871.9 35.3266 874.541 Q32.4621 877.151 32.4621 881.48 Q32.4621 886.382 35.2312 889.342 Q38.0002 892.27 43.0292 892.715 L42.9973 871.836 Z\" fill=\"#000000\" fill-rule=\"nonzero\" fill-opacity=\"1\" /><path clip-path=\"url(#clip270)\" d=\"M29.7248 809.993 L35.1993 809.993 Q33.8307 812.476 33.1623 814.99 Q32.4621 817.473 32.4621 820.019 Q32.4621 825.716 36.0905 828.867 Q39.6872 832.018 46.212 832.018 Q52.7369 832.018 56.3653 828.867 Q59.9619 825.716 59.9619 820.019 Q59.9619 817.473 59.2935 814.99 Q58.5933 812.476 57.2247 809.993 L62.6355 809.993 Q63.7814 812.444 64.3543 815.086 Q64.9272 817.696 64.9272 820.656 Q64.9272 828.708 59.8664 833.451 Q54.8057 838.193 46.212 838.193 Q37.491 838.193 32.4939 833.419 Q27.4968 828.613 27.4968 820.274 Q27.4968 817.568 28.0697 814.99 Q28.6108 812.412 29.7248 809.993 Z\" fill=\"#000000\" fill-rule=\"nonzero\" fill-opacity=\"1\" /><path clip-path=\"url(#clip270)\" d=\"M42.4881 770.176 L64.0042 770.176 L64.0042 776.032 L42.679 776.032 Q37.6183 776.032 35.1038 778.005 Q32.5894 779.979 32.5894 783.926 Q32.5894 788.668 35.6131 791.405 Q38.6368 794.142 43.8567 794.142 L64.0042 794.142 L64.0042 800.031 L14.479 800.031 L14.479 794.142 L33.8944 794.142 Q30.6797 792.042 29.0883 789.209 Q27.4968 786.345 27.4968 782.621 Q27.4968 776.478 31.3163 773.327 Q35.1038 770.176 42.4881 770.176 Z\" fill=\"#000000\" fill-rule=\"nonzero\" fill-opacity=\"1\" /><path clip-path=\"url(#clip270)\" d=\"M46.0847 742.294 Q46.0847 749.392 47.7079 752.129 Q49.3312 754.866 53.2461 754.866 Q56.3653 754.866 58.2114 752.829 Q60.0256 750.76 60.0256 747.227 Q60.0256 742.357 56.5881 739.429 Q53.1188 736.469 47.3897 736.469 L46.0847 736.469 L46.0847 742.294 M43.6657 730.613 L64.0042 730.613 L64.0042 736.469 L58.5933 736.469 Q61.8398 738.474 63.3994 741.466 Q64.9272 744.458 64.9272 748.787 Q64.9272 754.261 61.8716 757.508 Q58.7843 760.723 53.6281 760.723 Q47.6125 760.723 44.5569 756.712 Q41.5014 752.67 41.5014 744.681 L41.5014 736.469 L40.9285 736.469 Q36.8862 736.469 34.6901 739.143 Q32.4621 741.785 32.4621 746.591 Q32.4621 749.646 33.1941 752.543 Q33.9262 755.439 35.3903 758.113 L29.9795 758.113 Q28.7381 754.898 28.1334 751.874 Q27.4968 748.85 27.4968 745.986 Q27.4968 738.252 31.5072 734.432 Q35.5176 730.613 43.6657 730.613 Z\" fill=\"#000000\" fill-rule=\"nonzero\" fill-opacity=\"1\" /><path clip-path=\"url(#clip270)\" d=\"M42.4881 688.917 L64.0042 688.917 L64.0042 694.774 L42.679 694.774 Q37.6183 694.774 35.1038 696.747 Q32.5894 698.721 32.5894 702.667 Q32.5894 707.41 35.6131 710.147 Q38.6368 712.884 43.8567 712.884 L64.0042 712.884 L64.0042 718.773 L28.3562 718.773 L28.3562 712.884 L33.8944 712.884 Q30.6797 710.784 29.0883 707.951 Q27.4968 705.086 27.4968 701.362 Q27.4968 695.219 31.3163 692.068 Q35.1038 688.917 42.4881 688.917 Z\" fill=\"#000000\" fill-rule=\"nonzero\" fill-opacity=\"1\" /><path clip-path=\"url(#clip270)\" d=\"M45.7664 653.779 Q39.4007 653.779 35.8996 656.42 Q32.3984 659.03 32.3984 663.773 Q32.3984 668.483 35.8996 671.125 Q39.4007 673.735 45.7664 673.735 Q52.1003 673.735 55.6014 671.125 Q59.1026 668.483 59.1026 663.773 Q59.1026 659.03 55.6014 656.42 Q52.1003 653.779 45.7664 653.779 M59.58 647.922 Q68.683 647.922 73.1071 651.964 Q77.5631 656.007 77.5631 664.346 Q77.5631 667.433 77.0857 670.17 Q76.6401 672.908 75.6852 675.486 L69.9879 675.486 Q71.3884 672.908 72.0568 670.393 Q72.7252 667.879 72.7252 665.269 Q72.7252 659.508 69.7015 656.643 Q66.7096 653.779 60.6303 653.779 L57.7339 653.779 Q60.885 655.593 62.4446 658.426 Q64.0042 661.258 64.0042 665.205 Q64.0042 671.762 59.0071 675.772 Q54.01 679.783 45.7664 679.783 Q37.491 679.783 32.4939 675.772 Q27.4968 671.762 27.4968 665.205 Q27.4968 661.258 29.0564 658.426 Q30.616 655.593 33.7671 653.779 L28.3562 653.779 L28.3562 647.922 L59.58 647.922 Z\" fill=\"#000000\" fill-rule=\"nonzero\" fill-opacity=\"1\" /><path clip-path=\"url(#clip270)\" d=\"M44.7161 605.367 L47.5806 605.367 L47.5806 632.294 Q53.6281 631.912 56.8109 628.666 Q59.9619 625.388 59.9619 619.563 Q59.9619 616.189 59.1344 613.038 Q58.3069 609.855 56.6518 606.736 L62.1899 606.736 Q63.5267 609.887 64.227 613.197 Q64.9272 616.507 64.9272 619.913 Q64.9272 628.443 59.9619 633.44 Q54.9967 638.405 46.5303 638.405 Q37.7774 638.405 32.6531 633.695 Q27.4968 628.952 27.4968 620.932 Q27.4968 613.738 32.1438 609.569 Q36.7589 605.367 44.7161 605.367 M42.9973 611.224 Q38.1912 611.288 35.3266 613.929 Q32.4621 616.539 32.4621 620.868 Q32.4621 625.77 35.2312 628.73 Q38.0002 631.658 43.0292 632.103 L42.9973 611.224 Z\" fill=\"#000000\" fill-rule=\"nonzero\" fill-opacity=\"1\" /><path clip-path=\"url(#clip270)\" d=\"M16.4842 581.369 L16.4842 541.169 L21.895 541.169 L21.895 558.038 L64.0042 558.038 L64.0042 564.5 L21.895 564.5 L21.895 581.369 L16.4842 581.369 Z\" fill=\"#000000\" fill-rule=\"nonzero\" fill-opacity=\"1\" /><path clip-path=\"url(#clip270)\" d=\"M43.5384 544.161 L43.5384 527.006 L48.7583 527.006 L48.7583 544.161 L43.5384 544.161 Z\" fill=\"#000000\" fill-rule=\"nonzero\" fill-opacity=\"1\" /><path clip-path=\"url(#clip270)\" d=\"M41.3104 513.319 L58.7206 513.319 L58.7206 503.007 Q58.7206 497.819 56.5881 495.336 Q54.4238 492.822 49.9996 492.822 Q45.5436 492.822 43.4429 495.336 Q41.3104 497.819 41.3104 503.007 L41.3104 513.319 M21.7677 513.319 L36.0905 513.319 L36.0905 503.803 Q36.0905 499.092 34.34 496.8 Q32.5576 494.477 28.9291 494.477 Q25.3325 494.477 23.5501 496.8 Q21.7677 499.092 21.7677 503.803 L21.7677 513.319 M16.4842 519.749 L16.4842 503.325 Q16.4842 495.973 19.5397 491.994 Q22.5952 488.016 28.2289 488.016 Q32.5894 488.016 35.1675 490.053 Q37.7456 492.09 38.3822 496.036 Q39.4007 491.294 42.6472 488.684 Q45.8619 486.042 50.6998 486.042 Q57.0655 486.042 60.5348 490.371 Q64.0042 494.7 64.0042 502.689 L64.0042 519.749 L16.4842 519.749 Z\" fill=\"#000000\" fill-rule=\"nonzero\" fill-opacity=\"1\" /><path clip-path=\"url(#clip270)\" d=\"M28.3562 475.284 L28.3562 469.428 L64.0042 469.428 L64.0042 475.284 L28.3562 475.284 M14.479 475.284 L14.479 469.428 L21.895 469.428 L21.895 475.284 L14.479 475.284 Z\" fill=\"#000000\" fill-rule=\"nonzero\" fill-opacity=\"1\" /><path clip-path=\"url(#clip270)\" d=\"M14.479 457.174 L14.479 451.317 L64.0042 451.317 L64.0042 457.174 L14.479 457.174 Z\" fill=\"#000000\" fill-rule=\"nonzero\" fill-opacity=\"1\" /><path clip-path=\"url(#clip270)\" d=\"M14.479 439.063 L14.479 433.207 L64.0042 433.207 L64.0042 439.063 L14.479 439.063 Z\" fill=\"#000000\" fill-rule=\"nonzero\" fill-opacity=\"1\" /><path clip-path=\"url(#clip270)\" d=\"M58.657 394.567 L77.5631 394.567 L77.5631 400.455 L28.3562 400.455 L28.3562 394.567 L33.7671 394.567 Q30.5842 392.721 29.0564 389.92 Q27.4968 387.087 27.4968 383.172 Q27.4968 376.679 32.6531 372.637 Q37.8093 368.563 46.212 368.563 Q54.6147 368.563 59.771 372.637 Q64.9272 376.679 64.9272 383.172 Q64.9272 387.087 63.3994 389.92 Q61.8398 392.721 58.657 394.567 M46.212 374.642 Q39.7508 374.642 36.0905 377.316 Q32.3984 379.958 32.3984 384.605 Q32.3984 389.252 36.0905 391.925 Q39.7508 394.567 46.212 394.567 Q52.6732 394.567 56.3653 391.925 Q60.0256 389.252 60.0256 384.605 Q60.0256 379.958 56.3653 377.316 Q52.6732 374.642 46.212 374.642 Z\" fill=\"#000000\" fill-rule=\"nonzero\" fill-opacity=\"1\" /><path clip-path=\"url(#clip270)\" d=\"M33.8307 338.199 Q33.2578 339.185 33.0032 340.363 Q32.7167 341.509 32.7167 342.909 Q32.7167 347.875 35.9632 350.548 Q39.1779 353.19 45.2253 353.19 L64.0042 353.19 L64.0042 359.078 L28.3562 359.078 L28.3562 353.19 L33.8944 353.19 Q30.6479 351.344 29.0883 348.384 Q27.4968 345.424 27.4968 341.191 Q27.4968 340.586 27.5923 339.854 Q27.656 339.122 27.8151 338.231 L33.8307 338.199 Z\" fill=\"#000000\" fill-rule=\"nonzero\" fill-opacity=\"1\" /><path clip-path=\"url(#clip270)\" d=\"M28.3562 332.056 L28.3562 326.199 L64.0042 326.199 L64.0042 332.056 L28.3562 332.056 M14.479 332.056 L14.479 326.199 L21.895 326.199 L21.895 332.056 L14.479 332.056 Z\" fill=\"#000000\" fill-rule=\"nonzero\" fill-opacity=\"1\" /><path clip-path=\"url(#clip270)\" d=\"M29.7248 288.292 L35.1993 288.292 Q33.8307 290.774 33.1623 293.289 Q32.4621 295.771 32.4621 298.318 Q32.4621 304.015 36.0905 307.166 Q39.6872 310.317 46.212 310.317 Q52.7369 310.317 56.3653 307.166 Q59.9619 304.015 59.9619 298.318 Q59.9619 295.771 59.2935 293.289 Q58.5933 290.774 57.2247 288.292 L62.6355 288.292 Q63.7814 290.742 64.3543 293.384 Q64.9272 295.994 64.9272 298.954 Q64.9272 307.007 59.8664 311.749 Q54.8057 316.492 46.212 316.492 Q37.491 316.492 32.4939 311.717 Q27.4968 306.911 27.4968 298.572 Q27.4968 295.867 28.0697 293.289 Q28.6108 290.711 29.7248 288.292 Z\" fill=\"#000000\" fill-rule=\"nonzero\" fill-opacity=\"1\" /><path clip-path=\"url(#clip270)\" d=\"M44.7161 247.615 L47.5806 247.615 L47.5806 274.542 Q53.6281 274.16 56.8109 270.913 Q59.9619 267.635 59.9619 261.81 Q59.9619 258.436 59.1344 255.285 Q58.3069 252.103 56.6518 248.983 L62.1899 248.983 Q63.5267 252.134 64.227 255.445 Q64.9272 258.755 64.9272 262.16 Q64.9272 270.69 59.9619 275.688 Q54.9967 280.653 46.5303 280.653 Q37.7774 280.653 32.6531 275.942 Q27.4968 271.2 27.4968 263.179 Q27.4968 255.986 32.1438 251.816 Q36.7589 247.615 44.7161 247.615 M42.9973 253.471 Q38.1912 253.535 35.3266 256.177 Q32.4621 258.787 32.4621 263.115 Q32.4621 268.017 35.2312 270.977 Q38.0002 273.905 43.0292 274.351 L42.9973 253.471 Z\" fill=\"#000000\" fill-rule=\"nonzero\" fill-opacity=\"1\" /><polyline clip-path=\"url(#clip272)\" style=\"stroke:#000000; stroke-linecap:round; stroke-linejoin:round; stroke-width:12; stroke-opacity:1; fill:none\" points=\"316.984,86.1857 646.397,304.047 975.81,521.297 1305.22,737.939 1634.64,953.975 1964.05,1169.41 2293.46,1384.24 \"/>\n",
       "<path clip-path=\"url(#clip270)\" d=\"M1643.39 196.789 L2282.92 196.789 L2282.92 93.1086 L1643.39 93.1086  Z\" fill=\"#f2f2f2\" fill-rule=\"evenodd\" fill-opacity=\"1\"/>\n",
       "<polyline clip-path=\"url(#clip270)\" style=\"stroke:#000000; stroke-linecap:round; stroke-linejoin:round; stroke-width:4; stroke-opacity:0; fill:none\" points=\"1643.39,196.789 2282.92,196.789 2282.92,93.1086 1643.39,93.1086 1643.39,196.789 \"/>\n",
       "<polyline clip-path=\"url(#clip270)\" style=\"stroke:#000000; stroke-linecap:round; stroke-linejoin:round; stroke-width:12; stroke-opacity:1; fill:none\" points=\"1666.67,144.949 1806.34,144.949 \"/>\n",
       "<path clip-path=\"url(#clip270)\" d=\"M1829.62 127.669 L1858.86 127.669 L1858.86 131.604 L1846.59 131.604 L1846.59 162.229 L1841.89 162.229 L1841.89 131.604 L1829.62 131.604 L1829.62 127.669 Z\" fill=\"#000000\" fill-rule=\"nonzero\" fill-opacity=\"1\" /><path clip-path=\"url(#clip270)\" d=\"M1856.68 147.344 L1869.16 147.344 L1869.16 151.141 L1856.68 151.141 L1856.68 147.344 Z\" fill=\"#000000\" fill-rule=\"nonzero\" fill-opacity=\"1\" /><path clip-path=\"url(#clip270)\" d=\"M1894.55 149.289 Q1894.55 144.59 1892.61 141.928 Q1890.69 139.243 1887.31 139.243 Q1883.93 139.243 1881.98 141.928 Q1880.06 144.59 1880.06 149.289 Q1880.06 153.988 1881.98 156.673 Q1883.93 159.335 1887.31 159.335 Q1890.69 159.335 1892.61 156.673 Q1894.55 153.988 1894.55 149.289 M1880.06 140.238 Q1881.4 137.923 1883.44 136.812 Q1885.5 135.678 1888.35 135.678 Q1893.07 135.678 1896.01 139.428 Q1898.97 143.178 1898.97 149.289 Q1898.97 155.4 1896.01 159.15 Q1893.07 162.9 1888.35 162.9 Q1885.5 162.9 1883.44 161.789 Q1881.4 160.655 1880.06 158.34 L1880.06 162.229 L1875.78 162.229 L1875.78 126.21 L1880.06 126.21 L1880.06 140.238 Z\" fill=\"#000000\" fill-rule=\"nonzero\" fill-opacity=\"1\" /><path clip-path=\"url(#clip270)\" d=\"M1906.03 136.303 L1910.29 136.303 L1910.29 162.229 L1906.03 162.229 L1906.03 136.303 M1906.03 126.21 L1910.29 126.21 L1910.29 131.604 L1906.03 131.604 L1906.03 126.21 Z\" fill=\"#000000\" fill-rule=\"nonzero\" fill-opacity=\"1\" /><path clip-path=\"url(#clip270)\" d=\"M1919.2 126.21 L1923.46 126.21 L1923.46 162.229 L1919.2 162.229 L1919.2 126.21 Z\" fill=\"#000000\" fill-rule=\"nonzero\" fill-opacity=\"1\" /><path clip-path=\"url(#clip270)\" d=\"M1932.38 126.21 L1936.63 126.21 L1936.63 162.229 L1932.38 162.229 L1932.38 126.21 Z\" fill=\"#000000\" fill-rule=\"nonzero\" fill-opacity=\"1\" /><path clip-path=\"url(#clip270)\" d=\"M1973.79 149.798 Q1973.79 153.108 1975.43 155.006 Q1977.07 156.881 1979.94 156.881 Q1982.79 156.881 1984.41 154.983 Q1986.06 153.085 1986.06 149.798 Q1986.06 146.557 1984.39 144.659 Q1982.72 142.738 1979.9 142.738 Q1977.1 142.738 1975.43 144.636 Q1973.79 146.534 1973.79 149.798 M1986.4 156.719 Q1985.01 158.502 1983.21 159.358 Q1981.43 160.192 1979.04 160.192 Q1975.06 160.192 1972.56 157.321 Q1970.08 154.428 1970.08 149.798 Q1970.08 145.169 1972.58 142.275 Q1975.08 139.382 1979.04 139.382 Q1981.43 139.382 1983.23 140.261 Q1985.04 141.118 1986.4 142.877 L1986.4 139.844 L1989.71 139.844 L1989.71 156.881 Q1993.09 156.372 1994.99 153.803 Q1996.91 151.21 1996.91 147.113 Q1996.91 144.636 1996.17 142.46 Q1995.45 140.284 1993.97 138.432 Q1991.56 135.4 1988.09 133.803 Q1984.64 132.182 1980.57 132.182 Q1977.72 132.182 1975.11 132.946 Q1972.49 133.687 1970.27 135.169 Q1966.63 137.53 1964.57 141.372 Q1962.54 145.192 1962.54 149.659 Q1962.54 153.34 1963.86 156.557 Q1965.2 159.775 1967.72 162.229 Q1970.15 164.636 1973.35 165.886 Q1976.54 167.159 1980.18 167.159 Q1983.16 167.159 1986.03 166.141 Q1988.93 165.145 1991.33 163.27 L1993.42 165.84 Q1990.52 168.085 1987.1 169.266 Q1983.69 170.469 1980.18 170.469 Q1975.89 170.469 1972.1 168.942 Q1968.3 167.437 1965.34 164.543 Q1962.37 161.65 1960.82 157.854 Q1959.27 154.034 1959.27 149.659 Q1959.27 145.446 1960.85 141.627 Q1962.42 137.807 1965.34 134.914 Q1968.32 131.974 1972.24 130.423 Q1976.15 128.849 1980.52 128.849 Q1985.43 128.849 1989.62 130.863 Q1993.83 132.877 1996.68 136.581 Q1998.42 138.849 1999.32 141.511 Q2000.25 144.173 2000.25 147.02 Q2000.25 153.108 1996.56 156.627 Q1992.88 160.145 1986.4 160.284 L1986.4 156.719 Z\" fill=\"#000000\" fill-rule=\"nonzero\" fill-opacity=\"1\" /><path clip-path=\"url(#clip270)\" d=\"M2008.02 136.303 L2012.28 136.303 L2012.28 162.229 L2008.02 162.229 L2008.02 136.303 M2008.02 126.21 L2012.28 126.21 L2012.28 131.604 L2008.02 131.604 L2008.02 126.21 Z\" fill=\"#000000\" fill-rule=\"nonzero\" fill-opacity=\"1\" /><path clip-path=\"url(#clip270)\" d=\"M2042.74 146.581 L2042.74 162.229 L2038.49 162.229 L2038.49 146.719 Q2038.49 143.039 2037.05 141.21 Q2035.62 139.382 2032.74 139.382 Q2029.3 139.382 2027.31 141.581 Q2025.31 143.78 2025.31 147.576 L2025.31 162.229 L2021.03 162.229 L2021.03 136.303 L2025.31 136.303 L2025.31 140.331 Q2026.84 137.993 2028.9 136.835 Q2030.99 135.678 2033.69 135.678 Q2038.16 135.678 2040.45 138.456 Q2042.74 141.21 2042.74 146.581 Z\" fill=\"#000000\" fill-rule=\"nonzero\" fill-opacity=\"1\" /><path clip-path=\"url(#clip270)\" d=\"M2068.3 140.238 L2068.3 126.21 L2072.56 126.21 L2072.56 162.229 L2068.3 162.229 L2068.3 158.34 Q2066.96 160.655 2064.9 161.789 Q2062.86 162.9 2059.99 162.9 Q2055.29 162.9 2052.33 159.15 Q2049.39 155.4 2049.39 149.289 Q2049.39 143.178 2052.33 139.428 Q2055.29 135.678 2059.99 135.678 Q2062.86 135.678 2064.9 136.812 Q2066.96 137.923 2068.3 140.238 M2053.79 149.289 Q2053.79 153.988 2055.71 156.673 Q2057.65 159.335 2061.03 159.335 Q2064.41 159.335 2066.36 156.673 Q2068.3 153.988 2068.3 149.289 Q2068.3 144.59 2066.36 141.928 Q2064.41 139.243 2061.03 139.243 Q2057.65 139.243 2055.71 141.928 Q2053.79 144.59 2053.79 149.289 Z\" fill=\"#000000\" fill-rule=\"nonzero\" fill-opacity=\"1\" /><path clip-path=\"url(#clip270)\" d=\"M2103.51 148.201 L2103.51 150.284 L2083.93 150.284 Q2084.2 154.682 2086.56 156.997 Q2088.95 159.289 2093.18 159.289 Q2095.64 159.289 2097.93 158.687 Q2100.24 158.085 2102.51 156.881 L2102.51 160.909 Q2100.22 161.881 2097.81 162.391 Q2095.41 162.9 2092.93 162.9 Q2086.73 162.9 2083.09 159.289 Q2079.48 155.678 2079.48 149.52 Q2079.48 143.155 2082.91 139.428 Q2086.36 135.678 2092.19 135.678 Q2097.42 135.678 2100.45 139.057 Q2103.51 142.414 2103.51 148.201 M2099.25 146.951 Q2099.2 143.456 2097.28 141.372 Q2095.38 139.289 2092.24 139.289 Q2088.67 139.289 2086.52 141.303 Q2084.39 143.317 2084.06 146.974 L2099.25 146.951 Z\" fill=\"#000000\" fill-rule=\"nonzero\" fill-opacity=\"1\" /><path clip-path=\"url(#clip270)\" d=\"M2131.22 136.303 L2121.84 148.919 L2131.7 162.229 L2126.68 162.229 L2119.13 152.043 L2111.59 162.229 L2106.56 162.229 L2116.63 148.664 L2107.42 136.303 L2112.44 136.303 L2119.32 145.539 L2126.19 136.303 L2131.22 136.303 Z\" fill=\"#000000\" fill-rule=\"nonzero\" fill-opacity=\"1\" /><path clip-path=\"url(#clip270)\" d=\"M2153.35 140.701 L2183.02 140.701 L2183.02 144.59 L2153.35 144.59 L2153.35 140.701 M2153.35 150.145 L2183.02 150.145 L2183.02 154.081 L2153.35 154.081 L2153.35 150.145 Z\" fill=\"#000000\" fill-rule=\"nonzero\" fill-opacity=\"1\" /><path clip-path=\"url(#clip270)\" d=\"M2218.18 145.817 Q2214.85 145.817 2212.93 147.599 Q2211.03 149.381 2211.03 152.506 Q2211.03 155.631 2212.93 157.414 Q2214.85 159.196 2218.18 159.196 Q2221.52 159.196 2223.44 157.414 Q2225.36 155.608 2225.36 152.506 Q2225.36 149.381 2223.44 147.599 Q2221.54 145.817 2218.18 145.817 M2213.51 143.826 Q2210.5 143.085 2208.81 141.025 Q2207.14 138.965 2207.14 136.002 Q2207.14 131.858 2210.08 129.451 Q2213.04 127.044 2218.18 127.044 Q2223.35 127.044 2226.29 129.451 Q2229.23 131.858 2229.23 136.002 Q2229.23 138.965 2227.54 141.025 Q2225.87 143.085 2222.88 143.826 Q2226.26 144.613 2228.14 146.905 Q2230.04 149.196 2230.04 152.506 Q2230.04 157.53 2226.96 160.215 Q2223.9 162.9 2218.18 162.9 Q2212.47 162.9 2209.39 160.215 Q2206.33 157.53 2206.33 152.506 Q2206.33 149.196 2208.23 146.905 Q2210.13 144.613 2213.51 143.826 M2211.79 136.442 Q2211.79 139.127 2213.46 140.632 Q2215.15 142.136 2218.18 142.136 Q2221.19 142.136 2222.88 140.632 Q2224.6 139.127 2224.6 136.442 Q2224.6 133.757 2222.88 132.252 Q2221.19 130.747 2218.18 130.747 Q2215.15 130.747 2213.46 132.252 Q2211.79 133.757 2211.79 136.442 Z\" fill=\"#000000\" fill-rule=\"nonzero\" fill-opacity=\"1\" /><path clip-path=\"url(#clip270)\" d=\"M2252.51 143.594 Q2255.87 144.312 2257.74 146.581 Q2259.64 148.849 2259.64 152.182 Q2259.64 157.298 2256.12 160.099 Q2252.6 162.9 2246.12 162.9 Q2243.95 162.9 2241.63 162.46 Q2239.34 162.043 2236.89 161.187 L2236.89 156.673 Q2238.83 157.807 2241.15 158.386 Q2243.46 158.965 2245.98 158.965 Q2250.38 158.965 2252.67 157.229 Q2254.99 155.493 2254.99 152.182 Q2254.99 149.127 2252.84 147.414 Q2250.71 145.678 2246.89 145.678 L2242.86 145.678 L2242.86 141.835 L2247.07 141.835 Q2250.52 141.835 2252.35 140.469 Q2254.18 139.081 2254.18 136.488 Q2254.18 133.826 2252.28 132.414 Q2250.41 130.979 2246.89 130.979 Q2244.97 130.979 2242.77 131.395 Q2240.57 131.812 2237.93 132.692 L2237.93 128.525 Q2240.59 127.784 2242.91 127.414 Q2245.24 127.044 2247.3 127.044 Q2252.63 127.044 2255.73 129.474 Q2258.83 131.882 2258.83 136.002 Q2258.83 138.872 2257.19 140.863 Q2255.54 142.831 2252.51 143.594 Z\" fill=\"#000000\" fill-rule=\"nonzero\" fill-opacity=\"1\" /></svg>\n"
      ],
      "text/html": [
       "<img src=\"data:image/png;base64,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\" />"
      ]
     },
     "execution_count": 181,
     "metadata": {},
     "output_type": "execute_result"
    }
   ],
   "source": [
    "let\n",
    "    q = plot(bg=\"gray95\", background_color_outside=\"white\", framestyle = :box, fg_legend = :transparent);\n",
    "    plot(q, theorem_1_simulation_array[:,1], theorem_1_simulation_array[:,2], lw=3, c=:black, xlabel=\"β\", \n",
    "            ylabel=\"Percentage change T-Bill price\", label=\"T-bill @index = $(random_bill_index)\")\n",
    "end"
   ]
  },
  {
   "cell_type": "markdown",
   "id": "a89432a1-b757-44a6-82a5-b89bd6f64e4f",
   "metadata": {},
   "source": [
    "### Discussion: Is the slope of the interest rate versus the price line negative?\n",
    "If the relationship between the price and the yield is inversely proportional, then the slope of price versus $\\bar{r}$ should be negative; let's check this condition by computing the slope from the simulation array, store this in the `slope` variable.\n",
    "\n",
    "> __Idea:__ Use the [@assert macro](https://docs.julialang.org/en/v1/base/base/#Base.@assert) to test if the slope is negative: if $\\text{slope}>0$, i.e., `Theorem 1` is not supported, this test will throw an [AssertionError](https://docs.julialang.org/en/v1/base/base/#Core.AssertionError), otherwise the `Theorem 1` is supported by simulation\n",
    "\n",
    "What do we see?"
   ]
  },
  {
   "cell_type": "code",
   "execution_count": 183,
   "id": "86c2ae02-cfe7-4361-a5a1-4d1eddc73601",
   "metadata": {},
   "outputs": [],
   "source": [
    "slope = (theorem_1_simulation_array[end,4] - theorem_1_simulation_array[1,4])/(theorem_1_simulation_array[end,3] - theorem_1_simulation_array[1,3]);\n",
    "@assert (slope < 0.0)  # Verify Theorem 1: negative slope confirms inverse price-yield relationship"
   ]
  },
  {
   "cell_type": "markdown",
   "id": "4ed3998c",
   "metadata": {},
   "source": [
    "___"
   ]
  },
  {
   "cell_type": "markdown",
   "id": "cd8da194-93e8-4af7-9f02-b02aacd98980",
   "metadata": {},
   "source": [
    "## Disclaimer and Risks\n",
    "__This content is offered solely for training and informational purposes__. No offer or solicitation to buy or sell securities or derivative products or any investment or trading advice or strategy is made, given, or endorsed by the teaching team. \n",
    "\n",
    "__Trading involves risk__. Carefully review your financial situation before investing in securities, futures contracts, options, or commodity interests. Past performance, whether actual or indicated by historical tests of strategies, is no guarantee of future performance or success. Trading is generally inappropriate for someone with limited resources, investment or trading experience, or a low-risk tolerance.  Only risk capital that is not required for living expenses.\n",
    "\n",
    "__You are fully responsible for any investment or trading decisions you make__. Such decisions should be based solely on evaluating your financial circumstances, investment or trading objectives, risk tolerance, and liquidity needs.\n",
    "\n",
    "___"
   ]
  }
 ],
 "metadata": {
  "kernelspec": {
   "display_name": "Julia 1.11.6",
   "language": "julia",
   "name": "julia-1.11"
  },
  "language_info": {
   "file_extension": ".jl",
   "mimetype": "application/julia",
   "name": "julia",
   "version": "1.11.6"
  }
 },
 "nbformat": 4,
 "nbformat_minor": 5
}
