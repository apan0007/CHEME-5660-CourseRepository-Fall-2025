{
 "cells": [
  {
   "cell_type": "markdown",
   "id": "e33f878e-907d-49bc-8645-e43b49f389b1",
   "metadata": {},
   "source": [
    "# Example: Registered Interest and Principal of Securities (STRIPS) Bonds\n",
    "This example will familiarize students with the ideas behind [Registered Interest and Principal of Securities (STRIPS)](https://www.treasurydirect.gov/marketable-securities/strips/) bonds from the perspective of the issuer.\n",
    "\n",
    "STRIPS bonds are a type of zero-coupon bond created by separating the interest and principal payments of a standard Treasury bond into individual securities. This allows investors to purchase either the interest payments or the principal payment separately, providing flexibility in investment strategies. However, from the issuer's perspective, how do we price them?\n",
    "\n",
    "> __Scenario:__ You work for a large investment bank that has recently purchased a coupon note or bond from a U.S. Treasury auction. You want to take this security and generate a set of STRIPS. However, how do you price these securities for sale to investors? What sort of strategy do you use to set the discount rates for the individual securities?\n",
    "\n",
    "__Learning Objectives:__ In this example, you will explore three scenarios for pricing STRIPS securities: constant yield, constant discount, and an upward sloping yield curve. You will select a random coupon bond, generate the STRIPS securities, and price them using the three different strategies. You will then compare the results of the three strategies.\n",
    "\n",
    "Let's go!\n",
    "___"
   ]
  },
  {
   "cell_type": "markdown",
   "id": "f6d1aa99-5f81-4dc9-85f3-70d5e8757eec",
   "metadata": {},
   "source": [
    "## Setup, Data, and Prerequisites\n",
    "We set up the computational environment by including the `Include.jl` file, loading any needed resources such as sample datasets, and setting up any required constants. \n",
    "\n",
    "> __Include:__ The [include(...) function](https://docs.julialang.org/en/v1/base/base/#include) is a convenient way to load Julia code from another file. The `Include.jl` file is a Julia file that loads external packages and various functions that we will use in the exercise. It checks for a `Manifest.toml` file; if it finds one, packages are loaded. Otherwise, packages are downloaded and then loaded.\n",
    "\n",
    "Set up the environment:"
   ]
  },
  {
   "cell_type": "code",
   "execution_count": 3,
   "id": "9f4ad480-7365-490c-bd5e-e33ce80c5568",
   "metadata": {},
   "outputs": [],
   "source": [
    "include(joinpath(@__DIR__, \"Include.jl\")); # this sets up the environment, we'll do this all the time, on everything we do"
   ]
  },
  {
   "cell_type": "markdown",
   "id": "5dc968b2",
   "metadata": {},
   "source": [
    "For additional information on functions and types used in this material, see the [Julia programming language documentation](https://docs.julialang.org/en/v1/) and the [VLQuantitativeFinancePackage.jl documentation](https://github.com/varnerlab/VLQuantitativeFinancePackage.jl). "
   ]
  },
  {
   "cell_type": "markdown",
   "id": "f86fbf88-caf5-4550-a561-b9e53c97467f",
   "metadata": {},
   "source": [
    "### Data\n",
    "We'll explore `T-note` and `T-bond` prices from United States Treasury auctions between October 2022 and August 2023 downloaded as a `CSV` file using the [Auction query functionality of TreasuryDirect.gov](https://www.treasurydirect.gov/auctions/auction-query/). \n",
    "\n",
    "> __Dataset:__ We load the `CSV` dataset using [the local `MyTreasuryNotesAndBondsDataSet()` function](src/Files.jl), which returns the auction data as a `DataFrame`. We store the auction data in the `dataset::DataFrame` variable.\n",
    "\n",
    "So what do we have?"
   ]
  },
  {
   "cell_type": "code",
   "execution_count": 6,
   "id": "16af494a-90a8-4870-adb5-3916caecf60a",
   "metadata": {},
   "outputs": [
    {
     "data": {
      "text/html": [
       "<div><div style = \"float: left;\"><span>59×9 DataFrame</span></div><div style = \"float: right; font-style: italic;\"><span>34 rows omitted</span></div><div style = \"clear: both;\"></div></div><div class = \"data-frame\" style = \"overflow-x: scroll;\"><table class = \"data-frame\" style = \"margin-bottom: 6px;\"><thead><tr class = \"columnLabelRow\"><th class = \"stubheadLabel\" style = \"font-weight: bold; text-align: right;\">Row</th><th style = \"text-align: left;\">CUSIP</th><th style = \"text-align: left;\">Security Type</th><th style = \"text-align: left;\">Security Term</th><th style = \"text-align: left;\">Auction Date</th><th style = \"text-align: left;\">Issue Date</th><th style = \"text-align: left;\">Maturity Date</th><th style = \"text-align: left;\">Price</th><th style = \"text-align: left;\">High Yield</th><th style = \"text-align: left;\">Interest Rate</th></tr><tr class = \"columnLabelRow\"><th class = \"stubheadLabel\" style = \"font-weight: bold; text-align: right;\"></th><th title = \"String15\" style = \"text-align: left;\">String15</th><th title = \"String7\" style = \"text-align: left;\">String7</th><th title = \"String7\" style = \"text-align: left;\">String7</th><th title = \"String15\" style = \"text-align: left;\">String15</th><th title = \"String15\" style = \"text-align: left;\">String15</th><th title = \"String15\" style = \"text-align: left;\">String15</th><th title = \"Float64\" style = \"text-align: left;\">Float64</th><th title = \"Float64\" style = \"text-align: left;\">Float64</th><th title = \"Float64\" style = \"text-align: left;\">Float64</th></tr></thead><tbody><tr class = \"dataRow\"><td class = \"rowLabel\" style = \"font-weight: bold; text-align: right;\">1</td><td style = \"text-align: left;\">91282CHW4</td><td style = \"text-align: left;\">Note</td><td style = \"text-align: left;\">7-Year</td><td style = \"text-align: left;\">08/29/2023</td><td style = \"text-align: left;\">08/31/2023</td><td style = \"text-align: left;\">08/31/2030</td><td style = \"text-align: right;\">99.4773</td><td style = \"text-align: right;\">0.04212</td><td style = \"text-align: right;\">0.04125</td></tr><tr class = \"dataRow\"><td class = \"rowLabel\" style = \"font-weight: bold; text-align: right;\">2</td><td style = \"text-align: left;\">91282CHV6</td><td style = \"text-align: left;\">Note</td><td style = \"text-align: left;\">2-Year</td><td style = \"text-align: left;\">08/28/2023</td><td style = \"text-align: left;\">08/31/2023</td><td style = \"text-align: left;\">08/31/2025</td><td style = \"text-align: right;\">99.9549</td><td style = \"text-align: right;\">0.05024</td><td style = \"text-align: right;\">0.05</td></tr><tr class = \"dataRow\"><td class = \"rowLabel\" style = \"font-weight: bold; text-align: right;\">3</td><td style = \"text-align: left;\">91282CHX2</td><td style = \"text-align: left;\">Note</td><td style = \"text-align: left;\">5-Year</td><td style = \"text-align: left;\">08/28/2023</td><td style = \"text-align: left;\">08/31/2023</td><td style = \"text-align: left;\">08/31/2028</td><td style = \"text-align: right;\">99.8889</td><td style = \"text-align: right;\">0.044</td><td style = \"text-align: right;\">0.04375</td></tr><tr class = \"dataRow\"><td class = \"rowLabel\" style = \"font-weight: bold; text-align: right;\">4</td><td style = \"text-align: left;\">912810TU2</td><td style = \"text-align: left;\">Bond</td><td style = \"text-align: left;\">20-Year</td><td style = \"text-align: left;\">08/23/2023</td><td style = \"text-align: left;\">08/31/2023</td><td style = \"text-align: left;\">08/15/2043</td><td style = \"text-align: right;\">98.3742</td><td style = \"text-align: right;\">0.04499</td><td style = \"text-align: right;\">0.04375</td></tr><tr class = \"dataRow\"><td class = \"rowLabel\" style = \"font-weight: bold; text-align: right;\">5</td><td style = \"text-align: left;\">912810TT5</td><td style = \"text-align: left;\">Bond</td><td style = \"text-align: left;\">30-Year</td><td style = \"text-align: left;\">08/10/2023</td><td style = \"text-align: left;\">08/15/2023</td><td style = \"text-align: left;\">08/15/2053</td><td style = \"text-align: right;\">98.9127</td><td style = \"text-align: right;\">0.04189</td><td style = \"text-align: right;\">0.04125</td></tr><tr class = \"dataRow\"><td class = \"rowLabel\" style = \"font-weight: bold; text-align: right;\">6</td><td style = \"text-align: left;\">91282CHT1</td><td style = \"text-align: left;\">Note</td><td style = \"text-align: left;\">10-Year</td><td style = \"text-align: left;\">08/09/2023</td><td style = \"text-align: left;\">08/15/2023</td><td style = \"text-align: left;\">08/15/2033</td><td style = \"text-align: right;\">98.9862</td><td style = \"text-align: right;\">0.03999</td><td style = \"text-align: right;\">0.03875</td></tr><tr class = \"dataRow\"><td class = \"rowLabel\" style = \"font-weight: bold; text-align: right;\">7</td><td style = \"text-align: left;\">91282CHU8</td><td style = \"text-align: left;\">Note</td><td style = \"text-align: left;\">3-Year</td><td style = \"text-align: left;\">08/08/2023</td><td style = \"text-align: left;\">08/15/2023</td><td style = \"text-align: left;\">08/15/2026</td><td style = \"text-align: right;\">99.936</td><td style = \"text-align: right;\">0.04398</td><td style = \"text-align: right;\">0.04375</td></tr><tr class = \"dataRow\"><td class = \"rowLabel\" style = \"font-weight: bold; text-align: right;\">8</td><td style = \"text-align: left;\">91282CHR5</td><td style = \"text-align: left;\">Note</td><td style = \"text-align: left;\">7-Year</td><td style = \"text-align: left;\">07/27/2023</td><td style = \"text-align: left;\">07/31/2023</td><td style = \"text-align: left;\">07/31/2030</td><td style = \"text-align: right;\">99.475</td><td style = \"text-align: right;\">0.04087</td><td style = \"text-align: right;\">0.04</td></tr><tr class = \"dataRow\"><td class = \"rowLabel\" style = \"font-weight: bold; text-align: right;\">9</td><td style = \"text-align: left;\">91282CHQ7</td><td style = \"text-align: left;\">Note</td><td style = \"text-align: left;\">5-Year</td><td style = \"text-align: left;\">07/25/2023</td><td style = \"text-align: left;\">07/31/2023</td><td style = \"text-align: left;\">07/31/2028</td><td style = \"text-align: right;\">99.7988</td><td style = \"text-align: right;\">0.0417</td><td style = \"text-align: right;\">0.04125</td></tr><tr class = \"dataRow\"><td class = \"rowLabel\" style = \"font-weight: bold; text-align: right;\">10</td><td style = \"text-align: left;\">91282CHN4</td><td style = \"text-align: left;\">Note</td><td style = \"text-align: left;\">2-Year</td><td style = \"text-align: left;\">07/24/2023</td><td style = \"text-align: left;\">07/31/2023</td><td style = \"text-align: left;\">07/31/2025</td><td style = \"text-align: right;\">99.8624</td><td style = \"text-align: right;\">0.04823</td><td style = \"text-align: right;\">0.0475</td></tr><tr class = \"dataRow\"><td class = \"rowLabel\" style = \"font-weight: bold; text-align: right;\">11</td><td style = \"text-align: left;\">91282CHP9</td><td style = \"text-align: left;\">Note</td><td style = \"text-align: left;\">10-Year</td><td style = \"text-align: left;\">07/20/2023</td><td style = \"text-align: left;\">07/31/2023</td><td style = \"text-align: left;\">07/15/2033</td><td style = \"text-align: right;\">99.0219</td><td style = \"text-align: right;\">0.01495</td><td style = \"text-align: right;\">0.01375</td></tr><tr class = \"dataRow\"><td class = \"rowLabel\" style = \"font-weight: bold; text-align: right;\">12</td><td style = \"text-align: left;\">91282CHM6</td><td style = \"text-align: left;\">Note</td><td style = \"text-align: left;\">3-Year</td><td style = \"text-align: left;\">07/11/2023</td><td style = \"text-align: left;\">07/17/2023</td><td style = \"text-align: left;\">07/15/2026</td><td style = \"text-align: right;\">99.9052</td><td style = \"text-align: right;\">0.04534</td><td style = \"text-align: right;\">0.045</td></tr><tr class = \"dataRow\"><td class = \"rowLabel\" style = \"font-weight: bold; text-align: right;\">13</td><td style = \"text-align: left;\">91282CHJ3</td><td style = \"text-align: left;\">Note</td><td style = \"text-align: left;\">7-Year</td><td style = \"text-align: left;\">06/28/2023</td><td style = \"text-align: left;\">06/30/2023</td><td style = \"text-align: left;\">06/30/2030</td><td style = \"text-align: right;\">99.4582</td><td style = \"text-align: right;\">0.03839</td><td style = \"text-align: right;\">0.0375</td></tr><tr><td style = \"text-align: right;\">&vellip;</td><td style = \"text-align: left;\">&vellip;</td><td style = \"text-align: left;\">&vellip;</td><td style = \"text-align: left;\">&vellip;</td><td style = \"text-align: left;\">&vellip;</td><td style = \"text-align: left;\">&vellip;</td><td style = \"text-align: left;\">&vellip;</td><td style = \"text-align: right;\">&vellip;</td><td style = \"text-align: right;\">&vellip;</td><td style = \"text-align: right;\">&vellip;</td></tr><tr class = \"dataRow\"><td class = \"rowLabel\" style = \"font-weight: bold; text-align: right;\">48</td><td style = \"text-align: left;\">91282CFY2</td><td style = \"text-align: left;\">Note</td><td style = \"text-align: left;\">7-Year</td><td style = \"text-align: left;\">11/22/2022</td><td style = \"text-align: left;\">11/30/2022</td><td style = \"text-align: left;\">11/30/2029</td><td style = \"text-align: right;\">99.9089</td><td style = \"text-align: right;\">0.0389</td><td style = \"text-align: right;\">0.03875</td></tr><tr class = \"dataRow\"><td class = \"rowLabel\" style = \"font-weight: bold; text-align: right;\">49</td><td style = \"text-align: left;\">91282CFX4</td><td style = \"text-align: left;\">Note</td><td style = \"text-align: left;\">2-Year</td><td style = \"text-align: left;\">11/21/2022</td><td style = \"text-align: left;\">11/30/2022</td><td style = \"text-align: left;\">11/30/2024</td><td style = \"text-align: right;\">99.9905</td><td style = \"text-align: right;\">0.04505</td><td style = \"text-align: right;\">0.045</td></tr><tr class = \"dataRow\"><td class = \"rowLabel\" style = \"font-weight: bold; text-align: right;\">50</td><td style = \"text-align: left;\">91282CFZ9</td><td style = \"text-align: left;\">Note</td><td style = \"text-align: left;\">5-Year</td><td style = \"text-align: left;\">11/21/2022</td><td style = \"text-align: left;\">11/30/2022</td><td style = \"text-align: left;\">11/30/2027</td><td style = \"text-align: right;\">99.5551</td><td style = \"text-align: right;\">0.03974</td><td style = \"text-align: right;\">0.03875</td></tr><tr class = \"dataRow\"><td class = \"rowLabel\" style = \"font-weight: bold; text-align: right;\">51</td><td style = \"text-align: left;\">912810TM0</td><td style = \"text-align: left;\">Bond</td><td style = \"text-align: left;\">20-Year</td><td style = \"text-align: left;\">11/16/2022</td><td style = \"text-align: left;\">11/30/2022</td><td style = \"text-align: left;\">11/15/2042</td><td style = \"text-align: right;\">99.0197</td><td style = \"text-align: right;\">0.04072</td><td style = \"text-align: right;\">0.04</td></tr><tr class = \"dataRow\"><td class = \"rowLabel\" style = \"font-weight: bold; text-align: right;\">52</td><td style = \"text-align: left;\">912810TL2</td><td style = \"text-align: left;\">Bond</td><td style = \"text-align: left;\">30-Year</td><td style = \"text-align: left;\">11/10/2022</td><td style = \"text-align: left;\">11/15/2022</td><td style = \"text-align: left;\">11/15/2052</td><td style = \"text-align: right;\">98.6229</td><td style = \"text-align: right;\">0.0408</td><td style = \"text-align: right;\">0.04</td></tr><tr class = \"dataRow\"><td class = \"rowLabel\" style = \"font-weight: bold; text-align: right;\">53</td><td style = \"text-align: left;\">91282CFV8</td><td style = \"text-align: left;\">Note</td><td style = \"text-align: left;\">10-Year</td><td style = \"text-align: left;\">11/09/2022</td><td style = \"text-align: left;\">11/15/2022</td><td style = \"text-align: left;\">11/15/2032</td><td style = \"text-align: right;\">99.8782</td><td style = \"text-align: right;\">0.0414</td><td style = \"text-align: right;\">0.04125</td></tr><tr class = \"dataRow\"><td class = \"rowLabel\" style = \"font-weight: bold; text-align: right;\">54</td><td style = \"text-align: left;\">91282CFW6</td><td style = \"text-align: left;\">Note</td><td style = \"text-align: left;\">3-Year</td><td style = \"text-align: left;\">11/08/2022</td><td style = \"text-align: left;\">11/15/2022</td><td style = \"text-align: left;\">11/15/2025</td><td style = \"text-align: right;\">99.7089</td><td style = \"text-align: right;\">0.04605</td><td style = \"text-align: right;\">0.045</td></tr><tr class = \"dataRow\"><td class = \"rowLabel\" style = \"font-weight: bold; text-align: right;\">55</td><td style = \"text-align: left;\">91282CFT3</td><td style = \"text-align: left;\">Note</td><td style = \"text-align: left;\">7-Year</td><td style = \"text-align: left;\">10/27/2022</td><td style = \"text-align: left;\">10/31/2022</td><td style = \"text-align: left;\">10/31/2029</td><td style = \"text-align: right;\">99.8367</td><td style = \"text-align: right;\">0.04027</td><td style = \"text-align: right;\">0.04</td></tr><tr class = \"dataRow\"><td class = \"rowLabel\" style = \"font-weight: bold; text-align: right;\">56</td><td style = \"text-align: left;\">91282CFU0</td><td style = \"text-align: left;\">Note</td><td style = \"text-align: left;\">5-Year</td><td style = \"text-align: left;\">10/26/2022</td><td style = \"text-align: left;\">10/31/2022</td><td style = \"text-align: left;\">10/31/2027</td><td style = \"text-align: right;\">99.7006</td><td style = \"text-align: right;\">0.04192</td><td style = \"text-align: right;\">0.04125</td></tr><tr class = \"dataRow\"><td class = \"rowLabel\" style = \"font-weight: bold; text-align: right;\">57</td><td style = \"text-align: left;\">91282CFQ9</td><td style = \"text-align: left;\">Note</td><td style = \"text-align: left;\">2-Year</td><td style = \"text-align: left;\">10/25/2022</td><td style = \"text-align: left;\">10/31/2022</td><td style = \"text-align: left;\">10/31/2024</td><td style = \"text-align: right;\">99.8391</td><td style = \"text-align: right;\">0.0446</td><td style = \"text-align: right;\">0.04375</td></tr><tr class = \"dataRow\"><td class = \"rowLabel\" style = \"font-weight: bold; text-align: right;\">58</td><td style = \"text-align: left;\">91282CFR7</td><td style = \"text-align: left;\">Note</td><td style = \"text-align: left;\">5-Year</td><td style = \"text-align: left;\">10/20/2022</td><td style = \"text-align: left;\">10/31/2022</td><td style = \"text-align: left;\">10/15/2027</td><td style = \"text-align: right;\">99.4754</td><td style = \"text-align: right;\">0.01732</td><td style = \"text-align: right;\">0.01625</td></tr><tr class = \"dataRow\"><td class = \"rowLabel\" style = \"font-weight: bold; text-align: right;\">59</td><td style = \"text-align: left;\">91282CFP1</td><td style = \"text-align: left;\">Note</td><td style = \"text-align: left;\">3-Year</td><td style = \"text-align: left;\">10/11/2022</td><td style = \"text-align: left;\">10/17/2022</td><td style = \"text-align: left;\">10/15/2025</td><td style = \"text-align: right;\">99.8104</td><td style = \"text-align: right;\">0.04318</td><td style = \"text-align: right;\">0.0425</td></tr></tbody></table></div>"
      ],
      "text/latex": [
       "\\begin{tabular}{r|ccccccc}\n",
       "\t& CUSIP & Security Type & Security Term & Auction Date & Issue Date & Maturity Date & \\\\\n",
       "\t\\hline\n",
       "\t& String15 & String7 & String7 & String15 & String15 & String15 & \\\\\n",
       "\t\\hline\n",
       "\t1 & 91282CHW4 & Note & 7-Year & 08/29/2023 & 08/31/2023 & 08/31/2030 & $\\dots$ \\\\\n",
       "\t2 & 91282CHV6 & Note & 2-Year & 08/28/2023 & 08/31/2023 & 08/31/2025 & $\\dots$ \\\\\n",
       "\t3 & 91282CHX2 & Note & 5-Year & 08/28/2023 & 08/31/2023 & 08/31/2028 & $\\dots$ \\\\\n",
       "\t4 & 912810TU2 & Bond & 20-Year & 08/23/2023 & 08/31/2023 & 08/15/2043 & $\\dots$ \\\\\n",
       "\t5 & 912810TT5 & Bond & 30-Year & 08/10/2023 & 08/15/2023 & 08/15/2053 & $\\dots$ \\\\\n",
       "\t6 & 91282CHT1 & Note & 10-Year & 08/09/2023 & 08/15/2023 & 08/15/2033 & $\\dots$ \\\\\n",
       "\t7 & 91282CHU8 & Note & 3-Year & 08/08/2023 & 08/15/2023 & 08/15/2026 & $\\dots$ \\\\\n",
       "\t8 & 91282CHR5 & Note & 7-Year & 07/27/2023 & 07/31/2023 & 07/31/2030 & $\\dots$ \\\\\n",
       "\t9 & 91282CHQ7 & Note & 5-Year & 07/25/2023 & 07/31/2023 & 07/31/2028 & $\\dots$ \\\\\n",
       "\t10 & 91282CHN4 & Note & 2-Year & 07/24/2023 & 07/31/2023 & 07/31/2025 & $\\dots$ \\\\\n",
       "\t11 & 91282CHP9 & Note & 10-Year & 07/20/2023 & 07/31/2023 & 07/15/2033 & $\\dots$ \\\\\n",
       "\t12 & 91282CHM6 & Note & 3-Year & 07/11/2023 & 07/17/2023 & 07/15/2026 & $\\dots$ \\\\\n",
       "\t13 & 91282CHJ3 & Note & 7-Year & 06/28/2023 & 06/30/2023 & 06/30/2030 & $\\dots$ \\\\\n",
       "\t14 & 91282CHK0 & Note & 5-Year & 06/27/2023 & 06/30/2023 & 06/30/2028 & $\\dots$ \\\\\n",
       "\t15 & 91282CHL8 & Note & 2-Year & 06/26/2023 & 06/30/2023 & 06/30/2025 & $\\dots$ \\\\\n",
       "\t16 & 91282CHH7 & Note & 3-Year & 06/12/2023 & 06/15/2023 & 06/15/2026 & $\\dots$ \\\\\n",
       "\t17 & 91282CHF1 & Note & 7-Year & 05/25/2023 & 05/31/2023 & 05/31/2030 & $\\dots$ \\\\\n",
       "\t18 & 91282CHE4 & Note & 5-Year & 05/24/2023 & 05/31/2023 & 05/31/2028 & $\\dots$ \\\\\n",
       "\t19 & 91282CHD6 & Note & 2-Year & 05/23/2023 & 05/31/2023 & 05/31/2025 & $\\dots$ \\\\\n",
       "\t20 & 912810TS7 & Bond & 20-Year & 05/17/2023 & 05/31/2023 & 05/15/2043 & $\\dots$ \\\\\n",
       "\t21 & 912810TR9 & Bond & 30-Year & 05/11/2023 & 05/15/2023 & 05/15/2053 & $\\dots$ \\\\\n",
       "\t22 & 91282CHC8 & Note & 10-Year & 05/10/2023 & 05/15/2023 & 05/15/2033 & $\\dots$ \\\\\n",
       "\t23 & 91282CHB0 & Note & 3-Year & 05/09/2023 & 05/15/2023 & 05/15/2026 & $\\dots$ \\\\\n",
       "\t24 & 91282CGZ8 & Note & 7-Year & 04/27/2023 & 05/01/2023 & 04/30/2030 & $\\dots$ \\\\\n",
       "\t25 & 91282CHA2 & Note & 5-Year & 04/26/2023 & 05/01/2023 & 04/30/2028 & $\\dots$ \\\\\n",
       "\t26 & 91282CGX3 & Note & 2-Year & 04/25/2023 & 05/01/2023 & 04/30/2025 & $\\dots$ \\\\\n",
       "\t27 & 91282CGV7 & Note & 3-Year & 04/11/2023 & 04/17/2023 & 04/15/2026 & $\\dots$ \\\\\n",
       "\t28 & 91282CGS4 & Note & 7-Year & 03/29/2023 & 03/31/2023 & 03/31/2030 & $\\dots$ \\\\\n",
       "\t29 & 91282CGT2 & Note & 5-Year & 03/28/2023 & 03/31/2023 & 03/31/2028 & $\\dots$ \\\\\n",
       "\t30 & 91282CGU9 & Note & 2-Year & 03/27/2023 & 03/31/2023 & 03/31/2025 & $\\dots$ \\\\\n",
       "\t$\\dots$ & $\\dots$ & $\\dots$ & $\\dots$ & $\\dots$ & $\\dots$ & $\\dots$ &  \\\\\n",
       "\\end{tabular}\n"
      ],
      "text/plain": [
       "\u001b[1m59×9 DataFrame\u001b[0m\n",
       "\u001b[1m Row \u001b[0m│\u001b[1m CUSIP     \u001b[0m\u001b[1m Security Type \u001b[0m\u001b[1m Security Term \u001b[0m\u001b[1m Auction Date \u001b[0m\u001b[1m Issue Date \u001b[0m\u001b[1m Matu\u001b[0m ⋯\n",
       "\u001b[1m     \u001b[0m│\u001b[90m String15  \u001b[0m\u001b[90m String7       \u001b[0m\u001b[90m String7       \u001b[0m\u001b[90m String15     \u001b[0m\u001b[90m String15   \u001b[0m\u001b[90m Stri\u001b[0m ⋯\n",
       "─────┼──────────────────────────────────────────────────────────────────────────\n",
       "   1 │ 91282CHW4  Note           7-Year         08/29/2023    08/31/2023  08/3 ⋯\n",
       "   2 │ 91282CHV6  Note           2-Year         08/28/2023    08/31/2023  08/3\n",
       "   3 │ 91282CHX2  Note           5-Year         08/28/2023    08/31/2023  08/3\n",
       "   4 │ 912810TU2  Bond           20-Year        08/23/2023    08/31/2023  08/1\n",
       "   5 │ 912810TT5  Bond           30-Year        08/10/2023    08/15/2023  08/1 ⋯\n",
       "   6 │ 91282CHT1  Note           10-Year        08/09/2023    08/15/2023  08/1\n",
       "   7 │ 91282CHU8  Note           3-Year         08/08/2023    08/15/2023  08/1\n",
       "   8 │ 91282CHR5  Note           7-Year         07/27/2023    07/31/2023  07/3\n",
       "   9 │ 91282CHQ7  Note           5-Year         07/25/2023    07/31/2023  07/3 ⋯\n",
       "  10 │ 91282CHN4  Note           2-Year         07/24/2023    07/31/2023  07/3\n",
       "  11 │ 91282CHP9  Note           10-Year        07/20/2023    07/31/2023  07/1\n",
       "  ⋮  │     ⋮            ⋮              ⋮             ⋮            ⋮            ⋱\n",
       "  50 │ 91282CFZ9  Note           5-Year         11/21/2022    11/30/2022  11/3\n",
       "  51 │ 912810TM0  Bond           20-Year        11/16/2022    11/30/2022  11/1 ⋯\n",
       "  52 │ 912810TL2  Bond           30-Year        11/10/2022    11/15/2022  11/1\n",
       "  53 │ 91282CFV8  Note           10-Year        11/09/2022    11/15/2022  11/1\n",
       "  54 │ 91282CFW6  Note           3-Year         11/08/2022    11/15/2022  11/1\n",
       "  55 │ 91282CFT3  Note           7-Year         10/27/2022    10/31/2022  10/3 ⋯\n",
       "  56 │ 91282CFU0  Note           5-Year         10/26/2022    10/31/2022  10/3\n",
       "  57 │ 91282CFQ9  Note           2-Year         10/25/2022    10/31/2022  10/3\n",
       "  58 │ 91282CFR7  Note           5-Year         10/20/2022    10/31/2022  10/1\n",
       "  59 │ 91282CFP1  Note           3-Year         10/11/2022    10/17/2022  10/1 ⋯\n",
       "\u001b[36m                                                   4 columns and 38 rows omitted\u001b[0m"
      ]
     },
     "execution_count": 6,
     "metadata": {},
     "output_type": "execute_result"
    }
   ],
   "source": [
    "dataset = MyTreasuryNotesAndBondsDataSet()"
   ]
  },
  {
   "cell_type": "markdown",
   "id": "e3a27300",
   "metadata": {},
   "source": [
    "___"
   ]
  },
  {
   "cell_type": "markdown",
   "id": "9e9f61c5-94f2-44c4-8c45-3d97eb4551b7",
   "metadata": {},
   "source": [
    "## Task 1: Select a random note or bond from which we create separate marketable products\n",
    "In this task, we'll select a random note or bond, compute its price, compare it to the auction price (to check our price codes), and then strip the selected note or bond.\n",
    "\n",
    "First, let's determine how many notes and bonds we have in the `dataset::DataFrame` using the [nrow function](https://dataframes.juliadata.org/stable/lib/functions/#DataAPI.nrow) that is exported by the [DataFrames.jl package](https://github.com/JuliaData/DataFrames.jl). Then, we'll compute a random index using the [built-in Julia rand function](https://docs.julialang.org/en/v1/stdlib/Random/). We store the data for the random note or bond in the `random_note_or_bond::DataFrameRow` variable:"
   ]
  },
  {
   "cell_type": "code",
   "execution_count": 9,
   "id": "3a8a73d9-8905-4289-b11d-d5c16007ae81",
   "metadata": {},
   "outputs": [
    {
     "data": {
      "text/html": [
       "<div><div style = \"float: left;\"><span>DataFrameRow (9 columns)</span></div><div style = \"clear: both;\"></div></div><div class = \"data-frame\" style = \"overflow-x: scroll;\"><table class = \"data-frame\" style = \"margin-bottom: 6px;\"><thead><tr class = \"columnLabelRow\"><th class = \"stubheadLabel\" style = \"font-weight: bold; text-align: right;\">Row</th><th style = \"text-align: left;\">CUSIP</th><th style = \"text-align: left;\">Security Type</th><th style = \"text-align: left;\">Security Term</th><th style = \"text-align: left;\">Auction Date</th><th style = \"text-align: left;\">Issue Date</th><th style = \"text-align: left;\">Maturity Date</th><th style = \"text-align: left;\">Price</th><th style = \"text-align: left;\">High Yield</th><th style = \"text-align: left;\">Interest Rate</th></tr><tr class = \"columnLabelRow\"><th class = \"stubheadLabel\" style = \"font-weight: bold; text-align: right;\"></th><th title = \"String15\" style = \"text-align: left;\">String15</th><th title = \"String7\" style = \"text-align: left;\">String7</th><th title = \"String7\" style = \"text-align: left;\">String7</th><th title = \"String15\" style = \"text-align: left;\">String15</th><th title = \"String15\" style = \"text-align: left;\">String15</th><th title = \"String15\" style = \"text-align: left;\">String15</th><th title = \"Float64\" style = \"text-align: left;\">Float64</th><th title = \"Float64\" style = \"text-align: left;\">Float64</th><th title = \"Float64\" style = \"text-align: left;\">Float64</th></tr></thead><tbody><tr class = \"dataRow\"><td class = \"rowLabel\" style = \"font-weight: bold; text-align: right;\">56</td><td style = \"text-align: left;\">91282CFU0</td><td style = \"text-align: left;\">Note</td><td style = \"text-align: left;\">5-Year</td><td style = \"text-align: left;\">10/26/2022</td><td style = \"text-align: left;\">10/31/2022</td><td style = \"text-align: left;\">10/31/2027</td><td style = \"text-align: right;\">99.7006</td><td style = \"text-align: right;\">0.04192</td><td style = \"text-align: right;\">0.04125</td></tr></tbody></table></div>"
      ],
      "text/latex": [
       "\\begin{tabular}{r|ccccccc}\n",
       "\t& CUSIP & Security Type & Security Term & Auction Date & Issue Date & Maturity Date & \\\\\n",
       "\t\\hline\n",
       "\t& String15 & String7 & String7 & String15 & String15 & String15 & \\\\\n",
       "\t\\hline\n",
       "\t56 & 91282CFU0 & Note & 5-Year & 10/26/2022 & 10/31/2022 & 10/31/2027 & $\\dots$ \\\\\n",
       "\\end{tabular}\n"
      ],
      "text/plain": [
       "\u001b[1mDataFrameRow\u001b[0m\n",
       "\u001b[1m Row \u001b[0m│\u001b[1m CUSIP     \u001b[0m\u001b[1m Security Type \u001b[0m\u001b[1m Security Term \u001b[0m\u001b[1m Auction Date \u001b[0m\u001b[1m Issue Date \u001b[0m\u001b[1m Matu\u001b[0m ⋯\n",
       "\u001b[1m     \u001b[0m│\u001b[90m String15  \u001b[0m\u001b[90m String7       \u001b[0m\u001b[90m String7       \u001b[0m\u001b[90m String15     \u001b[0m\u001b[90m String15   \u001b[0m\u001b[90m Stri\u001b[0m ⋯\n",
       "─────┼──────────────────────────────────────────────────────────────────────────\n",
       "  56 │ 91282CFU0  Note           5-Year         10/26/2022    10/31/2022  10/3 ⋯\n",
       "\u001b[36m                                                               4 columns omitted\u001b[0m"
      ]
     },
     "execution_count": 9,
     "metadata": {},
     "output_type": "execute_result"
    }
   ],
   "source": [
    "random_note_or_bond_data = let\n",
    "    \n",
    "    # initialize -\n",
    "    number_of_notes_and_bonds = nrow(dataset); # how many notes and bonds do we have?\n",
    "    i = rand(1:number_of_notes_and_bonds); # pick a random index\n",
    "    random_note_or_bond = dataset[i,:];\n",
    "    random_note_or_bond # return\n",
    "end\n"
   ]
  },
  {
   "cell_type": "markdown",
   "id": "e7cb85a0-1d76-4356-b89b-ac9d96801429",
   "metadata": {},
   "source": [
    "Get the parameters from the `random_note_or_bond::DataFrameRow` variable to test our price calculation.\n",
    "\n",
    "> __Data we need:__ We set the face (par) value `Vₚ,` the duration `T` (which we convert to the number of years using [the `securityterm(...)` function](src/Utility.jl)), the yield field, i.e., the $\\bar{r}$ value in the discount rate, the coupon rate $\\bar{c}$ and the number of coupon payments per year `λ`.\n",
    "\n",
    "Let's gather that data and store it in the `random_note_or_bond_parameters::NamedTuple` variable."
   ]
  },
  {
   "cell_type": "code",
   "execution_count": 11,
   "id": "e25f30d4-d38a-49b5-919b-8b48172d7cda",
   "metadata": {},
   "outputs": [
    {
     "data": {
      "text/plain": [
       "(Vₚ = 100.0, T = 5.0, r̄ = 0.04192, c̄ = 0.04125, λ = 2)"
      ]
     },
     "execution_count": 11,
     "metadata": {},
     "output_type": "execute_result"
    }
   ],
   "source": [
    "random_note_or_bond_parameters = let\n",
    "    \n",
    "    Vₚ = 100.0; # face value of the note or bond\n",
    "    T = random_note_or_bond_data[Symbol(\"Security Term\")] |> String |> securityterm; # term as a Float64\n",
    "    r̄ = random_note_or_bond_data[Symbol(\"High Yield\")]; # Effective discount rate\n",
    "    c̄ = random_note_or_bond_data[Symbol(\"Interest Rate\")]; # Interest rate (coupon rate)\n",
    "    λ = 2; # number of coupon payments per year\n",
    "\n",
    "    # package -\n",
    "    data = (Vₚ=Vₚ, T=T, r̄=r̄, c̄=c̄, λ=λ) # this is a NamedTuple - a cool data structure!\n",
    "\n",
    "    data; # return\n",
    "end"
   ]
  },
  {
   "cell_type": "markdown",
   "id": "91546138-2b3e-491d-a0b7-3d3d4aab56ec",
   "metadata": {},
   "source": [
    "Next, we instantiate a discrete compounding model and store this model in the `discrete_compounding` variable, then compute the price of the random note or bond using [the `VLQuantitativeFinancePackage.jl` bond pricing functionality](https://varnerlab.github.io/VLQuantitativeFinancePackage.jl/dev/fixed/). We store the populated bond in the `nominal_bond_model::MyUSTreasuryCouponSecurityModel` variable:"
   ]
  },
  {
   "cell_type": "code",
   "execution_count": 13,
   "id": "77013e90-a7aa-42ea-b085-a3af73e43724",
   "metadata": {},
   "outputs": [
    {
     "data": {
      "text/plain": [
       "MyUSTreasuryCouponSecurityModel(100.0, 0.04192, 0.04125, 5.0, 2, 99.7005892617614, Dict(5 => 1.859303645595036, 8 => 1.7471256469614984, 1 => 2.0201574988246356, 0 => -99.7005892617614, 6 => 1.8211327041167487, 9 => 1.711257685865752, 3 => 1.9380624866708487, 7 => 1.7837454005218114, 4 => 1.8982746500067083, 2 => 1.9786842763914698…), Dict(5 => 1.1092862668700543, 8 => 1.180510402092135, 1 => 1.02096, 0 => 1.0, 6 => 1.1325369070236508, 9 => 1.2052539001199862, 3 => 1.0642071729807363, 7 => 1.1562748805948666, 4 => 1.0865129553264126, 2 => 1.0423593216000002…))"
      ]
     },
     "execution_count": 13,
     "metadata": {},
     "output_type": "execute_result"
    }
   ],
   "source": [
    "nominal_bond_model = let\n",
    "\n",
    "    # Build a discrete compounding model -\n",
    "    discrete_compounding = DiscreteCompoundingModel();\n",
    "\n",
    "    # unpack parameters -\n",
    "    Vₚ = random_note_or_bond_parameters.Vₚ; # face value of the note or bond\n",
    "    T = random_note_or_bond_parameters.T; # term as a Float64\n",
    "    r̄ = random_note_or_bond_parameters.r̄; # Effective discount rate\n",
    "    c̄ = random_note_or_bond_parameters.c̄; # Interest rate (coupon rate)\n",
    "    λ = random_note_or_bond_parameters.λ; # number of coupon payments per year\n",
    "\n",
    "    # Build a T-year model and compute the price using the short-hand syntax\n",
    "    model = build(MyUSTreasuryCouponSecurityModel, (\n",
    "            par = Vₚ, T = T, rate = r̄, coupon = c̄, λ = λ\n",
    "    )) |> discrete_compounding;\n",
    "\n",
    "    model; # return\n",
    "end"
   ]
  },
  {
   "cell_type": "markdown",
   "id": "61c596d6-3c11-493b-89c9-750b5898c1ef",
   "metadata": {},
   "source": [
    "#### Check \n",
    "Are the calculated and observed auction prices similar?\n",
    "\n",
    "> __Test:__ Let's use the [isapprox function](https://docs.julialang.org/en/v1/base/math/#Base.isapprox) combined with the [@assert macro](https://docs.julialang.org/en/v1/base/base/#Base.@assert) to check the similarity of the computed and observed note (or bond) price. If the price values are different beyond an absolute tolerance of `atol = 1e-3`, a `false` result is generated, and an [AssertionError](https://docs.julialang.org/en/v1/base/base/#Core.AssertionError) is thrown. Otherwise, a `true` result is generated, and the code continues to execute.\n",
    "\n",
    "So what happens?"
   ]
  },
  {
   "cell_type": "code",
   "execution_count": 15,
   "id": "8638bf15-59cd-4045-b7f9-68129bb8fb9c",
   "metadata": {},
   "outputs": [],
   "source": [
    "let\n",
    "    observed_bond_price = random_note_or_bond_data[:Price];\n",
    "    @assert isapprox(observed_bond_price, nominal_bond_model.price; atol = 1e-2) # we used absolute tolerance here\n",
    "end"
   ]
  },
  {
   "cell_type": "markdown",
   "id": "a3bab57e-8f7a-4928-aec0-476fe0199192",
   "metadata": {},
   "source": [
    "### Strip the note or bond to create a collection of zero-coupon payments\n",
    "We generate a dictionary of zero-coupon bond models for a `MyUSTreasuryCouponSecurityModel` using [the `strip(...)` function](https://varnerlab.github.io/VLQuantitativeFinancePackage.jl/dev/fixed/#VLQuantitativeFinancePackage.strip) exported by the [`VLQuantitativeFinancePackage.jl package`](https://github.com/varnerlab/VLQuantitativeFinancePackage.jl). \n",
    "\n",
    "The resulting `strips::MyUSTreasuryZeroCouponBondModel` dictionary stores the generated bonds in order of duration, with their indexes serving as keys and the corresponding `MyUSTreasuryZeroCouponBondModel` instances as values in the dictionary."
   ]
  },
  {
   "cell_type": "code",
   "execution_count": 17,
   "id": "bfe746be-61e5-47f5-ae8d-6e9b86cdd3e2",
   "metadata": {},
   "outputs": [
    {
     "data": {
      "text/plain": [
       "Dict{Int64, MyUSTreasuryZeroCouponBondModel} with 11 entries:\n",
       "  5  => MyUSTreasuryZeroCouponBondModel(2.0625, nothing, 2.5, nothing, 2, nothi…\n",
       "  8  => MyUSTreasuryZeroCouponBondModel(2.0625, nothing, 4.0, nothing, 2, nothi…\n",
       "  1  => MyUSTreasuryZeroCouponBondModel(2.0625, nothing, 0.5, nothing, 2, nothi…\n",
       "  6  => MyUSTreasuryZeroCouponBondModel(2.0625, nothing, 3.0, nothing, 2, nothi…\n",
       "  11 => MyUSTreasuryZeroCouponBondModel(100.0, nothing, 5.0, nothing, 2, nothin…\n",
       "  9  => MyUSTreasuryZeroCouponBondModel(2.0625, nothing, 4.5, nothing, 2, nothi…\n",
       "  3  => MyUSTreasuryZeroCouponBondModel(2.0625, nothing, 1.5, nothing, 2, nothi…\n",
       "  7  => MyUSTreasuryZeroCouponBondModel(2.0625, nothing, 3.5, nothing, 2, nothi…\n",
       "  4  => MyUSTreasuryZeroCouponBondModel(2.0625, nothing, 2.0, nothing, 2, nothi…\n",
       "  2  => MyUSTreasuryZeroCouponBondModel(2.0625, nothing, 1.0, nothing, 2, nothi…\n",
       "  10 => MyUSTreasuryZeroCouponBondModel(2.0625, nothing, 5.0, nothing, 2, nothi…"
      ]
     },
     "execution_count": 17,
     "metadata": {},
     "output_type": "execute_result"
    }
   ],
   "source": [
    "strips = VLQuantitativeFinancePackage.strip(nominal_bond_model) # notice these are NOT priced yet!"
   ]
  },
  {
   "cell_type": "markdown",
   "id": "6cc54955-57b2-40b9-ac4f-b85573ef5378",
   "metadata": {},
   "source": [
    "#### Check\n",
    "Do we have the correct number of stripped products? For a parent note or bond of duration `T` years, there should be $\\lambda\\;{T}+1$ STRIPS, where $\\lambda$ is the number of coupon payments per year. Let's verify that [the `strip(...)` function](https://varnerlab.github.io/VLQuantitativeFinancePackage.jl/dev/fixed/#VLQuantitativeFinancePackage.strip) produced the correct number of products. \n",
    "\n",
    "> __Test:__ Use the [@assert macro](https://docs.julialang.org/en/v1/base/base/#Base.@assert) to check the number of STRIPS. If the incorrect number of products is in the strips dictionary, a `false` result is generated, and an [AssertionError](https://docs.julialang.org/en/v1/base/base/#Core.AssertionError) is thrown. Otherwise, `true` is generated and the code runs without error.\n",
    "\n",
    "So, what do we get?"
   ]
  },
  {
   "cell_type": "code",
   "execution_count": 19,
   "id": "5f7358c4-3ef3-44fb-be25-32349c4bbf3b",
   "metadata": {},
   "outputs": [],
   "source": [
    "let\n",
    "\n",
    "    # unpack parameters -\n",
    "    T = random_note_or_bond_parameters.T; # term as a Float64\n",
    "    λ = random_note_or_bond_parameters.λ; # number of coupon payments per year\n",
    "\n",
    "    number_of_strips = λ*T+1 |> Int # correct number of STRIPs\n",
    "    @assert length(strips) == number_of_strips # soooo, I'm waiting!!!\n",
    "end"
   ]
  },
  {
   "cell_type": "markdown",
   "id": "8ff328e3-8c5a-40d3-afd4-06057e23402a",
   "metadata": {},
   "source": [
    "## Task 2: Pricing the STRIPS products for secondary auction\n",
    "STRIPS are sold at a discount compared to their face value. However, it's important to note that the secondary seller, i.e., the brokerage or investment bank splitting the original note or bond, determines the (initial) discount in the secondary treasury market. To better understand this, let's explore three hypothetical pricing schemes that a brokerage might employ:\n",
    "\n",
    "> __Scheme 1 constant yield__: In this approach, the brokerage prices the zero-coupon instruments to have a constant yield $\\bar{r}$. This can be achieved by setting the price as an escalating fraction of the par value $V_{B} = \\left(\\alpha\\right)^{T}\\cdot{V}_{P}$, where $\\alpha\\leq{1}$ and $T$ represents the time to maturity of the generated zero coupon bond.\n",
    "\n",
    "> __Scheme 2 constant discount__: The brokerage prices the zero-coupon instruments to have a constant discount, i.e., the ratio of price to face value is constant across all instruments. In this case, $V_{B} = \\left(\\alpha\\right)\\cdot{V}_{P}$ is not a function of the time to maturity of the instrument, and $\\alpha\\leq{1}$.\n",
    "\n",
    "> __Scheme 3:__ In this scheme, we allow the yield to vary with the maturity of the bond. Suppose the yield at which we are willing to sell the bond is given by:\n",
    "> $$\n",
    "\\bar{Y}_{i} = \\theta_{1}+\\theta_{2}\\cdot\\left(i-1\\right)^{\\beta}\n",
    "> $$\n",
    "> where $i$ denotes the STRIPS index, $\\theta_{1}$ denotes the interest rate for the shortest term bond, $\\theta_{2}$ governs how fast the rate escalates for each pass of the loop, i.e., for each bond of longer maturity that we sell, and $\\beta$ is a sensitivity parameter. Because $\\theta_{1}>{0}$, $\\theta_{2}\\geq{0}$, and $\\beta>0$, this scheme will give a _normal_ yield curve $\\bar{Y}_{i}\\leq\\bar{Y}_{i+1}$, i.e., longer-term maturities will have higher yields compared to shorter-term bonds.\n",
    "\n",
    "Let's start with Scheme 1."
   ]
  },
  {
   "cell_type": "markdown",
   "id": "846b59a0-7e6f-4e84-bdc4-8ef1148c7f5a",
   "metadata": {},
   "source": [
    "### Scheme 1: Constant yield STRIPS  \n",
    "To start, let's specify a value for the escalation parameter $\\alpha\\leq{1}$:"
   ]
  },
  {
   "cell_type": "code",
   "execution_count": 22,
   "id": "c15afadb-e344-4cea-9b84-077ee7861c04",
   "metadata": {},
   "outputs": [],
   "source": [
    "α = 0.97; # must be less than 1"
   ]
  },
  {
   "cell_type": "markdown",
   "id": "5f190fb3-7e33-4e81-9fbe-a79528402141",
   "metadata": {},
   "source": [
    "Next, for each zero in the `strips` dictionary, let's specify (or compute) the missing price and rate values. To compute the price value, we compute the discount `d` (which depends upon our choice of scheme and $\\alpha$) which gives us the price. From the price we can compute the yield to maturity, i.e., the `rate` using [the yieldtomaturity(...) function](src/Compute.jl) that we developed in class.\n"
   ]
  },
  {
   "cell_type": "code",
   "execution_count": 24,
   "id": "1e2aaec0-c71c-4e09-b72f-8c2e082b1a43",
   "metadata": {},
   "outputs": [
    {
     "data": {
      "text/plain": [
       "Dict{Int64, MyUSTreasuryZeroCouponBondModel} with 11 entries:\n",
       "  5  => MyUSTreasuryZeroCouponBondModel(2.0625, 0.0304592, 2.5, 1.91128, 2, not…\n",
       "  8  => MyUSTreasuryZeroCouponBondModel(2.0625, 0.0304592, 4.0, 1.82592, 2, not…\n",
       "  1  => MyUSTreasuryZeroCouponBondModel(2.0625, 0.0304592, 0.5, 2.03133, 2, not…\n",
       "  6  => MyUSTreasuryZeroCouponBondModel(2.0625, 0.0304592, 3.0, 1.88239, 2, not…\n",
       "  11 => MyUSTreasuryZeroCouponBondModel(100.0, 0.0304592, 5.0, 85.8734, 2, noth…\n",
       "  9  => MyUSTreasuryZeroCouponBondModel(2.0625, 0.0304592, 4.5, 1.79832, 2, not…\n",
       "  3  => MyUSTreasuryZeroCouponBondModel(2.0625, 0.0304592, 1.5, 1.97039, 2, not…\n",
       "  7  => MyUSTreasuryZeroCouponBondModel(2.0625, 0.0304592, 3.5, 1.85394, 2, not…\n",
       "  4  => MyUSTreasuryZeroCouponBondModel(2.0625, 0.0304592, 2.0, 1.94061, 2, not…\n",
       "  2  => MyUSTreasuryZeroCouponBondModel(2.0625, 0.0304592, 1.0, 2.00062, 2, not…\n",
       "  10 => MyUSTreasuryZeroCouponBondModel(2.0625, 0.0304592, 5.0, 1.77114, 2, not…"
      ]
     },
     "execution_count": 24,
     "metadata": {},
     "output_type": "execute_result"
    }
   ],
   "source": [
    "strips = let\n",
    "\n",
    "    strips = VLQuantitativeFinancePackage.strip(nominal_bond_model)\n",
    "    number_of_strips = length(strips);\n",
    "    for (k,v) ∈ strips\n",
    "\n",
    "        # get data from this strip\n",
    "        model = v;\n",
    "        T = model.T # time to maturity\n",
    "        Vₚ = model.par; # face value\n",
    "        d = (α)^T; # we selected scheme 1\n",
    "        model.price = (d)*Vₚ # set the price\n",
    "\n",
    "        (ytm, ytm_estimates) = yieldtomaturity(model;\n",
    "            TR = T,\n",
    "            price = model.price,\n",
    "            ϵ = 1e-10,\n",
    "            maxiter = 1000,\n",
    "        );\n",
    "    \n",
    "        # do a YTM calculation to compute the market rate of interest\n",
    "        model.rate = ytm;\n",
    "    end\n",
    "    strips; # return\n",
    "end"
   ]
  },
  {
   "cell_type": "markdown",
   "id": "d9190a8b-1b31-40cc-8d60-b36c03cd6f65",
   "metadata": {},
   "source": [
    "#### Visualize the first $m$ STRIPS products\n",
    "`Unhide` the next code cell to see how we build a table displaying the bond price information. \n",
    "\n",
    "> __What's happening in the code below?__ First, specify the `number_of_strips_to_view.` Then, we'll loop through each STRIP and access the respective models from the `strips` dictionary using the bracket notation `strips[i],` where the index $i$ represents the STRIP index. Next, we'll add pricing, maturity, etc. data to the `strips_table_data_array` and display the resulting table by calling the `pretty_table(…)` function, which is exported by the [PrettyTables.jl package](https://github.com/ronisbr/PrettyTables.jl)\n",
    "\n",
    "What do you see?"
   ]
  },
  {
   "cell_type": "code",
   "execution_count": 26,
   "id": "316815a7-6975-44d3-b24e-65339f97bd3c",
   "metadata": {},
   "outputs": [
    {
     "ename": "LoadError",
     "evalue": "UndefVarError: `tf_simple` not defined in `Main`\nSuggestion: check for spelling errors or missing imports.",
     "output_type": "error",
     "traceback": [
      "UndefVarError: `tf_simple` not defined in `Main`\nSuggestion: check for spelling errors or missing imports.",
      "",
      "Stacktrace:",
      " [1] top-level scope",
      "\u001b[90m   @\u001b[39m \u001b[90m./\u001b[39m\u001b[90m\u001b[4mIn[26]:18\u001b[24m\u001b[39m"
     ]
    }
   ],
   "source": [
    "strips_table_data_array_S1 = let\n",
    "\n",
    "    number_of_strips = length(strips);\n",
    "    number_of_strips_to_view = number_of_strips ≥ 20 ? 20 : number_of_strips\n",
    "    strips_table_data_array_S1 = Array{Any,2}(undef, number_of_strips, 6);\n",
    "    strips_table_header_array = ([\"\", \"Maturity\",\"Face\",\"Price\",\"Ȳ\", \"Discount\"],\n",
    "        [\"\",\"YR\",\"USD\",\"USD\",\"\", \"price/face\"]);\n",
    "    for i ∈ 1:number_of_strips\n",
    "\n",
    "        zc_model = strips[i];\n",
    "        strips_table_data_array_S1[i,1] = i\n",
    "        strips_table_data_array_S1[i,2] = zc_model.T\n",
    "        strips_table_data_array_S1[i,3] = zc_model.par\n",
    "        strips_table_data_array_S1[i,4] = zc_model.price\n",
    "        strips_table_data_array_S1[i,5] = zc_model.rate  \n",
    "        strips_table_data_array_S1[i,6] = (zc_model.price/zc_model.par)\n",
    "    end\n",
    "    pretty_table(strips_table_data_array_S1[1:number_of_strips_to_view,1:end], \n",
    "        header=strips_table_header_array, tf = tf_simple)\n",
    "\n",
    "    strips_table_data_array_S1; # return\n",
    "end;"
   ]
  },
  {
   "cell_type": "markdown",
   "id": "1b64ad0e-9a1f-4a0c-b9e1-6f52ab518879",
   "metadata": {},
   "source": [
    "`Unhide` the next code cell to see how we plotted the yield curve suggested by your choice of the $\\alpha$ parameter."
   ]
  },
  {
   "cell_type": "code",
   "execution_count": 28,
   "id": "c19b9121-9595-4bd3-a422-66798ccc8e02",
   "metadata": {},
   "outputs": [
    {
     "ename": "LoadError",
     "evalue": "UndefVarError: `strips_table_data_array_S1` not defined in `Main`\nSuggestion: check for spelling errors or missing imports.",
     "output_type": "error",
     "traceback": [
      "UndefVarError: `strips_table_data_array_S1` not defined in `Main`\nSuggestion: check for spelling errors or missing imports.",
      "",
      "Stacktrace:",
      " [1] top-level scope",
      "\u001b[90m   @\u001b[39m \u001b[90m\u001b[4mIn[28]:2\u001b[24m\u001b[39m"
     ]
    }
   ],
   "source": [
    "let\n",
    "    plot(strips_table_data_array_S1[1:end-1,2], round.(strips_table_data_array_S1[1:end-1,5], digits=4),lw=3,\n",
    "        label=\"Scheme 1: α=$(α)\", ylims=(0.70*strips_table_data_array_S1[1,5], 1.3*strips_table_data_array_S1[1,5]))\n",
    "    scatter!(strips_table_data_array_S1[1:end-1,2], round.(strips_table_data_array_S1[1:end-1,5], digits=4), \n",
    "    label=\"\", msc=\"blue\", mc=\"blue\")\n",
    "    xlabel!(\"Maturity (years)\",fontsize=18)\n",
    "    ylabel!(\"Yield To Maturity (spot rate)\", fontsize=18)\n",
    "    plot!(bg=\"gray95\", background_color_outside=\"white\", framestyle = :box, fg_legend = :transparent);\n",
    "end"
   ]
  },
  {
   "cell_type": "markdown",
   "id": "334eb7a6-ad52-4e61-ab1b-7ab66a7a38bf",
   "metadata": {},
   "source": [
    "### Curious: Does Scheme 1 pricing allow us to pay for the original instrument?\n",
    "How much do we collect from the sale of the STRIPS? In this scenario, we purchased an original instrument from the [United States Treasury](https://www.treasurydirect.gov/) for $V_{B}$, stripped the coupons and face, and resold them. How much did we make from the sale of the STRIPS?"
   ]
  },
  {
   "cell_type": "code",
   "execution_count": 30,
   "id": "7882749b-f767-489a-acdf-df223292df64",
   "metadata": {},
   "outputs": [
    {
     "ename": "LoadError",
     "evalue": "UndefVarError: `strips_table_data_array_S1` not defined in `Main`\nSuggestion: check for spelling errors or missing imports.",
     "output_type": "error",
     "traceback": [
      "UndefVarError: `strips_table_data_array_S1` not defined in `Main`\nSuggestion: check for spelling errors or missing imports.",
      "",
      "Stacktrace:",
      " [1] top-level scope",
      "\u001b[90m   @\u001b[39m \u001b[90m\u001b[4mIn[30]:3\u001b[24m\u001b[39m"
     ]
    }
   ],
   "source": [
    "let\n",
    "    nominal_computed_price = nominal_bond_model.price;\n",
    "    resale_total = sum(strips_table_data_array_S1[:,4]);\n",
    "    println(\"Purchased bond for $(nominal_computed_price) USD and stripped it for $(resale_total) USD\")\n",
    "end"
   ]
  },
  {
   "cell_type": "markdown",
   "id": "b3563dc6-da69-4e63-a9bc-da7f8d14818b",
   "metadata": {},
   "source": [
    "#### Summary Scheme 1 Pricing\n",
    "* The constant yield (Scheme 1) pricing approach gives a constant yield curve and a decreasing discount. The short maturity zeros are more expensive relative to the face value of the original instrument.\n",
    "* The observed yield $\\bar{Y}$ is inversely proportional to the value of the escalation parameter $\\alpha$; smaller values of $\\alpha$ lead to higher yields $\\bar{Y}$. On the other hand, $\\alpha$ is directly proportional to the discount, i.e., the price of the zero relative to its face value.\n",
    "* The yield we collect from the U.S. Treasury is always greater than what we pay to holders of the STRIPS products. Thus, we can pay for the original instrument under pricing scheme 1. However, would anyone buy these STRIPS?\n",
    "\n",
    "Next, let's explore Scheme 2."
   ]
  },
  {
   "cell_type": "markdown",
   "id": "1b9fc649-1f58-45cd-9278-36a1ad8bf0b9",
   "metadata": {},
   "source": [
    "### Scheme 2: Constant discount STRIPS\n",
    "Now, let's consider scheme 2, which has a constant discount, i.e., the ratio of the auction price to the instrument's face value is constant. We'll use the same value of escalation parameter $\\alpha$ and procedure as the previous Scheme 1 calculation, except we remove the time dependence on the `d` variable"
   ]
  },
  {
   "cell_type": "code",
   "execution_count": 33,
   "id": "74f3f412-0368-4b9c-a230-055071fe3f71",
   "metadata": {},
   "outputs": [
    {
     "data": {
      "text/plain": [
       "Dict{Int64, MyUSTreasuryZeroCouponBondModel} with 11 entries:\n",
       "  5  => MyUSTreasuryZeroCouponBondModel(2.0625, 0.0121837, 2.5, 2.00062, 2, not…\n",
       "  8  => MyUSTreasuryZeroCouponBondModel(2.0625, 0.0076148, 4.0, 2.00062, 2, not…\n",
       "  1  => MyUSTreasuryZeroCouponBondModel(2.0625, 0.0609184, 0.5, 2.00062, 2, not…\n",
       "  6  => MyUSTreasuryZeroCouponBondModel(2.0625, 0.0101531, 3.0, 2.00062, 2, not…\n",
       "  11 => MyUSTreasuryZeroCouponBondModel(100.0, 0.00609184, 5.0, 97.0, 2, nothin…\n",
       "  9  => MyUSTreasuryZeroCouponBondModel(2.0625, 0.00676871, 4.5, 2.00062, 2, no…\n",
       "  3  => MyUSTreasuryZeroCouponBondModel(2.0625, 0.0203061, 1.5, 2.00062, 2, not…\n",
       "  7  => MyUSTreasuryZeroCouponBondModel(2.0625, 0.00870263, 3.5, 2.00062, 2, no…\n",
       "  4  => MyUSTreasuryZeroCouponBondModel(2.0625, 0.0152296, 2.0, 2.00062, 2, not…\n",
       "  2  => MyUSTreasuryZeroCouponBondModel(2.0625, 0.0304592, 1.0, 2.00062, 2, not…\n",
       "  10 => MyUSTreasuryZeroCouponBondModel(2.0625, 0.00609184, 5.0, 2.00062, 2, no…"
      ]
     },
     "execution_count": 33,
     "metadata": {},
     "output_type": "execute_result"
    }
   ],
   "source": [
    "strips = let\n",
    "\n",
    "    strips = VLQuantitativeFinancePackage.strip(nominal_bond_model)\n",
    "    number_of_strips = length(strips);\n",
    "    for (k,v) ∈ strips\n",
    "\n",
    "        # get data from this strip\n",
    "        model = v;\n",
    "        T = model.T # time to maturity\n",
    "        Vₚ = model.par; # face value\n",
    "        d = (α); # we selected scheme 2\n",
    "        model.price = (d)*Vₚ # set the price\n",
    "\n",
    "        (ytm, ytm_estimates) = yieldtomaturity(model;\n",
    "            TR = T,\n",
    "            price = model.price,\n",
    "            ϵ = 1e-10,\n",
    "            maxiter = 1000,\n",
    "        );\n",
    "    \n",
    "        # do a YTM calculation to compute the market rate of interest\n",
    "        model.rate = ytm;\n",
    "    end\n",
    "    strips # return\n",
    "end"
   ]
  },
  {
   "cell_type": "markdown",
   "id": "df1a5039-1e2e-4e8c-90cb-515a96f104dc",
   "metadata": {},
   "source": [
    "#### Visualize the first $m$ STRIPS products\n",
    "`Unhide` the next code cell to see how we build a table displaying the bond price information. \n",
    "\n",
    "> __What's happening in the code below?__ First, specify the `number_of_strips_to_view.` Then, we'll loop through each STRIP and access the respective models from the `strips` dictionary using the bracket notation `strips[i],` where the index $i$ represents the STRIP index. Next, we'll add pricing, maturity, etc. data to the `strips_table_data_array` and display the resulting table by calling the `pretty_table(…)` function, which is exported by the [PrettyTables.jl package](https://github.com/ronisbr/PrettyTables.jl)\n",
    "\n",
    "What do you see?"
   ]
  },
  {
   "cell_type": "code",
   "execution_count": 35,
   "id": "ff564a26-ce51-4715-95fa-7696ac7e0ed8",
   "metadata": {
    "jupyter": {
     "source_hidden": true
    }
   },
   "outputs": [
    {
     "ename": "LoadError",
     "evalue": "UndefVarError: `tf_simple` not defined in `Main`\nSuggestion: check for spelling errors or missing imports.",
     "output_type": "error",
     "traceback": [
      "UndefVarError: `tf_simple` not defined in `Main`\nSuggestion: check for spelling errors or missing imports.",
      "",
      "Stacktrace:",
      " [1] top-level scope",
      "\u001b[90m   @\u001b[39m \u001b[90m./\u001b[39m\u001b[90m\u001b[4mIn[35]:19\u001b[24m\u001b[39m"
     ]
    }
   ],
   "source": [
    "strips_table_data_array_S2 = let\n",
    "\n",
    "\n",
    "    number_of_strips = length(strips);\n",
    "    number_of_strips_to_view = number_of_strips ≥ 20 ? 20 : number_of_strips\n",
    "    strips_table_data_array = Array{Any,2}(undef, number_of_strips, 6);\n",
    "    strips_table_header_array = ([\"\", \"Maturity\",\"Face\",\"Price\",\"Ȳ\", \"Discount\"],\n",
    "        [\"\",\"YR\",\"USD\",\"USD\",\"\", \"price/face\"]);\n",
    "    for i ∈ 1:number_of_strips\n",
    "\n",
    "        zc_model = strips[i];\n",
    "        strips_table_data_array[i,1] = i\n",
    "        strips_table_data_array[i,2] = zc_model.T\n",
    "        strips_table_data_array[i,3] = zc_model.par\n",
    "        strips_table_data_array[i,4] = zc_model.price\n",
    "        strips_table_data_array[i,5] = zc_model.rate  \n",
    "        strips_table_data_array[i,6] = (zc_model.price/zc_model.par)\n",
    "    end\n",
    "    pretty_table(strips_table_data_array[1:number_of_strips_to_view,1:end], \n",
    "        header=strips_table_header_array, tf = tf_simple)\n",
    "\n",
    "    strips_table_data_array; # return\n",
    "end;"
   ]
  },
  {
   "cell_type": "markdown",
   "id": "561a3069-0841-40f2-876b-edeaea228cd3",
   "metadata": {},
   "source": [
    "`Unhide` the next code cell to see how we plotted the yield curve suggested by your choice of the $\\alpha$ parameter."
   ]
  },
  {
   "cell_type": "code",
   "execution_count": 37,
   "id": "f2c6ac5a-e92e-4f28-ac72-2e01528f3b65",
   "metadata": {},
   "outputs": [
    {
     "ename": "LoadError",
     "evalue": "UndefVarError: `strips_table_data_array_S2` not defined in `Main`\nSuggestion: check for spelling errors or missing imports.",
     "output_type": "error",
     "traceback": [
      "UndefVarError: `strips_table_data_array_S2` not defined in `Main`\nSuggestion: check for spelling errors or missing imports.",
      "",
      "Stacktrace:",
      " [1] top-level scope",
      "\u001b[90m   @\u001b[39m \u001b[90m\u001b[4mIn[37]:2\u001b[24m\u001b[39m"
     ]
    }
   ],
   "source": [
    "let\n",
    "    plot(strips_table_data_array_S2[1:end-1,2], strips_table_data_array_S2[1:end-1,5],lw=3,\n",
    "        label=\"Scheme 2: α=$(α)\")\n",
    "    scatter!(strips_table_data_array_S2[1:end-1,2], strips_table_data_array_S2[1:end-1,5], \n",
    "        label=\"\", msc=\"blue\", mc=\"blue\")\n",
    "    xlabel!(\"Maturity (years)\",fontsize=18)\n",
    "    ylabel!(\"Yield to Maturity (spot rate)\", fontsize=18)\n",
    "    plot!(bg=\"gray95\", background_color_outside=\"white\", framestyle = :box, fg_legend = :transparent);\n",
    "end"
   ]
  },
  {
   "cell_type": "markdown",
   "id": "dc3338a1-48dc-4af8-b3c5-d6f00c8c9f70",
   "metadata": {},
   "source": [
    "#### Curious: Does Scheme 2 pricing allow us to pay for the original instrument?\n",
    "In this scenario, we purchased an original instrument from the [United States Treasury](https://www.treasurydirect.gov/) for $V_{B}$, stripped the coupons and face, and resold them. How much did we make from the sale of the STRIPS?"
   ]
  },
  {
   "cell_type": "code",
   "execution_count": 39,
   "id": "c2bba6d4-5f66-4ee6-b4c6-77b9df263fda",
   "metadata": {},
   "outputs": [
    {
     "ename": "LoadError",
     "evalue": "UndefVarError: `strips_table_data_array_S2` not defined in `Main`\nSuggestion: check for spelling errors or missing imports.",
     "output_type": "error",
     "traceback": [
      "UndefVarError: `strips_table_data_array_S2` not defined in `Main`\nSuggestion: check for spelling errors or missing imports.",
      "",
      "Stacktrace:",
      " [1] top-level scope",
      "\u001b[90m   @\u001b[39m \u001b[90m\u001b[4mIn[39]:3\u001b[24m\u001b[39m"
     ]
    }
   ],
   "source": [
    "let\n",
    "    nominal_computed_price = nominal_bond_model.price;\n",
    "    resale_total = sum(strips_table_data_array_S2[:,4]);\n",
    "    println(\"Purchased bond for $(nominal_computed_price) USD and stripped it for $(resale_total) USD\")\n",
    "end"
   ]
  },
  {
   "cell_type": "markdown",
   "id": "9d58a413-5318-4ef7-9d32-e5845189cb43",
   "metadata": {},
   "source": [
    "#### Summary Scheme 2 Pricing\n",
    "* The constant discount (Scheme 2) pricing approach gives an inverted yield curve. Under pricing scheme 2, short-maturity zeros yield more than longer-maturity bonds.\n",
    "* The observed yield $\\bar{Y}$ is inversely proportional to the value of the escalation parameter $\\alpha$; smaller values of $\\alpha$ lead to higher yields $\\bar{Y}$. On the other hand, under this scheme, the discount is constant.\n",
    "* The yield we collect from the U.S. Treasury is less than what we pay to holders of the STRIPS products for short-maturity products. However, we pay significantly less than the Treasury for longer-duration products.\n",
    "\n",
    "Finally, let's explore Scheme 3."
   ]
  },
  {
   "cell_type": "markdown",
   "id": "293284a5",
   "metadata": {},
   "source": [
    "### Scheme 3: Varying yield STRIPS\n",
    "In this scheme, we allow the yield to vary with the maturity of the bond. Suppose the yield we are willing to sell the bond is given by:\n",
    "$$\n",
    "\\bar{Y}_{i} = \\theta_{1}+\\theta_{2}\\cdot\\left(i-1\\right)^{\\beta}\n",
    "$$\n",
    "where $i$ is the index of the strip (a proxy for the maturity). Let's set values for the parameters $\\theta_{1},$ $\\theta_{2},$ and $\\beta$:"
   ]
  },
  {
   "cell_type": "code",
   "execution_count": 42,
   "id": "0e1a0cbe",
   "metadata": {},
   "outputs": [],
   "source": [
    "θ₁, θ₂, β = 0.015, 0.001, 0.5; # parameters for scheme 3"
   ]
  },
  {
   "cell_type": "markdown",
   "id": "e710c6b8",
   "metadata": {},
   "source": [
    "We use the same procedure as before, except we compute the yield specified by the equation above, and then we compute the price from the yield."
   ]
  },
  {
   "cell_type": "code",
   "execution_count": 44,
   "id": "260968ec",
   "metadata": {},
   "outputs": [],
   "source": [
    "strips_S3 = let\n",
    "\n",
    "    strips = VLQuantitativeFinancePackage.strip(nominal_bond_model);\n",
    "    discount_model = ContinuousCompoundingModel(); # Super interesting, this is what was needed to replicate the JPMorgan data!\n",
    "    number_of_strips = length(strips);\n",
    "    for (k,v) ∈ strips\n",
    "\n",
    "        # get data from this strip\n",
    "        model = v;\n",
    "        T = model.T # time to maturity\n",
    "        Vₚ = model.par; # face value\n",
    "        Ȳ = θ₁ + θ₂*(k-1)^β; # set the rate\n",
    "\n",
    "        model.rate = Ȳ\n",
    "        model |> discount_model; # set the model\n",
    "        strips[k] = model; # update\n",
    "    end\n",
    "    strips; # return\n",
    "end;"
   ]
  },
  {
   "cell_type": "code",
   "execution_count": 45,
   "id": "f89259bd",
   "metadata": {},
   "outputs": [
    {
     "data": {
      "text/plain": [
       "Dict{Int64, MyUSTreasuryZeroCouponBondModel} with 11 entries:\n",
       "  5  => MyUSTreasuryZeroCouponBondModel(2.0625, 0.017, 2.5, 1.97668, 2, Dict(0=…\n",
       "  8  => MyUSTreasuryZeroCouponBondModel(2.0625, 0.0176458, 4.0, 1.92194, 2, Dic…\n",
       "  1  => MyUSTreasuryZeroCouponBondModel(2.0625, 0.015, 0.5, 2.04709, 2, Dict(0=…\n",
       "  6  => MyUSTreasuryZeroCouponBondModel(2.0625, 0.0172361, 3.0, 1.95856, 2, Dic…\n",
       "  11 => MyUSTreasuryZeroCouponBondModel(100.0, 0.0181623, 5.0, 91.319, 2, Dict(…\n",
       "  9  => MyUSTreasuryZeroCouponBondModel(2.0625, 0.0178284, 4.5, 1.90349, 2, Dic…\n",
       "  3  => MyUSTreasuryZeroCouponBondModel(2.0625, 0.0164142, 1.5, 2.01234, 2, Dic…\n",
       "  7  => MyUSTreasuryZeroCouponBondModel(2.0625, 0.0174495, 3.5, 1.94031, 2, Dic…\n",
       "  4  => MyUSTreasuryZeroCouponBondModel(2.0625, 0.0167321, 2.0, 1.99462, 2, Dic…\n",
       "  2  => MyUSTreasuryZeroCouponBondModel(2.0625, 0.016, 1.0, 2.02976, 2, Dict(0=…\n",
       "  10 => MyUSTreasuryZeroCouponBondModel(2.0625, 0.018, 5.0, 1.88498, 2, Dict(0=…"
      ]
     },
     "execution_count": 45,
     "metadata": {},
     "output_type": "execute_result"
    }
   ],
   "source": [
    "strips_S3"
   ]
  },
  {
   "cell_type": "markdown",
   "id": "bb31417a",
   "metadata": {},
   "source": [
    "#### Visualize the first $m$ STRIPS products\n",
    "`Unhide` the next code cell to see how we build a table displaying the bond price information. \n",
    "\n",
    "> __What's happening in the code below?__ First, specify the `number_of_strips_to_view.` Then, we'll loop through each STRIP and access the respective models from the `strips` dictionary using the bracket notation `strips[i],` where the index $i$ represents the STRIP index. Next, we'll add pricing, maturity, etc. data to the `strips_table_data_array` and display the resulting table by calling the `pretty_table(…)` function, which is exported by the [PrettyTables.jl package](https://github.com/ronisbr/PrettyTables.jl)\n",
    "\n",
    "What do you see?"
   ]
  },
  {
   "cell_type": "code",
   "execution_count": 47,
   "id": "89028640",
   "metadata": {},
   "outputs": [
    {
     "ename": "LoadError",
     "evalue": "UndefVarError: `tf_simple` not defined in `Main`\nSuggestion: check for spelling errors or missing imports.",
     "output_type": "error",
     "traceback": [
      "UndefVarError: `tf_simple` not defined in `Main`\nSuggestion: check for spelling errors or missing imports.",
      "",
      "Stacktrace:",
      " [1] top-level scope",
      "\u001b[90m   @\u001b[39m \u001b[90m./\u001b[39m\u001b[90m\u001b[4mIn[47]:18\u001b[24m\u001b[39m"
     ]
    }
   ],
   "source": [
    "strips_table_data_array_S3 = let\n",
    "\n",
    "    number_of_strips = length(strips_S3);\n",
    "    number_of_strips_to_view = number_of_strips ≥ 20 ? 10 : number_of_strips\n",
    "    strips_table_data_array = Array{Any,2}(undef, number_of_strips, 6);\n",
    "    strips_table_header_array = ([\"\", \"Maturity\",\"Face\",\"Price\",\"r̄\", \"Discount\"],\n",
    "        [\"\",\"YR\",\"USD\",\"USD\",\"\", \"price/face\"]);\n",
    "    for i ∈ 1:number_of_strips\n",
    "\n",
    "        zc_model = strips_S3[i];\n",
    "        strips_table_data_array[i,1] = i\n",
    "        strips_table_data_array[i,2] = zc_model.T\n",
    "        strips_table_data_array[i,3] = zc_model.par\n",
    "        strips_table_data_array[i,4] = zc_model.price\n",
    "        strips_table_data_array[i,5] = zc_model.rate  \n",
    "        strips_table_data_array[i,6] = (zc_model.price/zc_model.par)\n",
    "    end\n",
    "    pretty_table(strips_table_data_array[1:number_of_strips_to_view,1:end], \n",
    "        header=strips_table_header_array, tf = tf_simple)\n",
    "\n",
    "    strips_table_data_array; # return\n",
    "end;"
   ]
  },
  {
   "cell_type": "markdown",
   "id": "fa8be67b",
   "metadata": {},
   "source": [
    "`Unhide` the next code cell to see how we plotted the yield curve suggested by your choice of the $\\theta_{1},$ $\\theta_{2},$ and $\\beta$ parameters."
   ]
  },
  {
   "cell_type": "code",
   "execution_count": 49,
   "id": "3b3a32da",
   "metadata": {},
   "outputs": [
    {
     "ename": "LoadError",
     "evalue": "UndefVarError: `strips_table_data_array_S3` not defined in `Main`\nSuggestion: check for spelling errors or missing imports.",
     "output_type": "error",
     "traceback": [
      "UndefVarError: `strips_table_data_array_S3` not defined in `Main`\nSuggestion: check for spelling errors or missing imports.",
      "",
      "Stacktrace:",
      " [1] top-level scope",
      "\u001b[90m   @\u001b[39m \u001b[90m\u001b[4mIn[49]:3\u001b[24m\u001b[39m"
     ]
    }
   ],
   "source": [
    "let\n",
    "\n",
    "    plot(strips_table_data_array_S3[1:end-1,2], strips_table_data_array_S3[1:end-1,5],lw=3,\n",
    "    label=\"θ₁=$(θ₁), θ₂=$(θ₂), β = $(β)\")\n",
    "    scatter!(strips_table_data_array_S3[1:end-1,2], strips_table_data_array_S3[1:end-1,5], \n",
    "    label=\"\", msc=\"blue\", mc=\"blue\")\n",
    "    xlabel!(\"Maturity (years)\",fontsize=18)\n",
    "    ylabel!(\"Yield to Maturity (spot rate)\", fontsize=18)\n",
    "    plot!(bg=\"gray95\", background_color_outside=\"white\", framestyle = :box, fg_legend = :transparent);\n",
    "end"
   ]
  },
  {
   "cell_type": "markdown",
   "id": "c9a1dab2",
   "metadata": {},
   "source": [
    "#### Curious: How much do we collect from the sale of the STRIPS?\n",
    "In this scenario, we purchased an original instrument from the [United States Treasury](https://www.treasurydirect.gov/) for $V_{B}$, stripped the coupons and face, and resold them. How much did we make from the sale of the STRIPS?"
   ]
  },
  {
   "cell_type": "code",
   "execution_count": 51,
   "id": "6cb8bcde",
   "metadata": {},
   "outputs": [
    {
     "ename": "LoadError",
     "evalue": "UndefVarError: `strips_table_data_array_S3` not defined in `Main`\nSuggestion: check for spelling errors or missing imports.",
     "output_type": "error",
     "traceback": [
      "UndefVarError: `strips_table_data_array_S3` not defined in `Main`\nSuggestion: check for spelling errors or missing imports.",
      "",
      "Stacktrace:",
      " [1] top-level scope",
      "\u001b[90m   @\u001b[39m \u001b[90m\u001b[4mIn[51]:3\u001b[24m\u001b[39m"
     ]
    }
   ],
   "source": [
    "let\n",
    "    nominal_computed_price = nominal_bond_model.price;\n",
    "    resale_total = sum(strips_table_data_array_S3[:,4]);\n",
    "    println(\"Purchased bond for $(nominal_computed_price) USD and stripped it for $(resale_total) USD\")\n",
    "end"
   ]
  },
  {
   "cell_type": "markdown",
   "id": "283e40ab",
   "metadata": {},
   "source": [
    "#### Summary Scheme 3 Pricing\n",
    "* The varying yield (Scheme 3) pricing approach creates an upward-sloping yield curve where longer-maturity bonds have higher yields than shorter-maturity bonds. This reflects a more realistic market structure.\n",
    "* The yield for each STRIP is determined by the formula $\\bar{Y}_{i} = \\theta_{1}+\\theta_{2}\\cdot\\left(i-1\\right)^{\\beta}$, which allows for flexible control over the yield curve shape through the parameters $\\theta_{1}$, $\\theta_{2}$, and $\\beta$.\n",
    "* This approach provides a more market-realistic pricing structure that can better reflect investor expectations about interest rate risk and time preferences.\n",
    "* The revenue from selling STRIPS under this scheme depends on the specific parameter values chosen, allowing for optimization of profitability while maintaining market competitiveness."
   ]
  },
  {
   "cell_type": "markdown",
   "id": "7d1492b1-4882-4015-b8c4-a7571fd874e9",
   "metadata": {},
   "source": [
    "## Disclaimer and Risks\n",
    "__This content is offered solely for training and informational purposes__. No offer or solicitation to buy or sell securities or derivative products or any investment or trading advice or strategy is made, given, or endorsed by the teaching team. \n",
    "\n",
    "__Trading involves risk__. Carefully review your financial situation before investing in securities, futures contracts, options, or commodity interests. Past performance, whether actual or indicated by historical tests of strategies, is no guarantee of future performance or success. Trading is generally inappropriate for someone with limited resources, investment or trading experience, or a low-risk tolerance.  Only risk capital that is not required for living expenses.\n",
    "\n",
    "__You are fully responsible for any investment or trading decisions you make__. Such decisions should be based solely on evaluating your financial circumstances, investment or trading objectives, risk tolerance, and liquidity needs."
   ]
  }
 ],
 "metadata": {
  "kernelspec": {
   "display_name": "Julia 1.11.6",
   "language": "julia",
   "name": "julia-1.11"
  },
  "language_info": {
   "file_extension": ".jl",
   "mimetype": "application/julia",
   "name": "julia",
   "version": "1.11.6"
  }
 },
 "nbformat": 4,
 "nbformat_minor": 5
}
