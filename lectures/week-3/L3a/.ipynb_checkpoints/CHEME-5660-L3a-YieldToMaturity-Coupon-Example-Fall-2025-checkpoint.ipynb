{
 "cells": [
  {
   "cell_type": "markdown",
   "id": "7c7a73b4-2986-462a-9ce1-3422dc1e195d",
   "metadata": {},
   "source": [
    "# Example: Yield to Maturity Calculation\n",
    "In this example, we will calculate the yield to maturity (YTM) of a bond given its price, face value, coupon rate, and time to maturity. The YTM is the internal rate of return (IRR) of the bond, assuming it is held until maturity and all coupon payments are made as scheduled.\n",
    "\n",
    "> __Motivation:__ Fill me in.\n",
    "\n",
    "\n",
    "Let's get started!\n",
    "___"
   ]
  },
  {
   "cell_type": "markdown",
   "id": "4578debb",
   "metadata": {},
   "source": [
    "## Setup, Data, and Prerequisites\n",
    "We set up the computational environment by including the `Include.jl` file, loading any needed resources, such as sample datasets, and setting up any required constants. \n",
    "\n",
    "> __Include:__ The [include(...) function](https://docs.julialang.org/en/v1/base/base/#include) is a convenient way to load Julia code from another file. The `Include.jl` file is a Julia file that loads external packages, and various functions that we will use in the exercise. It checks for a `Manifest.toml` file; if it finds one, packages are loaded. Otherwise, packages are downloaded and then loaded."
   ]
  },
  {
   "cell_type": "code",
   "execution_count": 2,
   "id": "1a49c647",
   "metadata": {},
   "outputs": [],
   "source": [
    "include(joinpath(@__DIR__, \"Include.jl\")); # this sets up the environment, we'll do this all the time, on everything we do"
   ]
  },
  {
   "cell_type": "markdown",
   "id": "bc999d8d",
   "metadata": {},
   "source": [
    "For additional information on functions and types used in this material, see the [Julia programming language documentation](https://docs.julialang.org/en/v1/) and the [VLQuantitativeFinancePackage.jl documentation](https://github.com/varnerlab/VLQuantitativeFinancePackage.jl). "
   ]
  },
  {
   "cell_type": "markdown",
   "id": "ca1793aa",
   "metadata": {},
   "source": [
    "### Data\n",
    "We are going to look at a hypothetical 52-week U.S. Treasury Bill, and a 10-year U.S. Treasury Note. The data for these securities is encoded in [the `NamedTuple` data structure](https://docs.julialang.org/en/v1/base/base/#Core.NamedTuple).\n",
    "\n",
    "Let's start with the 52-week U.S. Treasury Bill."
   ]
  },
  {
   "cell_type": "code",
   "execution_count": null,
   "id": "42cedb1a",
   "metadata": {},
   "outputs": [],
   "source": [
    "bill_data = (\n",
    "    T = \"52-Week\" |> securityterm,\n",
    "    n = 2,\n",
    "    par = 100.0,\n",
    "    r̄ = 0.045, # 4.5% \n",
    "    c̄ = 0.0,   # zero-coupon\n",
    ");"
   ]
  },
  {
   "cell_type": "markdown",
   "id": "b01cc2b0",
   "metadata": {},
   "source": [
    "Next, let's setup the data for a 10-year U.S. Treasury Note."
   ]
  },
  {
   "cell_type": "code",
   "execution_count": null,
   "id": "847a80ab",
   "metadata": {},
   "outputs": [],
   "source": [
    "note_data = (\n",
    "    T = \"10-Year\" |> securityterm,\n",
    "    n = 2,\n",
    "    par = 100.0,\n",
    "    r̄ = 0.045, # 4.5% \n",
    "    c̄ = 0.05,  # 5% coupon\n",
    ");"
   ]
  },
  {
   "cell_type": "code",
   "execution_count": null,
   "id": "38cfa6c4",
   "metadata": {},
   "outputs": [],
   "source": []
  }
 ],
 "metadata": {
  "kernelspec": {
   "display_name": "Julia 1.11.6",
   "language": "julia",
   "name": "julia-1.11"
  },
  "language_info": {
   "file_extension": ".jl",
   "mimetype": "application/julia",
   "name": "julia",
   "version": "1.11.6"
  }
 },
 "nbformat": 4,
 "nbformat_minor": 5
}
