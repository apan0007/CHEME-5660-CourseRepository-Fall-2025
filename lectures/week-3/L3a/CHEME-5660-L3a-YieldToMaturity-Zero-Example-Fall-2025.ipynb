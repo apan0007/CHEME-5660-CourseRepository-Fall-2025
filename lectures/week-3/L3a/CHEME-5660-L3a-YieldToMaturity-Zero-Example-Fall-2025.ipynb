{
 "cells": [
  {
   "cell_type": "markdown",
   "id": "7c7a73b4-2986-462a-9ce1-3422dc1e195d",
   "metadata": {},
   "source": [
    "# Example: Yield to Maturity Calculation for a Zero\n",
    "In this example, we will calculate the yield to maturity (YTM) of a Zero given its price, face value, discount rate and time to maturity. The YTM is the internal rate of return (IRR) of the instrument.\n",
    "\n",
    "> __Motivation:__ Fill me in.\n",
    "\n",
    "\n",
    "Let's get started!\n",
    "___"
   ]
  },
  {
   "cell_type": "markdown",
   "id": "4578debb",
   "metadata": {},
   "source": [
    "## Setup, Data, and Prerequisites\n",
    "We set up the computational environment by including the `Include.jl` file, loading any needed resources, such as sample datasets, and setting up any required constants. \n",
    "\n",
    "> __Include:__ The [include(...) function](https://docs.julialang.org/en/v1/base/base/#include) is a convenient way to load Julia code from another file. The `Include.jl` file is a Julia file that loads external packages, and various functions that we will use in the exercise. It checks for a `Manifest.toml` file; if it finds one, packages are loaded. Otherwise, packages are downloaded and then loaded.\n",
    "\n",
    "Setup the environment."
   ]
  },
  {
   "cell_type": "code",
   "execution_count": 1,
   "id": "1a49c647",
   "metadata": {},
   "outputs": [],
   "source": [
    "include(joinpath(@__DIR__, \"Include.jl\")); # this sets up the environment, we'll do this all the time, on everything we do"
   ]
  },
  {
   "cell_type": "markdown",
   "id": "bc999d8d",
   "metadata": {},
   "source": [
    "For additional information on functions and types used in this material, see the [Julia programming language documentation](https://docs.julialang.org/en/v1/) and the [VLQuantitativeFinancePackage.jl documentation](https://github.com/varnerlab/VLQuantitativeFinancePackage.jl). "
   ]
  },
  {
   "cell_type": "markdown",
   "id": "ca1793aa",
   "metadata": {},
   "source": [
    "### Data\n",
    "We are going to look at a hypothetical 52-week U.S. Treasury Bill. The data for these securities is encoded in [a `NamedTuple` data structure](https://docs.julialang.org/en/v1/base/base/#Core.NamedTuple), let's say `bill_data::NamedTuple`:"
   ]
  },
  {
   "cell_type": "code",
   "execution_count": 2,
   "id": "42cedb1a",
   "metadata": {},
   "outputs": [],
   "source": [
    "bill_data = (\n",
    "    T = \"52-Week\" |> securityterm,\n",
    "    n = 2,\n",
    "    par = 100.0,\n",
    "    r̄ = 0.04538, # 4.53 and some change annualized discount rate\n",
    "    c̄ = 0.0,   # zero-coupon\n",
    ");"
   ]
  },
  {
   "cell_type": "markdown",
   "id": "8895c12c",
   "metadata": {},
   "source": [
    "Let's build a `zero_coupon_model::MyUSTreasuryZeroCouponBondModel` instance using the `bill_data::NamedTuple` data structure."
   ]
  },
  {
   "cell_type": "code",
   "execution_count": 3,
   "id": "e6802e95",
   "metadata": {},
   "outputs": [],
   "source": [
    "zero_coupon_model = let\n",
    "\n",
    "    # initialize -\n",
    "    discount_model = DiscreteCompoundingModel();\n",
    "    zero_coupon_model = nothing; # initalize\n",
    "\n",
    "\n",
    "    # Build a zero-coupon T-bill model using data from the selected bill\n",
    "    zero_coupon_model = build(MyUSTreasuryZeroCouponBondModel, (\n",
    "        par = bill_data.par,\n",
    "        n = bill_data.n, \n",
    "        T = bill_data.T,\n",
    "        rate =  bill_data.r̄,\n",
    "    )) |> discount_model;\n",
    "\n",
    "    zero_coupon_model # return\n",
    "end;"
   ]
  },
  {
   "cell_type": "markdown",
   "id": "b3534ce4",
   "metadata": {},
   "source": [
    "What's the price of this bill at auction? "
   ]
  },
  {
   "cell_type": "code",
   "execution_count": 4,
   "id": "b9d55ba5",
   "metadata": {},
   "outputs": [
    {
     "data": {
      "text/plain": [
       "95.62366236777791"
      ]
     },
     "metadata": {},
     "output_type": "display_data"
    }
   ],
   "source": [
    "zero_coupon_model.price # price per 100 USD par value"
   ]
  },
  {
   "cell_type": "markdown",
   "id": "91dcb751",
   "metadata": {},
   "source": [
    "### Constants\n",
    "We set some constant values that we use in the calculations below. Please see the comment next to the constant for its meaning, permissible units, etc."
   ]
  },
  {
   "cell_type": "code",
   "execution_count": 5,
   "id": "1dc3aa2e",
   "metadata": {},
   "outputs": [],
   "source": [
    " t = 182.0; # number of days to maturity"
   ]
  },
  {
   "cell_type": "markdown",
   "id": "5f99b7bb-3075-4189-82ca-c7e0544f1e77",
   "metadata": {},
   "source": [
    "___"
   ]
  },
  {
   "cell_type": "markdown",
   "id": "b83e8ecb",
   "metadata": {},
   "source": [
    "## Task 1: Let's compute the Yield at Auction and Afterward\n",
    "In this task, we show that the yield at auction is the same as the yield to maturity (YTM) which in term is the same as the discount rate used in pricing the zero-coupon instrument. The __annualized investment yield__ of a zero-coupon instrument with $t$ days to maturity (units: days), face (par) value $V_{P}$ (units: USD), and purchase price $V_{B}$ at time $t$ (units: USD) is given by:\n",
    "$$\n",
    "\\boxed{\n",
    "\\begin{align*}\n",
    "Y(t) & = \\underbrace{\\left(\\frac{V_{P}}{V_{B,t}} - 1\\right)}_{\\text{HPR}} \\times \\underbrace{\\left(\\frac{1}{T}\\right)}_{\\text{annualize}}\\quad\\\\\n",
    "\\end{align*}}\n",
    "$$\n",
    "where $\\text{HPR}$ is the __holding period return__ and the $1/T$ term is an __annualization factor__.\n",
    "\n",
    "> __Idea:__ The yield to maturity (YTM) of a zero-coupon instrument is equal to the annualized investment rate $\\bar{r}$, i.e., the discount rate used in pricing the instrument. After the auction, the yield to maturity is no longer equal to the __original__ investment rate $\\bar{r}$. It is either higher or lower, depending on the price of the instrument in the secondary market.\n",
    "\n",
    "So what do we see?\n"
   ]
  },
  {
   "cell_type": "code",
   "execution_count": 6,
   "id": "df3d8495",
   "metadata": {},
   "outputs": [
    {
     "data": {
      "text/plain": [
       "(0.0917839879616208, 0.045766262490452014)"
      ]
     },
     "metadata": {},
     "output_type": "display_data"
    }
   ],
   "source": [
    "Y,HPR = let\n",
    "\n",
    "    # initialize -\n",
    "    T = t/365.0; # annualized time to maturity\n",
    "    V_P = zero_coupon_model.par; # face value\n",
    "    V_B = zero_coupon_model.price; # purchase price\n",
    "    δ = 0.0; # price change in secondary market\n",
    "\n",
    "    # compute -\n",
    "    HPR  = V_P/(V_B + δ) - 1; # holding period return\n",
    "    Y    = HPR / T;     # annualized yield\n",
    "\n",
    "    (Y,HPR) # return\n",
    "end"
   ]
  },
  {
   "cell_type": "markdown",
   "id": "161a51d1",
   "metadata": {},
   "source": [
    "### Discussion\n",
    "Let's run a few simulations to see what happens when we start changing the price and the time to maturity of our example treasury bill.\n",
    "1. Suppose we purchased the Bill at auction, and held the Bill for 6-moths (182 days). We checked the price of the bill in the secondary market, and found that the price as the same as the auction price. What is the yield to maturity (YTM) of the bill now?  (Is it higher, lower or the same as the yield, i.e., $\\bar{r}$, at auction?)\n",
    "2. Suppose we purchased the Bill at auction, and held the Bill for 6-moths (182 days). We checked the price of the bill in the secondary market, and found that the price had __increased__ by 1 USD. What is the yield to maturity (YTM) of the bill now?  (Is it higher, lower or the same as the yield, i.e., $\\bar{r}$, at auction?)\n",
    "3. Suppose we purchased the Bill at auction, and held the Bill for 6-moths (182 days). We checked the price of the bill in the secondary market, and found that the price had __decreased__ by 1 USD. What is the yield to maturity (YTM) of the bill now?  (Is it higher, lower or the same as the yield, i.e., $\\bar{r}$, at auction?)\n",
    "\n",
    "___"
   ]
  },
  {
   "cell_type": "markdown",
   "id": "92ee004d",
   "metadata": {},
   "source": [
    "## Task 2: How are the yields related to the discount rate used in pricing?\n",
    "In this task, we will explore how the yields are related to the discount rate used in pricing the zero-coupon instrument. The relationship between the yield and the discount (spot) rate, is given by:\n",
    "$$\n",
    "\\boxed{\n",
    "\\begin{align*}\n",
    "\\bar{r} & = n\\left[\\left(1 + Y\\;T\\right)^{1/(nT)} - 1\\right]\n",
    "\\end{align*}}\n",
    "$$\n",
    "\n",
    "Let's put some numbers in and see what we see."
   ]
  },
  {
   "cell_type": "code",
   "execution_count": 7,
   "id": "2691ca55",
   "metadata": {},
   "outputs": [
    {
     "data": {
      "text/plain": [
       "0.09178967220000045"
      ]
     },
     "metadata": {},
     "output_type": "display_data"
    }
   ],
   "source": [
    "r̂ = let\n",
    "\n",
    "    # initialize -\n",
    "    T = t/365.0; # annualized time to maturity\n",
    "    V_P = zero_coupon_model.par; # face value\n",
    "    V_B = zero_coupon_model.price; # purchase price\n",
    "    n = zero_coupon_model.n; # compounding periods per year\n",
    "\n",
    "    # what is the discount rate used in pricing?\n",
    "    r̄ = n*((1 + Y*T)^(1/(n*T)) - 1);\n",
    "end"
   ]
  },
  {
   "cell_type": "markdown",
   "id": "75336163",
   "metadata": {},
   "source": [
    "Let's check: Is the estimated discount rates the same as the discount rate used in pricing the instrument at auction?"
   ]
  },
  {
   "cell_type": "code",
   "execution_count": 8,
   "id": "eeb6ab8d",
   "metadata": {},
   "outputs": [
    {
     "ename": "AssertionError",
     "evalue": "AssertionError: isapprox(r̂, zero_coupon_model.rate; atol = 1.0e-6)",
     "output_type": "error",
     "traceback": [
      "AssertionError: isapprox(r̂, zero_coupon_model.rate; atol = 1.0e-6)\n",
      "\n",
      "Stacktrace:\n",
      " [1] top-level scope\n",
      "   @ ~/Desktop/julia_work/CHEME-5660-CourseRepository-Fall-2025/lectures/week-3/L3a/jl_notebook_cell_df34fa98e69747e1a8f8a730347b8e2f_X31sZmlsZQ==.jl:1"
     ]
    }
   ],
   "source": [
    "@assert isapprox(r̂, zero_coupon_model.rate; atol=1e-6)"
   ]
  },
  {
   "cell_type": "markdown",
   "id": "ba29a0fa-c296-4d54-84f3-de9af9d6bf16",
   "metadata": {},
   "source": [
    "## Disclaimer and Risks\n",
    "__This content is offered solely for training and informational purposes__. No offer or solicitation to buy or sell securities or derivative products or any investment or trading advice or strategy is made, given, or endorsed by the teaching team. \n",
    "\n",
    "__Trading involves risk__. Carefully review your financial situation before investing in securities, futures contracts, options, or commodity interests. Past performance, whether actual or indicated by historical tests of strategies, is no guarantee of future performance or success. Trading is generally inappropriate for someone with limited resources, investment or trading experience, or a low-risk tolerance.  Only risk capital that is not required for living expenses.\n",
    "\n",
    "__You are fully responsible for any investment or trading decisions you make__. Such decisions should be based solely on evaluating your financial circumstances, investment or trading objectives, risk tolerance, and liquidity needs.\n",
    "___"
   ]
  }
 ],
 "metadata": {
  "kernelspec": {
   "display_name": "Julia 1.11.6",
   "language": "julia",
   "name": "julia-1.11"
  },
  "language_info": {
   "file_extension": ".jl",
   "mimetype": "application/julia",
   "name": "julia",
   "version": "1.11.6"
  }
 },
 "nbformat": 4,
 "nbformat_minor": 5
}
